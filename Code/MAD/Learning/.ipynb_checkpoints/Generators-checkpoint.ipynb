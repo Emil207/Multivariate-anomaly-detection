{
 "cells": [
  {
   "cell_type": "markdown",
   "metadata": {},
   "source": [
    "## Import"
   ]
  },
  {
   "cell_type": "code",
   "execution_count": 1,
   "metadata": {},
   "outputs": [],
   "source": [
    "%reload_ext tensorboard\n",
    "\n",
    "from numpy import array\n",
    "import tensorflow as tf\n",
    "from tensorflow.keras import Sequential\n",
    "from tensorflow.keras import Model\n",
    "from tensorflow.keras import layers\n",
    "import datetime"
   ]
  },
  {
   "cell_type": "markdown",
   "metadata": {
    "heading_collapsed": true
   },
   "source": [
    "## Univariate, single step"
   ]
  },
  {
   "cell_type": "code",
   "execution_count": 6,
   "metadata": {
    "hidden": true
   },
   "outputs": [],
   "source": [
    "# split a sequence into samples\n",
    "def split_sequence(sequence, n_steps):\n",
    "    X, y = list(), list()\n",
    "    for i in range(len(sequence)):\n",
    "        # find the end of this pattern\n",
    "        end_ix = i + n_steps\n",
    "        # check if we are beyond the sequence\n",
    "        if end_ix > len(sequence)-1:\n",
    "            break\n",
    "        # gather input and output parts of the pattern\n",
    "        seq_x, seq_y = sequence[i:end_ix], sequence[end_ix]\n",
    "        X.append(seq_x)\n",
    "        y.append(seq_y)\n",
    "    return np.array(X), np.array(y)"
   ]
  },
  {
   "cell_type": "code",
   "execution_count": 7,
   "metadata": {
    "hidden": true
   },
   "outputs": [],
   "source": [
    "# samples = 1\n",
    "timesteps = 2\n",
    "features = 1"
   ]
  },
  {
   "cell_type": "code",
   "execution_count": 8,
   "metadata": {
    "hidden": true
   },
   "outputs": [],
   "source": [
    "#generated_series = np.random.normal(size=[samples, timesteps, features])\n",
    "series = np.array([10, 20, 30, 40, 50, 60])"
   ]
  },
  {
   "cell_type": "code",
   "execution_count": 9,
   "metadata": {
    "hidden": true
   },
   "outputs": [],
   "source": [
    "X, y = split_sequence(series, timesteps)"
   ]
  },
  {
   "cell_type": "code",
   "execution_count": 10,
   "metadata": {
    "hidden": true
   },
   "outputs": [],
   "source": [
    "samples = X.shape[0]"
   ]
  },
  {
   "cell_type": "code",
   "execution_count": 11,
   "metadata": {
    "hidden": true
   },
   "outputs": [],
   "source": [
    "X = X.reshape((samples, timesteps, features))"
   ]
  },
  {
   "cell_type": "code",
   "execution_count": 12,
   "metadata": {
    "hidden": true
   },
   "outputs": [],
   "source": [
    "def create_generator(timesteps, features):\n",
    "    model = Sequential()\n",
    "    model.add(layers.LSTM(50, activation='relu',input_shape=(timesteps, features), return_sequences=True))\n",
    "    model.add(layers.LSTM(50, activation='relu',input_shape=(timesteps, features), return_sequences=False))\n",
    "    model.add(layers.Dense(1))\n",
    "    model.compile(loss='mse', optimizer='adam')\n",
    "    return model\n",
    "generator = create_generator(timesteps, features)"
   ]
  },
  {
   "cell_type": "code",
   "execution_count": 13,
   "metadata": {
    "hidden": true
   },
   "outputs": [],
   "source": [
    "log_dir=\"logs/fit/\" + datetime.datetime.now().strftime(\"%Y%m%d-%H%M%S\")\n",
    "tensorboard_callback = tf.keras.callbacks.TensorBoard(log_dir=log_dir, histogram_freq=1)"
   ]
  },
  {
   "cell_type": "code",
   "execution_count": 14,
   "metadata": {
    "hidden": true
   },
   "outputs": [
    {
     "name": "stdout",
     "output_type": "stream",
     "text": [
      "Train on 4 samples\n",
      "Epoch 1/200\n",
      "4/4 [==============================] - 2s 514ms/sample - loss: 2144.2141\n",
      "Epoch 2/200\n",
      "4/4 [==============================] - 0s 13ms/sample - loss: 2137.6548\n",
      "Epoch 3/200\n",
      "4/4 [==============================] - 0s 2ms/sample - loss: 2131.0342\n",
      "Epoch 4/200\n",
      "4/4 [==============================] - 0s 3ms/sample - loss: 2124.1562\n",
      "Epoch 5/200\n",
      "4/4 [==============================] - 0s 2ms/sample - loss: 2117.0474\n",
      "Epoch 6/200\n",
      "4/4 [==============================] - 0s 3ms/sample - loss: 2109.9268\n",
      "Epoch 7/200\n",
      "4/4 [==============================] - 0s 2ms/sample - loss: 2102.5952\n",
      "Epoch 8/200\n",
      "4/4 [==============================] - 0s 2ms/sample - loss: 2095.1787\n",
      "Epoch 9/200\n",
      "4/4 [==============================] - 0s 3ms/sample - loss: 2086.9331\n",
      "Epoch 10/200\n",
      "4/4 [==============================] - 0s 3ms/sample - loss: 2077.7258\n",
      "Epoch 11/200\n",
      "4/4 [==============================] - 0s 2ms/sample - loss: 2067.3413\n",
      "Epoch 12/200\n",
      "4/4 [==============================] - 0s 2ms/sample - loss: 2055.7122\n",
      "Epoch 13/200\n",
      "4/4 [==============================] - 0s 2ms/sample - loss: 2042.4392\n",
      "Epoch 14/200\n",
      "4/4 [==============================] - 0s 2ms/sample - loss: 2027.3823\n",
      "Epoch 15/200\n",
      "4/4 [==============================] - 0s 2ms/sample - loss: 2009.8480\n",
      "Epoch 16/200\n",
      "4/4 [==============================] - 0s 2ms/sample - loss: 1990.0352\n",
      "Epoch 17/200\n",
      "4/4 [==============================] - 0s 2ms/sample - loss: 1967.6323\n",
      "Epoch 18/200\n",
      "4/4 [==============================] - 0s 3ms/sample - loss: 1942.3500\n",
      "Epoch 19/200\n",
      "4/4 [==============================] - 0s 3ms/sample - loss: 1913.8633\n",
      "Epoch 20/200\n",
      "4/4 [==============================] - 0s 2ms/sample - loss: 1881.8540\n",
      "Epoch 21/200\n",
      "4/4 [==============================] - 0s 2ms/sample - loss: 1846.0067\n",
      "Epoch 22/200\n",
      "4/4 [==============================] - 0s 2ms/sample - loss: 1806.0123\n",
      "Epoch 23/200\n",
      "4/4 [==============================] - 0s 2ms/sample - loss: 1761.6002\n",
      "Epoch 24/200\n",
      "4/4 [==============================] - 0s 2ms/sample - loss: 1712.5518\n",
      "Epoch 25/200\n",
      "4/4 [==============================] - 0s 3ms/sample - loss: 1658.7059\n",
      "Epoch 26/200\n",
      "4/4 [==============================] - 0s 3ms/sample - loss: 1599.9585\n",
      "Epoch 27/200\n",
      "4/4 [==============================] - 0s 2ms/sample - loss: 1536.3184\n",
      "Epoch 28/200\n",
      "4/4 [==============================] - 0s 2ms/sample - loss: 1467.8488\n",
      "Epoch 29/200\n",
      "4/4 [==============================] - 0s 2ms/sample - loss: 1394.6942\n",
      "Epoch 30/200\n",
      "4/4 [==============================] - 0s 2ms/sample - loss: 1317.0540\n",
      "Epoch 31/200\n",
      "4/4 [==============================] - 0s 2ms/sample - loss: 1235.2910\n",
      "Epoch 32/200\n",
      "4/4 [==============================] - 0s 2ms/sample - loss: 1149.7511\n",
      "Epoch 33/200\n",
      "4/4 [==============================] - 0s 2ms/sample - loss: 1060.8058\n",
      "Epoch 34/200\n",
      "4/4 [==============================] - 0s 2ms/sample - loss: 968.8630\n",
      "Epoch 35/200\n",
      "4/4 [==============================] - 0s 2ms/sample - loss: 874.4111\n",
      "Epoch 36/200\n",
      "4/4 [==============================] - 0s 2ms/sample - loss: 778.1044\n",
      "Epoch 37/200\n",
      "4/4 [==============================] - 0s 2ms/sample - loss: 680.8901\n",
      "Epoch 38/200\n",
      "4/4 [==============================] - 0s 2ms/sample - loss: 584.1251\n",
      "Epoch 39/200\n",
      "4/4 [==============================] - 0s 2ms/sample - loss: 489.6118\n",
      "Epoch 40/200\n",
      "4/4 [==============================] - 0s 2ms/sample - loss: 399.5272\n",
      "Epoch 41/200\n",
      "4/4 [==============================] - 0s 2ms/sample - loss: 316.2946\n",
      "Epoch 42/200\n",
      "4/4 [==============================] - 0s 2ms/sample - loss: 242.5012\n",
      "Epoch 43/200\n",
      "4/4 [==============================] - 0s 2ms/sample - loss: 180.9015\n",
      "Epoch 44/200\n",
      "4/4 [==============================] - 0s 2ms/sample - loss: 134.4258\n",
      "Epoch 45/200\n",
      "4/4 [==============================] - 0s 2ms/sample - loss: 105.9746\n",
      "Epoch 46/200\n",
      "4/4 [==============================] - 0s 2ms/sample - loss: 97.6734\n",
      "Epoch 47/200\n",
      "4/4 [==============================] - 0s 2ms/sample - loss: 108.5511\n",
      "Epoch 48/200\n",
      "4/4 [==============================] - 0s 3ms/sample - loss: 131.7053\n",
      "Epoch 49/200\n",
      "4/4 [==============================] - 0s 3ms/sample - loss: 156.8554\n",
      "Epoch 50/200\n",
      "4/4 [==============================] - 0s 3ms/sample - loss: 175.5583\n",
      "Epoch 51/200\n",
      "4/4 [==============================] - 0s 2ms/sample - loss: 183.8154\n",
      "Epoch 52/200\n",
      "4/4 [==============================] - 0s 2ms/sample - loss: 181.6060\n",
      "Epoch 53/200\n",
      "4/4 [==============================] - 0s 2ms/sample - loss: 171.1297\n",
      "Epoch 54/200\n",
      "4/4 [==============================] - 0s 2ms/sample - loss: 155.3847\n",
      "Epoch 55/200\n",
      "4/4 [==============================] - 0s 3ms/sample - loss: 137.3734\n",
      "Epoch 56/200\n",
      "4/4 [==============================] - 0s 3ms/sample - loss: 119.6471\n",
      "Epoch 57/200\n",
      "4/4 [==============================] - 0s 3ms/sample - loss: 104.0450\n",
      "Epoch 58/200\n",
      "4/4 [==============================] - 0s 2ms/sample - loss: 91.6181\n",
      "Epoch 59/200\n",
      "4/4 [==============================] - 0s 3ms/sample - loss: 82.7070\n",
      "Epoch 60/200\n",
      "4/4 [==============================] - 0s 3ms/sample - loss: 77.1105\n",
      "Epoch 61/200\n",
      "4/4 [==============================] - 0s 3ms/sample - loss: 74.2802\n",
      "Epoch 62/200\n",
      "4/4 [==============================] - 0s 3ms/sample - loss: 73.4987\n",
      "Epoch 63/200\n",
      "4/4 [==============================] - 0s 3ms/sample - loss: 74.0176\n",
      "Epoch 64/200\n",
      "4/4 [==============================] - 0s 3ms/sample - loss: 75.1512\n",
      "Epoch 65/200\n",
      "4/4 [==============================] - 0s 2ms/sample - loss: 76.3302\n",
      "Epoch 66/200\n",
      "4/4 [==============================] - 0s 2ms/sample - loss: 77.1246\n",
      "Epoch 67/200\n",
      "4/4 [==============================] - 0s 3ms/sample - loss: 77.2465\n",
      "Epoch 68/200\n",
      "4/4 [==============================] - 0s 2ms/sample - loss: 76.5392\n",
      "Epoch 69/200\n",
      "4/4 [==============================] - 0s 2ms/sample - loss: 74.9600\n",
      "Epoch 70/200\n",
      "4/4 [==============================] - 0s 2ms/sample - loss: 72.5601\n",
      "Epoch 71/200\n",
      "4/4 [==============================] - 0s 2ms/sample - loss: 69.4637\n",
      "Epoch 72/200\n",
      "4/4 [==============================] - 0s 3ms/sample - loss: 65.8491\n",
      "Epoch 73/200\n",
      "4/4 [==============================] - 0s 2ms/sample - loss: 61.9317\n",
      "Epoch 74/200\n",
      "4/4 [==============================] - 0s 2ms/sample - loss: 57.9507\n",
      "Epoch 75/200\n",
      "4/4 [==============================] - 0s 3ms/sample - loss: 54.1612\n",
      "Epoch 76/200\n",
      "4/4 [==============================] - 0s 2ms/sample - loss: 50.8317\n",
      "Epoch 77/200\n",
      "4/4 [==============================] - 0s 2ms/sample - loss: 48.2371\n",
      "Epoch 78/200\n",
      "4/4 [==============================] - 0s 2ms/sample - loss: 46.5713\n",
      "Epoch 79/200\n",
      "4/4 [==============================] - 0s 2ms/sample - loss: 45.7058\n",
      "Epoch 80/200\n",
      "4/4 [==============================] - 0s 2ms/sample - loss: 45.2311\n",
      "Epoch 81/200\n",
      "4/4 [==============================] - 0s 2ms/sample - loss: 44.7051\n",
      "Epoch 82/200\n",
      "4/4 [==============================] - 0s 2ms/sample - loss: 43.7985\n",
      "Epoch 83/200\n",
      "4/4 [==============================] - 0s 2ms/sample - loss: 42.3890\n",
      "Epoch 84/200\n",
      "4/4 [==============================] - 0s 2ms/sample - loss: 40.5462\n",
      "Epoch 85/200\n",
      "4/4 [==============================] - 0s 3ms/sample - loss: 38.4424\n",
      "Epoch 86/200\n",
      "4/4 [==============================] - 0s 2ms/sample - loss: 36.2616\n",
      "Epoch 87/200\n",
      "4/4 [==============================] - 0s 2ms/sample - loss: 34.1519\n",
      "Epoch 88/200\n",
      "4/4 [==============================] - 0s 2ms/sample - loss: 32.2091\n",
      "Epoch 89/200\n",
      "4/4 [==============================] - 0s 2ms/sample - loss: 30.4697\n",
      "Epoch 90/200\n",
      "4/4 [==============================] - 0s 2ms/sample - loss: 28.9200\n",
      "Epoch 91/200\n",
      "4/4 [==============================] - 0s 2ms/sample - loss: 27.5086\n",
      "Epoch 92/200\n",
      "4/4 [==============================] - 0s 2ms/sample - loss: 26.1690\n",
      "Epoch 93/200\n",
      "4/4 [==============================] - 0s 2ms/sample - loss: 24.8382\n",
      "Epoch 94/200\n",
      "4/4 [==============================] - 0s 2ms/sample - loss: 23.4726\n",
      "Epoch 95/200\n",
      "4/4 [==============================] - 0s 2ms/sample - loss: 22.0582\n",
      "Epoch 96/200\n",
      "4/4 [==============================] - 0s 2ms/sample - loss: 20.6131\n",
      "Epoch 97/200\n",
      "4/4 [==============================] - 0s 2ms/sample - loss: 19.1756\n",
      "Epoch 98/200\n",
      "4/4 [==============================] - 0s 3ms/sample - loss: 17.7936\n",
      "Epoch 99/200\n",
      "4/4 [==============================] - 0s 3ms/sample - loss: 16.5120\n"
     ]
    },
    {
     "name": "stdout",
     "output_type": "stream",
     "text": [
      "Epoch 100/200\n",
      "4/4 [==============================] - 0s 3ms/sample - loss: 15.3521\n",
      "Epoch 101/200\n",
      "4/4 [==============================] - 0s 3ms/sample - loss: 14.2980\n",
      "Epoch 102/200\n",
      "4/4 [==============================] - 0s 3ms/sample - loss: 13.3100\n",
      "Epoch 103/200\n",
      "4/4 [==============================] - 0s 3ms/sample - loss: 12.3487\n",
      "Epoch 104/200\n",
      "4/4 [==============================] - 0s 2ms/sample - loss: 11.3959\n",
      "Epoch 105/200\n",
      "4/4 [==============================] - 0s 2ms/sample - loss: 10.4616\n",
      "Epoch 106/200\n",
      "4/4 [==============================] - 0s 2ms/sample - loss: 9.5747\n",
      "Epoch 107/200\n",
      "4/4 [==============================] - 0s 2ms/sample - loss: 8.7664\n",
      "Epoch 108/200\n",
      "4/4 [==============================] - 0s 2ms/sample - loss: 8.0545\n",
      "Epoch 109/200\n",
      "4/4 [==============================] - 0s 2ms/sample - loss: 7.4373\n",
      "Epoch 110/200\n",
      "4/4 [==============================] - 0s 2ms/sample - loss: 6.8978\n",
      "Epoch 111/200\n",
      "4/4 [==============================] - 0s 2ms/sample - loss: 6.4148\n",
      "Epoch 112/200\n",
      "4/4 [==============================] - 0s 2ms/sample - loss: 5.9737\n",
      "Epoch 113/200\n",
      "4/4 [==============================] - 0s 2ms/sample - loss: 5.5720\n",
      "Epoch 114/200\n",
      "4/4 [==============================] - 0s 2ms/sample - loss: 5.2172\n",
      "Epoch 115/200\n",
      "4/4 [==============================] - 0s 2ms/sample - loss: 4.9188\n",
      "Epoch 116/200\n",
      "4/4 [==============================] - 0s 2ms/sample - loss: 4.6772\n",
      "Epoch 117/200\n",
      "4/4 [==============================] - 0s 2ms/sample - loss: 4.4782\n",
      "Epoch 118/200\n",
      "4/4 [==============================] - 0s 2ms/sample - loss: 4.2977\n",
      "Epoch 119/200\n",
      "4/4 [==============================] - 0s 2ms/sample - loss: 4.1178\n",
      "Epoch 120/200\n",
      "4/4 [==============================] - 0s 2ms/sample - loss: 3.9377\n",
      "Epoch 121/200\n",
      "4/4 [==============================] - 0s 2ms/sample - loss: 3.7674\n",
      "Epoch 122/200\n",
      "4/4 [==============================] - 0s 2ms/sample - loss: 3.6139\n",
      "Epoch 123/200\n",
      "4/4 [==============================] - 0s 3ms/sample - loss: 3.4740\n",
      "Epoch 124/200\n",
      "4/4 [==============================] - 0s 2ms/sample - loss: 3.3377\n",
      "Epoch 125/200\n",
      "4/4 [==============================] - 0s 3ms/sample - loss: 3.1956\n",
      "Epoch 126/200\n",
      "4/4 [==============================] - 0s 3ms/sample - loss: 3.0447\n",
      "Epoch 127/200\n",
      "4/4 [==============================] - 0s 3ms/sample - loss: 2.8893\n",
      "Epoch 128/200\n",
      "4/4 [==============================] - 0s 3ms/sample - loss: 2.7363\n",
      "Epoch 129/200\n",
      "4/4 [==============================] - 0s 3ms/sample - loss: 2.5909\n",
      "Epoch 130/200\n",
      "4/4 [==============================] - 0s 3ms/sample - loss: 2.4540\n",
      "Epoch 131/200\n",
      "4/4 [==============================] - 0s 2ms/sample - loss: 2.3225\n",
      "Epoch 132/200\n",
      "4/4 [==============================] - 0s 3ms/sample - loss: 2.1937\n",
      "Epoch 133/200\n",
      "4/4 [==============================] - 0s 3ms/sample - loss: 2.0670\n",
      "Epoch 134/200\n",
      "4/4 [==============================] - 0s 3ms/sample - loss: 1.9441\n",
      "Epoch 135/200\n",
      "4/4 [==============================] - 0s 2ms/sample - loss: 1.8280\n",
      "Epoch 136/200\n",
      "4/4 [==============================] - 0s 3ms/sample - loss: 1.7203\n",
      "Epoch 137/200\n",
      "4/4 [==============================] - 0s 2ms/sample - loss: 1.6209\n",
      "Epoch 138/200\n",
      "4/4 [==============================] - 0s 2ms/sample - loss: 1.5283\n",
      "Epoch 139/200\n",
      "4/4 [==============================] - 0s 2ms/sample - loss: 1.4409\n",
      "Epoch 140/200\n",
      "4/4 [==============================] - 0s 2ms/sample - loss: 1.3577\n",
      "Epoch 141/200\n",
      "4/4 [==============================] - 0s 3ms/sample - loss: 1.2785\n",
      "Epoch 142/200\n",
      "4/4 [==============================] - 0s 3ms/sample - loss: 1.2041\n",
      "Epoch 143/200\n",
      "4/4 [==============================] - 0s 3ms/sample - loss: 1.1348\n",
      "Epoch 144/200\n",
      "4/4 [==============================] - 0s 3ms/sample - loss: 1.0706\n",
      "Epoch 145/200\n",
      "4/4 [==============================] - 0s 3ms/sample - loss: 1.0104\n",
      "Epoch 146/200\n",
      "4/4 [==============================] - 0s 3ms/sample - loss: 0.9532\n",
      "Epoch 147/200\n",
      "4/4 [==============================] - 0s 3ms/sample - loss: 0.8980\n",
      "Epoch 148/200\n",
      "4/4 [==============================] - 0s 3ms/sample - loss: 0.8447\n",
      "Epoch 149/200\n",
      "4/4 [==============================] - 0s 3ms/sample - loss: 0.7938\n",
      "Epoch 150/200\n",
      "4/4 [==============================] - 0s 3ms/sample - loss: 0.7459\n",
      "Epoch 151/200\n",
      "4/4 [==============================] - 0s 3ms/sample - loss: 0.7011\n",
      "Epoch 152/200\n",
      "4/4 [==============================] - 0s 2ms/sample - loss: 0.6588\n",
      "Epoch 153/200\n",
      "4/4 [==============================] - 0s 2ms/sample - loss: 0.6187\n",
      "Epoch 154/200\n",
      "4/4 [==============================] - 0s 2ms/sample - loss: 0.5802\n",
      "Epoch 155/200\n",
      "4/4 [==============================] - 0s 2ms/sample - loss: 0.5434\n",
      "Epoch 156/200\n",
      "4/4 [==============================] - 0s 2ms/sample - loss: 0.5088\n",
      "Epoch 157/200\n",
      "4/4 [==============================] - 0s 2ms/sample - loss: 0.4765\n",
      "Epoch 158/200\n",
      "4/4 [==============================] - 0s 2ms/sample - loss: 0.4465\n",
      "Epoch 159/200\n",
      "4/4 [==============================] - 0s 3ms/sample - loss: 0.4186\n",
      "Epoch 160/200\n",
      "4/4 [==============================] - 0s 2ms/sample - loss: 0.3923\n",
      "Epoch 161/200\n",
      "4/4 [==============================] - 0s 2ms/sample - loss: 0.3676\n",
      "Epoch 162/200\n",
      "4/4 [==============================] - 0s 2ms/sample - loss: 0.3446\n",
      "Epoch 163/200\n",
      "4/4 [==============================] - 0s 2ms/sample - loss: 0.3234\n",
      "Epoch 164/200\n",
      "4/4 [==============================] - 0s 2ms/sample - loss: 0.3040\n",
      "Epoch 165/200\n",
      "4/4 [==============================] - 0s 2ms/sample - loss: 0.2863\n",
      "Epoch 166/200\n",
      "4/4 [==============================] - 0s 2ms/sample - loss: 0.2700\n",
      "Epoch 167/200\n",
      "4/4 [==============================] - 0s 2ms/sample - loss: 0.2551\n",
      "Epoch 168/200\n",
      "4/4 [==============================] - 0s 2ms/sample - loss: 0.2413\n",
      "Epoch 169/200\n",
      "4/4 [==============================] - 0s 2ms/sample - loss: 0.2287\n",
      "Epoch 170/200\n",
      "4/4 [==============================] - 0s 2ms/sample - loss: 0.2173\n",
      "Epoch 171/200\n",
      "4/4 [==============================] - 0s 2ms/sample - loss: 0.2070\n",
      "Epoch 172/200\n",
      "4/4 [==============================] - 0s 3ms/sample - loss: 0.1977\n",
      "Epoch 173/200\n",
      "4/4 [==============================] - 0s 2ms/sample - loss: 0.1892\n",
      "Epoch 174/200\n",
      "4/4 [==============================] - 0s 2ms/sample - loss: 0.1813\n",
      "Epoch 175/200\n",
      "4/4 [==============================] - 0s 2ms/sample - loss: 0.1742\n",
      "Epoch 176/200\n",
      "4/4 [==============================] - 0s 2ms/sample - loss: 0.1677\n",
      "Epoch 177/200\n",
      "4/4 [==============================] - 0s 2ms/sample - loss: 0.1618\n",
      "Epoch 178/200\n",
      "4/4 [==============================] - 0s 2ms/sample - loss: 0.1565\n",
      "Epoch 179/200\n",
      "4/4 [==============================] - 0s 2ms/sample - loss: 0.1517\n",
      "Epoch 180/200\n",
      "4/4 [==============================] - 0s 2ms/sample - loss: 0.1473\n",
      "Epoch 181/200\n",
      "4/4 [==============================] - 0s 2ms/sample - loss: 0.1433\n",
      "Epoch 182/200\n",
      "4/4 [==============================] - 0s 2ms/sample - loss: 0.1396\n",
      "Epoch 183/200\n",
      "4/4 [==============================] - 0s 2ms/sample - loss: 0.1363\n",
      "Epoch 184/200\n",
      "4/4 [==============================] - 0s 2ms/sample - loss: 0.1334\n",
      "Epoch 185/200\n",
      "4/4 [==============================] - 0s 2ms/sample - loss: 0.1306\n",
      "Epoch 186/200\n",
      "4/4 [==============================] - 0s 2ms/sample - loss: 0.1282\n",
      "Epoch 187/200\n",
      "4/4 [==============================] - 0s 2ms/sample - loss: 0.1259\n",
      "Epoch 188/200\n",
      "4/4 [==============================] - 0s 2ms/sample - loss: 0.1238\n",
      "Epoch 189/200\n",
      "4/4 [==============================] - 0s 2ms/sample - loss: 0.1219\n",
      "Epoch 190/200\n",
      "4/4 [==============================] - 0s 2ms/sample - loss: 0.1202\n",
      "Epoch 191/200\n",
      "4/4 [==============================] - 0s 2ms/sample - loss: 0.1186\n",
      "Epoch 192/200\n",
      "4/4 [==============================] - 0s 2ms/sample - loss: 0.1171\n",
      "Epoch 193/200\n",
      "4/4 [==============================] - 0s 2ms/sample - loss: 0.1157\n",
      "Epoch 194/200\n",
      "4/4 [==============================] - 0s 2ms/sample - loss: 0.1145\n",
      "Epoch 195/200\n",
      "4/4 [==============================] - 0s 2ms/sample - loss: 0.1133\n",
      "Epoch 196/200\n",
      "4/4 [==============================] - 0s 2ms/sample - loss: 0.1121\n",
      "Epoch 197/200\n",
      "4/4 [==============================] - 0s 2ms/sample - loss: 0.1111\n",
      "Epoch 198/200\n",
      "4/4 [==============================] - 0s 2ms/sample - loss: 0.1101\n",
      "Epoch 199/200\n",
      "4/4 [==============================] - 0s 2ms/sample - loss: 0.1091\n"
     ]
    },
    {
     "name": "stdout",
     "output_type": "stream",
     "text": [
      "Epoch 200/200\n",
      "4/4 [==============================] - 0s 2ms/sample - loss: 0.1082\n"
     ]
    },
    {
     "data": {
      "text/plain": [
       "<tensorflow.python.keras.callbacks.History at 0x63a88bf10>"
      ]
     },
     "execution_count": 14,
     "metadata": {},
     "output_type": "execute_result"
    }
   ],
   "source": [
    "generator.fit(X, y, epochs = 200, callbacks=[tensorboard_callback])"
   ]
  },
  {
   "cell_type": "code",
   "execution_count": 20,
   "metadata": {
    "hidden": true
   },
   "outputs": [
    {
     "data": {
      "text/plain": [
       "array([[71.80856]], dtype=float32)"
      ]
     },
     "execution_count": 20,
     "metadata": {},
     "output_type": "execute_result"
    }
   ],
   "source": [
    "x_input = np.array([50, 60])\n",
    "x_input = x_input.reshape(1, timesteps, features)\n",
    "x_input = tf.convert_to_tensor(x_input, dtype=tf.float32)\n",
    "generator.predict(x_input)"
   ]
  },
  {
   "cell_type": "markdown",
   "metadata": {
    "heading_collapsed": true,
    "hidden": true
   },
   "source": [
    "###  Tensorboard"
   ]
  },
  {
   "cell_type": "code",
   "execution_count": 15,
   "metadata": {
    "hidden": true
   },
   "outputs": [
    {
     "data": {
      "text/html": [
       "\n",
       "      <iframe id=\"tensorboard-frame-978d8bb38e8aeca\" width=\"100%\" height=\"800\" frameborder=\"0\">\n",
       "      </iframe>\n",
       "      <script>\n",
       "        (function() {\n",
       "          const frame = document.getElementById(\"tensorboard-frame-978d8bb38e8aeca\");\n",
       "          const url = new URL(\"/\", window.location);\n",
       "          url.port = 6008;\n",
       "          frame.src = url;\n",
       "        })();\n",
       "      </script>\n",
       "  "
      ],
      "text/plain": [
       "<IPython.core.display.HTML object>"
      ]
     },
     "metadata": {},
     "output_type": "display_data"
    }
   ],
   "source": [
    "%tensorboard --logdir logs/fit"
   ]
  },
  {
   "cell_type": "markdown",
   "metadata": {
    "heading_collapsed": true
   },
   "source": [
    "## Multivariate, single step"
   ]
  },
  {
   "cell_type": "code",
   "execution_count": 21,
   "metadata": {
    "hidden": true
   },
   "outputs": [],
   "source": [
    "# split a multivariate sequence into samples\n",
    "def split_sequences(sequences, n_steps):\n",
    "    X, y = list(), list()\n",
    "    for i in range(len(sequences)):\n",
    "        # find the end of this pattern\n",
    "        end_ix = i + n_steps\n",
    "        # check if we are beyond the dataset\n",
    "        if end_ix > len(sequences)-1:\n",
    "            break\n",
    "        # gather input and output parts of the pattern\n",
    "        seq_x, seq_y = sequences[i:end_ix, :], sequences[end_ix, :]\n",
    "        X.append(seq_x)\n",
    "        y.append(seq_y)\n",
    "    return np.array(X), np.array(y)"
   ]
  },
  {
   "cell_type": "code",
   "execution_count": 22,
   "metadata": {
    "hidden": true
   },
   "outputs": [],
   "source": [
    "# samples = 1\n",
    "timesteps = 2\n",
    "#features = 1"
   ]
  },
  {
   "cell_type": "code",
   "execution_count": 23,
   "metadata": {
    "hidden": true
   },
   "outputs": [],
   "source": [
    "#generated_series = np.random.normal(size=[samples, timesteps, features])\n",
    "# define input sequence\n",
    "in_seq1 = np.array([10, 20, 30, 40, 50, 60, 70, 80, 90])\n",
    "in_seq2 = np.array([15, 25, 35, 45, 55, 65, 75, 85, 95])\n",
    "out_seq = np.array([in_seq1[i]+in_seq2[i] for i in range(len(in_seq1))])\n",
    "# convert to [rows, columns] structure\n",
    "in_seq1 = in_seq1.reshape((len(in_seq1), 1))\n",
    "in_seq2 = in_seq2.reshape((len(in_seq2), 1))\n",
    "out_seq = out_seq.reshape((len(out_seq), 1))\n",
    "# horizontally stack columns\n",
    "series = np.hstack((in_seq1, in_seq2, out_seq))"
   ]
  },
  {
   "cell_type": "code",
   "execution_count": 24,
   "metadata": {
    "hidden": true
   },
   "outputs": [],
   "source": [
    "X, y = split_sequence(series, timesteps)"
   ]
  },
  {
   "cell_type": "code",
   "execution_count": 25,
   "metadata": {
    "hidden": true
   },
   "outputs": [],
   "source": [
    "samples = X.shape[0]\n",
    "features = X.shape[2]"
   ]
  },
  {
   "cell_type": "code",
   "execution_count": 26,
   "metadata": {
    "hidden": true
   },
   "outputs": [],
   "source": [
    "X = X.reshape((samples, timesteps, features))"
   ]
  },
  {
   "cell_type": "code",
   "execution_count": 27,
   "metadata": {
    "hidden": true
   },
   "outputs": [],
   "source": [
    "def create_generator(timesteps, features):\n",
    "    model = Sequential()\n",
    "    model.add(layers.LSTM(50, activation='relu',input_shape=(timesteps, features), return_sequences=True))\n",
    "    model.add(layers.LSTM(50, activation='relu',input_shape=(timesteps, features), return_sequences=False))\n",
    "    model.add(layers.Dense(features))\n",
    "    model.compile(loss='mse', optimizer='adam')\n",
    "    return model\n",
    "generator = create_generator(timesteps, features)"
   ]
  },
  {
   "cell_type": "code",
   "execution_count": 31,
   "metadata": {
    "hidden": true
   },
   "outputs": [],
   "source": [
    "#generator.fit(X, y, epochs = 200)"
   ]
  },
  {
   "cell_type": "code",
   "execution_count": 29,
   "metadata": {
    "hidden": true
   },
   "outputs": [
    {
     "data": {
      "text/plain": [
       "array([[100.87643, 105.61889, 205.69478]], dtype=float32)"
      ]
     },
     "execution_count": 29,
     "metadata": {},
     "output_type": "execute_result"
    }
   ],
   "source": [
    "x_input = np.array([[80,85,165], [90,95,185]])\n",
    "x_input = x_input.reshape((1, timesteps, features))\n",
    "x_input = tf.convert_to_tensor(x_input, dtype=tf.float32)\n",
    "generator.predict(x_input)"
   ]
  },
  {
   "cell_type": "markdown",
   "metadata": {
    "heading_collapsed": true
   },
   "source": [
    "## Univariate, multi-step"
   ]
  },
  {
   "cell_type": "code",
   "execution_count": 33,
   "metadata": {
    "hidden": true
   },
   "outputs": [],
   "source": [
    "# split a univariate sequence into samples\n",
    "def split_sequence(sequence, n_steps_in, n_steps_out):\n",
    "    X, y = list(), list()\n",
    "    for i in range(len(sequence)):\n",
    "        # find the end of this pattern\n",
    "        end_ix = i + n_steps_in\n",
    "        out_end_ix = end_ix + n_steps_out\n",
    "        # check if we are beyond the sequence\n",
    "        if out_end_ix > len(sequence):\n",
    "            break\n",
    "        # gather input and output parts of the pattern\n",
    "        seq_x, seq_y = sequence[i:end_ix], sequence[end_ix:out_end_ix]\n",
    "        X.append(seq_x)\n",
    "        y.append(seq_y)\n",
    "    return np.array(X), np.array(y)"
   ]
  },
  {
   "cell_type": "code",
   "execution_count": 34,
   "metadata": {
    "hidden": true
   },
   "outputs": [],
   "source": [
    "# samples = 1\n",
    "timesteps = 2\n",
    "features = 1"
   ]
  },
  {
   "cell_type": "code",
   "execution_count": 35,
   "metadata": {
    "code_folding": [],
    "hidden": true
   },
   "outputs": [],
   "source": [
    "#generated_series = np.random.normal(size=[samples, timesteps, features])\n",
    "# define input sequence\n",
    "series = [10, 20, 30, 40, 50, 60, 70, 80, 90]"
   ]
  },
  {
   "cell_type": "code",
   "execution_count": 36,
   "metadata": {
    "hidden": true
   },
   "outputs": [],
   "source": [
    "X, y = split_sequence(series, timesteps, timesteps)"
   ]
  },
  {
   "cell_type": "code",
   "execution_count": 37,
   "metadata": {
    "hidden": true
   },
   "outputs": [],
   "source": [
    "samples = X.shape[0]\n",
    "#features = X.shape[2]"
   ]
  },
  {
   "cell_type": "code",
   "execution_count": 38,
   "metadata": {
    "hidden": true
   },
   "outputs": [],
   "source": [
    "X = X.reshape((samples, timesteps, features))"
   ]
  },
  {
   "cell_type": "code",
   "execution_count": 39,
   "metadata": {
    "hidden": true
   },
   "outputs": [],
   "source": [
    "def create_generator(timesteps, features):\n",
    "    model = Sequential()\n",
    "    model.add(layers.LSTM(50, activation='relu',input_shape=(timesteps, features), return_sequences=True))\n",
    "    model.add(layers.LSTM(50, activation='relu',input_shape=(timesteps, features), return_sequences=False))\n",
    "    model.add(layers.Dense(timesteps))\n",
    "    model.compile(loss='mse', optimizer='adam')\n",
    "    return model\n",
    "generator = create_generator(timesteps, features)"
   ]
  },
  {
   "cell_type": "code",
   "execution_count": 40,
   "metadata": {
    "hidden": true
   },
   "outputs": [
    {
     "name": "stdout",
     "output_type": "stream",
     "text": [
      "Train on 6 samples\n",
      "Epoch 1/200\n",
      "6/6 [==============================] - 2s 412ms/sample - loss: 3902.3118\n",
      "Epoch 2/200\n",
      "6/6 [==============================] - 0s 688us/sample - loss: 3887.4363\n",
      "Epoch 3/200\n",
      "6/6 [==============================] - 0s 651us/sample - loss: 3872.4832\n",
      "Epoch 4/200\n",
      "6/6 [==============================] - 0s 742us/sample - loss: 3857.3650\n",
      "Epoch 5/200\n",
      "6/6 [==============================] - 0s 770us/sample - loss: 3842.0339\n",
      "Epoch 6/200\n",
      "6/6 [==============================] - 0s 756us/sample - loss: 3826.3809\n",
      "Epoch 7/200\n",
      "6/6 [==============================] - 0s 766us/sample - loss: 3810.2820\n",
      "Epoch 8/200\n",
      "6/6 [==============================] - 0s 716us/sample - loss: 3793.5779\n",
      "Epoch 9/200\n",
      "6/6 [==============================] - 0s 776us/sample - loss: 3776.0828\n",
      "Epoch 10/200\n",
      "6/6 [==============================] - 0s 802us/sample - loss: 3757.7112\n",
      "Epoch 11/200\n",
      "6/6 [==============================] - 0s 690us/sample - loss: 3738.3230\n",
      "Epoch 12/200\n",
      "6/6 [==============================] - 0s 807us/sample - loss: 3717.7737\n",
      "Epoch 13/200\n",
      "6/6 [==============================] - 0s 794us/sample - loss: 3695.9600\n",
      "Epoch 14/200\n",
      "6/6 [==============================] - 0s 772us/sample - loss: 3673.0193\n",
      "Epoch 15/200\n",
      "6/6 [==============================] - 0s 797us/sample - loss: 3649.1575\n",
      "Epoch 16/200\n",
      "6/6 [==============================] - 0s 779us/sample - loss: 3623.6775\n",
      "Epoch 17/200\n",
      "6/6 [==============================] - 0s 670us/sample - loss: 3596.4043\n",
      "Epoch 18/200\n",
      "6/6 [==============================] - 0s 737us/sample - loss: 3567.0857\n",
      "Epoch 19/200\n",
      "6/6 [==============================] - 0s 750us/sample - loss: 3535.5466\n",
      "Epoch 20/200\n",
      "6/6 [==============================] - 0s 716us/sample - loss: 3501.5889\n",
      "Epoch 21/200\n",
      "6/6 [==============================] - 0s 717us/sample - loss: 3464.9734\n",
      "Epoch 22/200\n",
      "6/6 [==============================] - 0s 782us/sample - loss: 3425.4529\n",
      "Epoch 23/200\n",
      "6/6 [==============================] - 0s 724us/sample - loss: 3382.6785\n",
      "Epoch 24/200\n",
      "6/6 [==============================] - 0s 685us/sample - loss: 3336.3108\n",
      "Epoch 25/200\n",
      "6/6 [==============================] - 0s 742us/sample - loss: 3286.1853\n",
      "Epoch 26/200\n",
      "6/6 [==============================] - 0s 666us/sample - loss: 3232.0090\n",
      "Epoch 27/200\n",
      "6/6 [==============================] - 0s 738us/sample - loss: 3173.5029\n",
      "Epoch 28/200\n",
      "6/6 [==============================] - 0s 799us/sample - loss: 3110.4373\n",
      "Epoch 29/200\n",
      "6/6 [==============================] - 0s 791us/sample - loss: 3042.6184\n",
      "Epoch 30/200\n",
      "6/6 [==============================] - 0s 719us/sample - loss: 2969.8884\n",
      "Epoch 31/200\n",
      "6/6 [==============================] - 0s 784us/sample - loss: 2892.2117\n",
      "Epoch 32/200\n",
      "6/6 [==============================] - 0s 735us/sample - loss: 2809.6836\n",
      "Epoch 33/200\n",
      "6/6 [==============================] - 0s 847us/sample - loss: 2722.4875\n",
      "Epoch 34/200\n",
      "6/6 [==============================] - 0s 742us/sample - loss: 2630.8660\n",
      "Epoch 35/200\n",
      "6/6 [==============================] - 0s 754us/sample - loss: 2535.0417\n",
      "Epoch 36/200\n",
      "6/6 [==============================] - 0s 766us/sample - loss: 2435.2368\n",
      "Epoch 37/200\n",
      "6/6 [==============================] - 0s 677us/sample - loss: 2331.6321\n",
      "Epoch 38/200\n",
      "6/6 [==============================] - 0s 805us/sample - loss: 2224.3469\n",
      "Epoch 39/200\n",
      "6/6 [==============================] - 0s 761us/sample - loss: 2113.4688\n",
      "Epoch 40/200\n",
      "6/6 [==============================] - 0s 817us/sample - loss: 1999.0986\n",
      "Epoch 41/200\n",
      "6/6 [==============================] - 0s 763us/sample - loss: 1881.3949\n",
      "Epoch 42/200\n",
      "6/6 [==============================] - 0s 746us/sample - loss: 1760.5919\n",
      "Epoch 43/200\n",
      "6/6 [==============================] - 0s 767us/sample - loss: 1636.9810\n",
      "Epoch 44/200\n",
      "6/6 [==============================] - 0s 826us/sample - loss: 1510.9061\n",
      "Epoch 45/200\n",
      "6/6 [==============================] - 0s 810us/sample - loss: 1382.8048\n",
      "Epoch 46/200\n",
      "6/6 [==============================] - 0s 716us/sample - loss: 1253.2429\n",
      "Epoch 47/200\n",
      "6/6 [==============================] - 0s 772us/sample - loss: 1123.0007\n",
      "Epoch 48/200\n",
      "6/6 [==============================] - 0s 744us/sample - loss: 993.0862\n",
      "Epoch 49/200\n",
      "6/6 [==============================] - 0s 772us/sample - loss: 864.7471\n",
      "Epoch 50/200\n",
      "6/6 [==============================] - 0s 857us/sample - loss: 739.5032\n",
      "Epoch 51/200\n",
      "6/6 [==============================] - 0s 727us/sample - loss: 619.1768\n",
      "Epoch 52/200\n",
      "6/6 [==============================] - 0s 766us/sample - loss: 505.9288\n",
      "Epoch 53/200\n",
      "6/6 [==============================] - 0s 918us/sample - loss: 402.4628\n",
      "Epoch 54/200\n",
      "6/6 [==============================] - 0s 773us/sample - loss: 312.3779\n",
      "Epoch 55/200\n",
      "6/6 [==============================] - 0s 742us/sample - loss: 241.8090\n",
      "Epoch 56/200\n",
      "6/6 [==============================] - 0s 796us/sample - loss: 198.2389\n",
      "Epoch 57/200\n",
      "6/6 [==============================] - 0s 750us/sample - loss: 184.9922\n",
      "Epoch 58/200\n",
      "6/6 [==============================] - 0s 758us/sample - loss: 196.3335\n",
      "Epoch 59/200\n",
      "6/6 [==============================] - 0s 881us/sample - loss: 221.7070\n",
      "Epoch 60/200\n",
      "6/6 [==============================] - 0s 821us/sample - loss: 248.9303\n",
      "Epoch 61/200\n",
      "6/6 [==============================] - 0s 711us/sample - loss: 268.5092\n",
      "Epoch 62/200\n",
      "6/6 [==============================] - 0s 803us/sample - loss: 275.8330\n",
      "Epoch 63/200\n",
      "6/6 [==============================] - 0s 716us/sample - loss: 270.2931\n",
      "Epoch 64/200\n",
      "6/6 [==============================] - 0s 852us/sample - loss: 254.2870\n",
      "Epoch 65/200\n",
      "6/6 [==============================] - 0s 814us/sample - loss: 231.7579\n",
      "Epoch 66/200\n",
      "6/6 [==============================] - 0s 742us/sample - loss: 206.7593\n",
      "Epoch 67/200\n",
      "6/6 [==============================] - 0s 726us/sample - loss: 182.7181\n",
      "Epoch 68/200\n",
      "6/6 [==============================] - 0s 817us/sample - loss: 161.9832\n",
      "Epoch 69/200\n",
      "6/6 [==============================] - 0s 813us/sample - loss: 145.7003\n",
      "Epoch 70/200\n",
      "6/6 [==============================] - 0s 763us/sample - loss: 134.0341\n",
      "Epoch 71/200\n",
      "6/6 [==============================] - 0s 807us/sample - loss: 126.4958\n",
      "Epoch 72/200\n",
      "6/6 [==============================] - 0s 751us/sample - loss: 122.2488\n",
      "Epoch 73/200\n",
      "6/6 [==============================] - 0s 706us/sample - loss: 120.3202\n",
      "Epoch 74/200\n",
      "6/6 [==============================] - 0s 774us/sample - loss: 119.7418\n",
      "Epoch 75/200\n",
      "6/6 [==============================] - 0s 754us/sample - loss: 119.6403\n",
      "Epoch 76/200\n",
      "6/6 [==============================] - 0s 702us/sample - loss: 119.3043\n",
      "Epoch 77/200\n",
      "6/6 [==============================] - 0s 734us/sample - loss: 118.2273\n",
      "Epoch 78/200\n",
      "6/6 [==============================] - 0s 811us/sample - loss: 116.1361\n",
      "Epoch 79/200\n",
      "6/6 [==============================] - 0s 750us/sample - loss: 113.0084\n",
      "Epoch 80/200\n",
      "6/6 [==============================] - 0s 722us/sample - loss: 109.0606\n",
      "Epoch 81/200\n",
      "6/6 [==============================] - 0s 776us/sample - loss: 104.6847\n",
      "Epoch 82/200\n",
      "6/6 [==============================] - 0s 803us/sample - loss: 100.3411\n",
      "Epoch 83/200\n",
      "6/6 [==============================] - 0s 787us/sample - loss: 96.4225\n",
      "Epoch 84/200\n",
      "6/6 [==============================] - 0s 771us/sample - loss: 93.1490\n",
      "Epoch 85/200\n",
      "6/6 [==============================] - 0s 722us/sample - loss: 90.4599\n",
      "Epoch 86/200\n",
      "6/6 [==============================] - 0s 784us/sample - loss: 87.9209\n",
      "Epoch 87/200\n",
      "6/6 [==============================] - 0s 777us/sample - loss: 84.9984\n",
      "Epoch 88/200\n",
      "6/6 [==============================] - 0s 748us/sample - loss: 81.4916\n",
      "Epoch 89/200\n",
      "6/6 [==============================] - 0s 734us/sample - loss: 77.5645\n",
      "Epoch 90/200\n",
      "6/6 [==============================] - 0s 822us/sample - loss: 73.5096\n",
      "Epoch 91/200\n",
      "6/6 [==============================] - 0s 704us/sample - loss: 69.5622\n",
      "Epoch 92/200\n",
      "6/6 [==============================] - 0s 717us/sample - loss: 65.8297\n",
      "Epoch 93/200\n",
      "6/6 [==============================] - 0s 854us/sample - loss: 62.3034\n",
      "Epoch 94/200\n",
      "6/6 [==============================] - 0s 776us/sample - loss: 58.9115\n",
      "Epoch 95/200\n",
      "6/6 [==============================] - 0s 700us/sample - loss: 55.5819\n",
      "Epoch 96/200\n",
      "6/6 [==============================] - 0s 765us/sample - loss: 52.2942\n"
     ]
    },
    {
     "name": "stdout",
     "output_type": "stream",
     "text": [
      "Epoch 97/200\n",
      "6/6 [==============================] - 0s 700us/sample - loss: 49.1024\n",
      "Epoch 98/200\n",
      "6/6 [==============================] - 0s 731us/sample - loss: 46.1056\n",
      "Epoch 99/200\n",
      "6/6 [==============================] - 0s 830us/sample - loss: 43.3544\n",
      "Epoch 100/200\n",
      "6/6 [==============================] - 0s 701us/sample - loss: 40.7625\n",
      "Epoch 101/200\n",
      "6/6 [==============================] - 0s 728us/sample - loss: 38.2032\n",
      "Epoch 102/200\n",
      "6/6 [==============================] - 0s 699us/sample - loss: 35.6561\n",
      "Epoch 103/200\n",
      "6/6 [==============================] - 0s 786us/sample - loss: 33.1916\n",
      "Epoch 104/200\n",
      "6/6 [==============================] - 0s 707us/sample - loss: 30.8862\n",
      "Epoch 105/200\n",
      "6/6 [==============================] - 0s 728us/sample - loss: 28.7730\n",
      "Epoch 106/200\n",
      "6/6 [==============================] - 0s 666us/sample - loss: 26.8418\n",
      "Epoch 107/200\n",
      "6/6 [==============================] - 0s 737us/sample - loss: 25.0648\n",
      "Epoch 108/200\n",
      "6/6 [==============================] - 0s 681us/sample - loss: 23.4206\n",
      "Epoch 109/200\n",
      "6/6 [==============================] - 0s 694us/sample - loss: 21.9035\n",
      "Epoch 110/200\n",
      "6/6 [==============================] - 0s 681us/sample - loss: 20.5167\n",
      "Epoch 111/200\n",
      "6/6 [==============================] - 0s 726us/sample - loss: 19.2630\n",
      "Epoch 112/200\n",
      "6/6 [==============================] - 0s 678us/sample - loss: 18.1334\n",
      "Epoch 113/200\n",
      "6/6 [==============================] - 0s 679us/sample - loss: 17.1093\n",
      "Epoch 114/200\n",
      "6/6 [==============================] - 0s 717us/sample - loss: 16.1729\n",
      "Epoch 115/200\n",
      "6/6 [==============================] - 0s 751us/sample - loss: 15.3170\n",
      "Epoch 116/200\n",
      "6/6 [==============================] - 0s 806us/sample - loss: 14.5437\n",
      "Epoch 117/200\n",
      "6/6 [==============================] - 0s 755us/sample - loss: 13.8555\n",
      "Epoch 118/200\n",
      "6/6 [==============================] - 0s 675us/sample - loss: 13.2463\n",
      "Epoch 119/200\n",
      "6/6 [==============================] - 0s 777us/sample - loss: 12.7053\n",
      "Epoch 120/200\n",
      "6/6 [==============================] - 0s 835us/sample - loss: 12.2165\n",
      "Epoch 121/200\n",
      "6/6 [==============================] - 0s 718us/sample - loss: 11.7617\n",
      "Epoch 122/200\n",
      "6/6 [==============================] - 0s 786us/sample - loss: 11.3357\n",
      "Epoch 123/200\n",
      "6/6 [==============================] - 0s 815us/sample - loss: 10.9376\n",
      "Epoch 124/200\n",
      "6/6 [==============================] - 0s 815us/sample - loss: 10.5666\n",
      "Epoch 125/200\n",
      "6/6 [==============================] - 0s 736us/sample - loss: 10.2103\n",
      "Epoch 126/200\n",
      "6/6 [==============================] - 0s 772us/sample - loss: 9.8616\n",
      "Epoch 127/200\n",
      "6/6 [==============================] - 0s 862us/sample - loss: 9.5166\n",
      "Epoch 128/200\n",
      "6/6 [==============================] - 0s 680us/sample - loss: 9.1754\n",
      "Epoch 129/200\n",
      "6/6 [==============================] - 0s 680us/sample - loss: 8.8402\n",
      "Epoch 130/200\n",
      "6/6 [==============================] - 0s 815us/sample - loss: 8.5135\n",
      "Epoch 131/200\n",
      "6/6 [==============================] - 0s 722us/sample - loss: 8.1969\n",
      "Epoch 132/200\n",
      "6/6 [==============================] - 0s 769us/sample - loss: 7.8933\n",
      "Epoch 133/200\n",
      "6/6 [==============================] - 0s 828us/sample - loss: 7.6028\n",
      "Epoch 134/200\n",
      "6/6 [==============================] - 0s 737us/sample - loss: 7.3250\n",
      "Epoch 135/200\n",
      "6/6 [==============================] - 0s 697us/sample - loss: 7.0609\n",
      "Epoch 136/200\n",
      "6/6 [==============================] - 0s 770us/sample - loss: 6.8107\n",
      "Epoch 137/200\n",
      "6/6 [==============================] - 0s 713us/sample - loss: 6.5734\n",
      "Epoch 138/200\n",
      "6/6 [==============================] - 0s 837us/sample - loss: 6.3473\n",
      "Epoch 139/200\n",
      "6/6 [==============================] - 0s 764us/sample - loss: 6.1300\n",
      "Epoch 140/200\n",
      "6/6 [==============================] - 0s 798us/sample - loss: 5.9198\n",
      "Epoch 141/200\n",
      "6/6 [==============================] - 0s 691us/sample - loss: 5.7154\n",
      "Epoch 142/200\n",
      "6/6 [==============================] - 0s 679us/sample - loss: 5.5160\n",
      "Epoch 143/200\n",
      "6/6 [==============================] - 0s 774us/sample - loss: 5.3214\n",
      "Epoch 144/200\n",
      "6/6 [==============================] - 0s 768us/sample - loss: 5.1313\n",
      "Epoch 145/200\n",
      "6/6 [==============================] - 0s 641us/sample - loss: 4.9457\n",
      "Epoch 146/200\n",
      "6/6 [==============================] - 0s 775us/sample - loss: 4.7646\n",
      "Epoch 147/200\n",
      "6/6 [==============================] - 0s 708us/sample - loss: 4.5890\n",
      "Epoch 148/200\n",
      "6/6 [==============================] - 0s 694us/sample - loss: 4.4196\n",
      "Epoch 149/200\n",
      "6/6 [==============================] - 0s 732us/sample - loss: 4.2571\n",
      "Epoch 150/200\n",
      "6/6 [==============================] - 0s 791us/sample - loss: 4.1009\n",
      "Epoch 151/200\n",
      "6/6 [==============================] - 0s 766us/sample - loss: 3.9508\n",
      "Epoch 152/200\n",
      "6/6 [==============================] - 0s 783us/sample - loss: 3.8070\n",
      "Epoch 153/200\n",
      "6/6 [==============================] - 0s 794us/sample - loss: 3.6698\n",
      "Epoch 154/200\n",
      "6/6 [==============================] - 0s 759us/sample - loss: 3.5393\n",
      "Epoch 155/200\n",
      "6/6 [==============================] - 0s 727us/sample - loss: 3.4145\n",
      "Epoch 156/200\n",
      "6/6 [==============================] - 0s 807us/sample - loss: 3.2945\n",
      "Epoch 157/200\n",
      "6/6 [==============================] - 0s 757us/sample - loss: 3.1788\n",
      "Epoch 158/200\n",
      "6/6 [==============================] - 0s 765us/sample - loss: 3.0673\n",
      "Epoch 159/200\n",
      "6/6 [==============================] - 0s 805us/sample - loss: 2.9598\n",
      "Epoch 160/200\n",
      "6/6 [==============================] - 0s 714us/sample - loss: 2.8559\n",
      "Epoch 161/200\n",
      "6/6 [==============================] - 0s 758us/sample - loss: 2.7552\n",
      "Epoch 162/200\n",
      "6/6 [==============================] - 0s 700us/sample - loss: 2.6578\n",
      "Epoch 163/200\n",
      "6/6 [==============================] - 0s 700us/sample - loss: 2.5639\n",
      "Epoch 164/200\n",
      "6/6 [==============================] - 0s 732us/sample - loss: 2.4739\n",
      "Epoch 165/200\n",
      "6/6 [==============================] - 0s 716us/sample - loss: 2.3874\n",
      "Epoch 166/200\n",
      "6/6 [==============================] - 0s 723us/sample - loss: 2.3047\n",
      "Epoch 167/200\n",
      "6/6 [==============================] - 0s 667us/sample - loss: 2.2257\n",
      "Epoch 168/200\n",
      "6/6 [==============================] - 0s 732us/sample - loss: 2.1507\n",
      "Epoch 169/200\n",
      "6/6 [==============================] - 0s 727us/sample - loss: 2.0794\n",
      "Epoch 170/200\n",
      "6/6 [==============================] - 0s 647us/sample - loss: 2.0118\n",
      "Epoch 171/200\n",
      "6/6 [==============================] - 0s 762us/sample - loss: 1.9475\n",
      "Epoch 172/200\n",
      "6/6 [==============================] - 0s 724us/sample - loss: 1.8865\n",
      "Epoch 173/200\n",
      "6/6 [==============================] - 0s 715us/sample - loss: 1.8286\n",
      "Epoch 174/200\n",
      "6/6 [==============================] - 0s 746us/sample - loss: 1.7736\n",
      "Epoch 175/200\n",
      "6/6 [==============================] - 0s 689us/sample - loss: 1.7213\n",
      "Epoch 176/200\n",
      "6/6 [==============================] - 0s 685us/sample - loss: 1.6715\n",
      "Epoch 177/200\n",
      "6/6 [==============================] - 0s 687us/sample - loss: 1.6241\n",
      "Epoch 178/200\n",
      "6/6 [==============================] - 0s 710us/sample - loss: 1.5789\n",
      "Epoch 179/200\n",
      "6/6 [==============================] - 0s 737us/sample - loss: 1.5358\n",
      "Epoch 180/200\n",
      "6/6 [==============================] - 0s 722us/sample - loss: 1.4947\n",
      "Epoch 181/200\n",
      "6/6 [==============================] - 0s 809us/sample - loss: 1.4553\n",
      "Epoch 182/200\n",
      "6/6 [==============================] - 0s 710us/sample - loss: 1.4178\n",
      "Epoch 183/200\n",
      "6/6 [==============================] - 0s 739us/sample - loss: 1.3819\n",
      "Epoch 184/200\n",
      "6/6 [==============================] - 0s 745us/sample - loss: 1.3476\n",
      "Epoch 185/200\n",
      "6/6 [==============================] - 0s 813us/sample - loss: 1.3148\n",
      "Epoch 186/200\n",
      "6/6 [==============================] - 0s 833us/sample - loss: 1.2832\n",
      "Epoch 187/200\n",
      "6/6 [==============================] - 0s 789us/sample - loss: 1.2531\n",
      "Epoch 188/200\n",
      "6/6 [==============================] - 0s 827us/sample - loss: 1.2242\n",
      "Epoch 189/200\n",
      "6/6 [==============================] - 0s 801us/sample - loss: 1.1964\n",
      "Epoch 190/200\n",
      "6/6 [==============================] - 0s 794us/sample - loss: 1.1698\n",
      "Epoch 191/200\n",
      "6/6 [==============================] - 0s 735us/sample - loss: 1.1442\n",
      "Epoch 192/200\n",
      "6/6 [==============================] - 0s 868us/sample - loss: 1.1195\n",
      "Epoch 193/200\n",
      "6/6 [==============================] - 0s 839us/sample - loss: 1.0957\n",
      "Epoch 194/200\n",
      "6/6 [==============================] - 0s 818us/sample - loss: 1.0728\n"
     ]
    },
    {
     "name": "stdout",
     "output_type": "stream",
     "text": [
      "Epoch 195/200\n",
      "6/6 [==============================] - 0s 807us/sample - loss: 1.0506\n",
      "Epoch 196/200\n",
      "6/6 [==============================] - 0s 898us/sample - loss: 1.0292\n",
      "Epoch 197/200\n",
      "6/6 [==============================] - 0s 911us/sample - loss: 1.0084\n",
      "Epoch 198/200\n",
      "6/6 [==============================] - 0s 855us/sample - loss: 0.9882\n",
      "Epoch 199/200\n",
      "6/6 [==============================] - 0s 738us/sample - loss: 0.9686\n",
      "Epoch 200/200\n",
      "6/6 [==============================] - 0s 1ms/sample - loss: 0.9495\n"
     ]
    },
    {
     "data": {
      "text/plain": [
       "<tensorflow.python.keras.callbacks.History at 0x6445ada90>"
      ]
     },
     "execution_count": 40,
     "metadata": {},
     "output_type": "execute_result"
    }
   ],
   "source": [
    "generator.fit(X, y, epochs = 200)"
   ]
  },
  {
   "cell_type": "code",
   "execution_count": 41,
   "metadata": {
    "hidden": true
   },
   "outputs": [
    {
     "data": {
      "text/plain": [
       "array([[104.05014 , 117.013016]], dtype=float32)"
      ]
     },
     "execution_count": 41,
     "metadata": {},
     "output_type": "execute_result"
    }
   ],
   "source": [
    "x_input = np.array([80, 90])\n",
    "x_input = x_input.reshape((1, timesteps, features))\n",
    "x_input = tf.convert_to_tensor(x_input, dtype=tf.float32)\n",
    "generator.predict(x_input)"
   ]
  },
  {
   "cell_type": "markdown",
   "metadata": {},
   "source": [
    "## Multivariate, multi-step"
   ]
  },
  {
   "cell_type": "code",
   "execution_count": 2,
   "metadata": {},
   "outputs": [],
   "source": [
    "# split a multivariate sequence into samples\n",
    "def split_sequences(sequences, n_steps_in, n_steps_out):\n",
    "    X, y = list(), list()\n",
    "    for i in range(len(sequences)):\n",
    "        # find the end of this pattern\n",
    "        end_ix = i + n_steps_in\n",
    "        out_end_ix = end_ix + n_steps_out\n",
    "        # check if we are beyond the dataset\n",
    "        if out_end_ix > len(sequences):\n",
    "            break\n",
    "        # gather input and output parts of the pattern\n",
    "        seq_x, seq_y = sequences[i:end_ix, :], sequences[end_ix:out_end_ix, :]\n",
    "        X.append(seq_x)\n",
    "        y.append(seq_y)\n",
    "    return np.array(X), np.array(y)"
   ]
  },
  {
   "cell_type": "code",
   "execution_count": 3,
   "metadata": {},
   "outputs": [],
   "source": [
    "# samples = 1\n",
    "timesteps = 2\n",
    "#features = 1"
   ]
  },
  {
   "cell_type": "code",
   "execution_count": 4,
   "metadata": {},
   "outputs": [],
   "source": [
    "#generated_series = np.random.normal(size=[samples, timesteps, features])\n",
    "# define input sequence\n",
    "in_seq1 = np.array([10, 20, 30, 40, 50, 60, 70, 80, 90])\n",
    "in_seq2 = np.array([15, 25, 35, 45, 55, 65, 75, 85, 95])\n",
    "out_seq = np.array([in_seq1[i]+in_seq2[i] for i in range(len(in_seq1))])\n",
    "# convert to [rows, columns] structure\n",
    "in_seq1 = in_seq1.reshape((len(in_seq1), 1))\n",
    "in_seq2 = in_seq2.reshape((len(in_seq2), 1))\n",
    "out_seq = out_seq.reshape((len(out_seq), 1))\n",
    "# horizontally stack columns\n",
    "series = np.hstack((in_seq1, in_seq2, out_seq))"
   ]
  },
  {
   "cell_type": "code",
   "execution_count": 5,
   "metadata": {},
   "outputs": [],
   "source": [
    "X, y = split_sequences(series, timesteps, timesteps)"
   ]
  },
  {
   "cell_type": "code",
   "execution_count": 6,
   "metadata": {},
   "outputs": [],
   "source": [
    "samples = X.shape[0]\n",
    "features = X.shape[2]"
   ]
  },
  {
   "cell_type": "code",
   "execution_count": 7,
   "metadata": {},
   "outputs": [],
   "source": [
    "def create_generator(timesteps, features):\n",
    "    model = Sequential()\n",
    "    model.add(layers.LSTM(100, activation='relu',input_shape=(timesteps, features), return_sequences=True))\n",
    "    model.add(layers.LSTM(100, activation='relu',input_shape=(timesteps, features), return_sequences=True))\n",
    "    model.add(layers.TimeDistributed(layers.Dense(features)))\n",
    "    model.compile(loss='mse', optimizer='adam')\n",
    "    return model\n",
    "generator = create_generator(timesteps, features)"
   ]
  },
  {
   "cell_type": "code",
   "execution_count": 8,
   "metadata": {},
   "outputs": [
    {
     "name": "stdout",
     "output_type": "stream",
     "text": [
      "Train on 6 samples\n",
      "Epoch 1/10\n",
      "6/6 [==============================] - 4s 667ms/sample - loss: 8480.6982\n",
      "Epoch 2/10\n",
      "6/6 [==============================] - 0s 2ms/sample - loss: 8354.2842\n",
      "Epoch 3/10\n",
      "6/6 [==============================] - 0s 2ms/sample - loss: 8237.7588\n",
      "Epoch 4/10\n",
      "6/6 [==============================] - 0s 2ms/sample - loss: 8128.3296\n",
      "Epoch 5/10\n",
      "6/6 [==============================] - 0s 2ms/sample - loss: 8021.5039\n",
      "Epoch 6/10\n",
      "6/6 [==============================] - 0s 2ms/sample - loss: 7912.7778\n",
      "Epoch 7/10\n",
      "6/6 [==============================] - 0s 2ms/sample - loss: 7798.5483\n",
      "Epoch 8/10\n",
      "6/6 [==============================] - 0s 2ms/sample - loss: 7675.8345\n",
      "Epoch 9/10\n",
      "6/6 [==============================] - 0s 2ms/sample - loss: 7543.0649\n",
      "Epoch 10/10\n",
      "6/6 [==============================] - 0s 2ms/sample - loss: 7399.1909\n"
     ]
    },
    {
     "data": {
      "text/plain": [
       "<tensorflow.python.keras.callbacks.History at 0x641ddaed0>"
      ]
     },
     "execution_count": 8,
     "metadata": {},
     "output_type": "execute_result"
    }
   ],
   "source": [
    "generator.fit(X, y, epochs = 10)"
   ]
  },
  {
   "cell_type": "code",
   "execution_count": 9,
   "metadata": {},
   "outputs": [],
   "source": [
    "x_input = np.array([[80, 85, 165], [90, 95, 185]])\n",
    "x_input = x_input.reshape((1, timesteps, features))\n",
    "x_input = tf.convert_to_tensor(x_input, dtype=tf.float32)\n",
    "x_output = generator.predict(x_input)"
   ]
  },
  {
   "cell_type": "code",
   "execution_count": null,
   "metadata": {},
   "outputs": [],
   "source": [
    "plt.plot(x_output)"
   ]
  },
  {
   "cell_type": "code",
   "execution_count": 10,
   "metadata": {
    "scrolled": true
   },
   "outputs": [],
   "source": [
    "import matplotlib.pyplot as plt"
   ]
  },
  {
   "cell_type": "code",
   "execution_count": 9,
   "metadata": {},
   "outputs": [
    {
     "data": {
      "text/plain": [
       "<tf.Tensor: id=58, shape=(2,), dtype=float32, numpy=array([1., 2.], dtype=float32)>"
      ]
     },
     "execution_count": 9,
     "metadata": {},
     "output_type": "execute_result"
    }
   ],
   "source": []
  },
  {
   "cell_type": "code",
   "execution_count": 8,
   "metadata": {},
   "outputs": [
    {
     "data": {
      "text/plain": [
       "[<matplotlib.lines.Line2D at 0x6473a63d0>]"
      ]
     },
     "execution_count": 8,
     "metadata": {},
     "output_type": "execute_result"
    },
    {
     "data": {
      "image/png": "[encoded data removed]",
      "text/plain": [
       "<Figure size 432x288 with 1 Axes>"
      ]
     },
     "metadata": {
      "needs_background": "light"
     },
     "output_type": "display_data"
    }
   ],
   "source": [
    "plt.plot(tf.convert_to_tensor([1,2], dtype=tf.float32))"
   ]
  },
  {
   "cell_type": "code",
   "execution_count": null,
   "metadata": {},
   "outputs": [],
   "source": []
  }
 ],
 "metadata": {
  "kernelspec": {
   "display_name": "Python 3",
   "language": "python",
   "name": "python3"
  },
  "language_info": {
   "codemirror_mode": {
    "name": "ipython",
    "version": 3
   },
   "file_extension": ".py",
   "mimetype": "text/x-python",
   "name": "python",
   "nbconvert_exporter": "python",
   "pygments_lexer": "ipython3",
   "version": "3.7.5"
  },
  "toc": {
   "base_numbering": 1,
   "nav_menu": {},
   "number_sections": true,
   "sideBar": true,
   "skip_h1_title": true,
   "title_cell": "Table of Contents",
   "title_sidebar": "Contents",
   "toc_cell": false,
   "toc_position": {},
   "toc_section_display": true,
   "toc_window_display": true
  },
  "varInspector": {
   "cols": {
    "lenName": 16,
    "lenType": 16,
    "lenVar": 40
   },
   "kernels_config": {
    "python": {
     "delete_cmd_postfix": "",
     "delete_cmd_prefix": "del ",
     "library": "var_list.py",
     "varRefreshCmd": "print(var_dic_list())"
    },
    "r": {
     "delete_cmd_postfix": ") ",
     "delete_cmd_prefix": "rm(",
     "library": "var_list.r",
     "varRefreshCmd": "cat(var_dic_list()) "
    }
   },
   "types_to_exclude": [
    "module",
    "function",
    "builtin_function_or_method",
    "instance",
    "_Feature"
   ],
   "window_display": false
  }
 },
 "nbformat": 4,
 "nbformat_minor": 2
}
