{
 "cells": [
  {
   "cell_type": "markdown",
   "metadata": {},
   "source": [
    "## Import packages"
   ]
  },
  {
   "cell_type": "code",
   "execution_count": 75,
   "metadata": {},
   "outputs": [],
   "source": [
    "# Data manipulation\n",
    "import numpy as np\n",
    "import pandas as pd\n",
    "import glob, os\n",
    "import time\n",
    "\n",
    "# Data visualization\n",
    "import matplotlib.pyplot as plt\n",
    "import seaborn as sns\n",
    "\n",
    "# Modelling\n",
    "from sklearn.ensemble import IsolationForest \n",
    "from sklearn.ensemble import RandomForestRegressor \n",
    "from sklearn.model_selection import train_test_split\n",
    "from sklearn.metrics import mean_absolute_error"
   ]
  },
  {
   "cell_type": "markdown",
   "metadata": {},
   "source": [
    "## Preprocessing"
   ]
  },
  {
   "cell_type": "markdown",
   "metadata": {},
   "source": [
    "#### Load files"
   ]
  },
  {
   "cell_type": "code",
   "execution_count": 81,
   "metadata": {},
   "outputs": [
    {
     "name": "stdout",
     "output_type": "stream",
     "text": [
      "12.124595880508423\n",
      "5.630171060562134\n"
     ]
    },
    {
     "data": {
      "text/plain": [
       "<function print>"
      ]
     },
     "execution_count": 81,
     "metadata": {},
     "output_type": "execute_result"
    }
   ],
   "source": [
    "# arkiv_B\n",
    "path_arkivb = '/Users/Emil/Data/Exjobbsdata/Sandvik/Data/CSV_2018_B_Arkiv_Sekund'\n",
    "all_arkivb = glob.glob(os.path.join(path_arkivb, \"B1_2018_V21*.TXT\")) \n",
    "\n",
    "df_each_arkivb = (pd.read_csv(f, sep=';', header = None, encoding = 'unicode_escape') for f in all_arkivb)\n",
    "arkivb_df = pd.concat(df_each_arkivb, ignore_index = True)\n",
    "\n",
    "arkivb_df['Datetime'] = pd.to_datetime(arkivb_df[3] + ' ' + arkivb_df[4])\n",
    "arkivb_df = arkivb_df.drop([3, 4], axis = 1)\n",
    "\n",
    "\n",
    "# handelser (sep 17- jun 18)\n",
    "path_handelser = '/Users/Emil/Data/Exjobbsdata/Sandvik/Data/Handelser'\n",
    "all_handelser = glob.glob(os.path.join(path_handelser, \"*.TXT\"))\n",
    "\n",
    "df_each_handelser = (pd.read_csv(f, sep=';', header = None, encoding = 'unicode_escape', parse_dates = [1]) for f in all_handelser)\n",
    "handelser_df = pd.concat(df_each_handelser, ignore_index = True)\n",
    "\n",
    "# larm\n",
    "#path_larm = '/Users/Emil/Data/Exjobbsdata/Sandvik/Data/Larm'\n",
    "#all_larm = glob.glob(os.path.join(path_larm, \"*.TXT\"))\n",
    "\n",
    "#df_each_larm = (pd.read_csv(f, sep=';', header = None, encoding = 'unicode_escape') for f in all_larm)\n",
    "#larm_df = pd.concat(df_each_larm, ignore_index = True)"
   ]
  },
  {
   "cell_type": "code",
   "execution_count": 83,
   "metadata": {},
   "outputs": [
    {
     "data": {
      "text/plain": [
       "(11642, 5)"
      ]
     },
     "execution_count": 83,
     "metadata": {},
     "output_type": "execute_result"
    }
   ],
   "source": [
    "handelser_df.shape"
   ]
  },
  {
   "cell_type": "markdown",
   "metadata": {},
   "source": [
    "#### Pivot data"
   ]
  },
  {
   "cell_type": "code",
   "execution_count": 63,
   "metadata": {},
   "outputs": [],
   "source": [
    "arkivb_pivot_df = pd.pivot_table(arkivb_df, values=0, index='Datetime', columns=2)"
   ]
  },
  {
   "cell_type": "code",
   "execution_count": 24,
   "metadata": {},
   "outputs": [
    {
     "data": {
      "text/plain": [
       "(562364, 84)"
      ]
     },
     "execution_count": 24,
     "metadata": {},
     "output_type": "execute_result"
    }
   ],
   "source": [
    "arkivb_pivot_df.shape"
   ]
  },
  {
   "cell_type": "markdown",
   "metadata": {},
   "source": [
    "#### Group by time"
   ]
  },
  {
   "cell_type": "code",
   "execution_count": 25,
   "metadata": {},
   "outputs": [
    {
     "data": {
      "text/plain": [
       "(3361, 84)"
      ]
     },
     "execution_count": 25,
     "metadata": {},
     "output_type": "execute_result"
    }
   ],
   "source": [
    "arkivb_grouped_df = arkivb_pivot_df.resample(\"3T\").mean()\n",
    "arkivb_grouped_df.shape"
   ]
  },
  {
   "cell_type": "markdown",
   "metadata": {},
   "source": [
    "#### Erasing if variance is zero"
   ]
  },
  {
   "cell_type": "code",
   "execution_count": 26,
   "metadata": {},
   "outputs": [
    {
     "data": {
      "text/plain": [
       "(3361, 73)"
      ]
     },
     "execution_count": 26,
     "metadata": {},
     "output_type": "execute_result"
    }
   ],
   "source": [
    "# Drop columns with zero variance (constant)\n",
    "cols_without_variance = [col for col in grouped_df.columns if (grouped_df[col].var() == 0)]\n",
    "variance_df = grouped_df.drop(cols_without_variance, axis=1)\n",
    "\n",
    "# Resulting shape\n",
    "variance_df.shape"
   ]
  },
  {
   "cell_type": "markdown",
   "metadata": {},
   "source": [
    "#### Handling missing values and imputing"
   ]
  },
  {
   "cell_type": "code",
   "execution_count": 27,
   "metadata": {
    "scrolled": true
   },
   "outputs": [
    {
     "data": {
      "text/plain": [
       "(3361, 30)"
      ]
     },
     "execution_count": 27,
     "metadata": {},
     "output_type": "execute_result"
    }
   ],
   "source": [
    "# Specify acceptence percent of missing data\n",
    "cut_off = 0.8 \n",
    "\n",
    "# Drop columns with missing data\n",
    "missing_df = variance_df.dropna(thresh = cut_off*len(variance_df.index), axis = 1)\n",
    "\n",
    "# Impute missing values with linear function\n",
    "imputed_df = missing_df.interpolate(axis=0)\n",
    "\n",
    "# Resulting shape\n",
    "missing_df.shape"
   ]
  },
  {
   "cell_type": "markdown",
   "metadata": {},
   "source": [
    "#### Resulting dataframe"
   ]
  },
  {
   "cell_type": "code",
   "execution_count": 28,
   "metadata": {},
   "outputs": [
    {
     "data": {
      "text/html": [
       "<div>\n",
       "<style scoped>\n",
       "    .dataframe tbody tr th:only-of-type {\n",
       "        vertical-align: middle;\n",
       "    }\n",
       "\n",
       "    .dataframe tbody tr th {\n",
       "        vertical-align: top;\n",
       "    }\n",
       "\n",
       "    .dataframe thead th {\n",
       "        text-align: right;\n",
       "    }\n",
       "</style>\n",
       "<table border=\"1\" class=\"dataframe\">\n",
       "  <thead>\n",
       "    <tr style=\"text-align: right;\">\n",
       "      <th>2</th>\n",
       "      <th>10AH.DRI: Drivning avhaspel,  akt specifikt drag</th>\n",
       "      <th>11PAR.DRI: Drivning valspar 1,  akt specifikt drag</th>\n",
       "      <th>11PAR.DRI: Drivning valspar 1, akt bandhastighet</th>\n",
       "      <th>12PAR.DRI: Drivning valspar 2,  akt specifikt drag</th>\n",
       "      <th>13PAR.DRI: Drivning valspar 3,  akt specifikt drag</th>\n",
       "      <th>14PH.DRI: Drivning påhaspel,  akt specifikt drag</th>\n",
       "      <th>GIvare: Valsoljeflöde, skalat värde</th>\n",
       "      <th>Givare: Diametermätare avhaspel, skalat värde</th>\n",
       "      <th>Givare: Flöde från filter 1 till rentank, skalat värde</th>\n",
       "      <th>Givare: Flöde från filter 2 till rentank, skalat värde</th>\n",
       "      <th>...</th>\n",
       "      <th>Givare:Temp valsolja, skalat värde</th>\n",
       "      <th>Hastighet par 3</th>\n",
       "      <th>Par 1: Diffvalskraft</th>\n",
       "      <th>Par 1: valskraft</th>\n",
       "      <th>Par 3: Diffvalskraft</th>\n",
       "      <th>Par 3: valskraft</th>\n",
       "      <th>Posregulator valsspalt, ärvärde</th>\n",
       "      <th>Tjockleksmätare 1 , avvikelse</th>\n",
       "      <th>Tjockleksmätare 2 , avvikelse</th>\n",
       "      <th>Tjockleksmätare 3 , avvikelse</th>\n",
       "    </tr>\n",
       "    <tr>\n",
       "      <th>Datetime</th>\n",
       "      <th></th>\n",
       "      <th></th>\n",
       "      <th></th>\n",
       "      <th></th>\n",
       "      <th></th>\n",
       "      <th></th>\n",
       "      <th></th>\n",
       "      <th></th>\n",
       "      <th></th>\n",
       "      <th></th>\n",
       "      <th></th>\n",
       "      <th></th>\n",
       "      <th></th>\n",
       "      <th></th>\n",
       "      <th></th>\n",
       "      <th></th>\n",
       "      <th></th>\n",
       "      <th></th>\n",
       "      <th></th>\n",
       "      <th></th>\n",
       "      <th></th>\n",
       "    </tr>\n",
       "  </thead>\n",
       "  <tbody>\n",
       "    <tr>\n",
       "      <th>2018-05-21 01:00:00</th>\n",
       "      <td>0.0</td>\n",
       "      <td>0.600559</td>\n",
       "      <td>0.0</td>\n",
       "      <td>0.926163</td>\n",
       "      <td>0.0</td>\n",
       "      <td>0.878771</td>\n",
       "      <td>283.634545</td>\n",
       "      <td>185.455085</td>\n",
       "      <td>324.419512</td>\n",
       "      <td>327.753659</td>\n",
       "      <td>...</td>\n",
       "      <td>30.231818</td>\n",
       "      <td>0.0</td>\n",
       "      <td>0.0</td>\n",
       "      <td>0.0</td>\n",
       "      <td>-4.9</td>\n",
       "      <td>4.9</td>\n",
       "      <td>0.0</td>\n",
       "      <td>-186.4</td>\n",
       "      <td>-143.633333</td>\n",
       "      <td>-144.7</td>\n",
       "    </tr>\n",
       "    <tr>\n",
       "      <th>2018-05-21 01:03:00</th>\n",
       "      <td>0.0</td>\n",
       "      <td>0.635196</td>\n",
       "      <td>0.0</td>\n",
       "      <td>1.065363</td>\n",
       "      <td>0.0</td>\n",
       "      <td>0.929609</td>\n",
       "      <td>283.468142</td>\n",
       "      <td>185.251471</td>\n",
       "      <td>324.319178</td>\n",
       "      <td>327.750617</td>\n",
       "      <td>...</td>\n",
       "      <td>30.223404</td>\n",
       "      <td>0.0</td>\n",
       "      <td>0.0</td>\n",
       "      <td>0.0</td>\n",
       "      <td>-4.9</td>\n",
       "      <td>4.9</td>\n",
       "      <td>0.0</td>\n",
       "      <td>-186.4</td>\n",
       "      <td>-143.650000</td>\n",
       "      <td>-144.7</td>\n",
       "    </tr>\n",
       "    <tr>\n",
       "      <th>2018-05-21 01:06:00</th>\n",
       "      <td>0.0</td>\n",
       "      <td>0.650556</td>\n",
       "      <td>0.0</td>\n",
       "      <td>1.102222</td>\n",
       "      <td>0.0</td>\n",
       "      <td>0.970556</td>\n",
       "      <td>283.455263</td>\n",
       "      <td>185.323932</td>\n",
       "      <td>324.227027</td>\n",
       "      <td>327.780303</td>\n",
       "      <td>...</td>\n",
       "      <td>30.217647</td>\n",
       "      <td>0.0</td>\n",
       "      <td>0.0</td>\n",
       "      <td>0.0</td>\n",
       "      <td>-4.9</td>\n",
       "      <td>4.9</td>\n",
       "      <td>0.0</td>\n",
       "      <td>-186.4</td>\n",
       "      <td>-143.633333</td>\n",
       "      <td>-144.7</td>\n",
       "    </tr>\n",
       "    <tr>\n",
       "      <th>2018-05-21 01:09:00</th>\n",
       "      <td>0.0</td>\n",
       "      <td>0.658989</td>\n",
       "      <td>0.0</td>\n",
       "      <td>1.145506</td>\n",
       "      <td>0.0</td>\n",
       "      <td>0.990449</td>\n",
       "      <td>283.434951</td>\n",
       "      <td>185.386260</td>\n",
       "      <td>324.168919</td>\n",
       "      <td>327.752542</td>\n",
       "      <td>...</td>\n",
       "      <td>30.209677</td>\n",
       "      <td>0.0</td>\n",
       "      <td>0.0</td>\n",
       "      <td>0.0</td>\n",
       "      <td>-4.9</td>\n",
       "      <td>4.9</td>\n",
       "      <td>0.0</td>\n",
       "      <td>-186.4</td>\n",
       "      <td>-143.700000</td>\n",
       "      <td>-144.7</td>\n",
       "    </tr>\n",
       "    <tr>\n",
       "      <th>2018-05-21 01:12:00</th>\n",
       "      <td>0.0</td>\n",
       "      <td>0.648045</td>\n",
       "      <td>0.0</td>\n",
       "      <td>1.070391</td>\n",
       "      <td>0.0</td>\n",
       "      <td>0.967039</td>\n",
       "      <td>283.511864</td>\n",
       "      <td>185.664815</td>\n",
       "      <td>324.360294</td>\n",
       "      <td>327.891304</td>\n",
       "      <td>...</td>\n",
       "      <td>30.160000</td>\n",
       "      <td>0.0</td>\n",
       "      <td>0.0</td>\n",
       "      <td>0.0</td>\n",
       "      <td>-4.9</td>\n",
       "      <td>4.9</td>\n",
       "      <td>0.0</td>\n",
       "      <td>-186.4</td>\n",
       "      <td>-143.700000</td>\n",
       "      <td>-144.7</td>\n",
       "    </tr>\n",
       "  </tbody>\n",
       "</table>\n",
       "<p>5 rows × 30 columns</p>\n",
       "</div>"
      ],
      "text/plain": [
       "2                    10AH.DRI: Drivning avhaspel,  akt specifikt drag  \\\n",
       "Datetime                                                                \n",
       "2018-05-21 01:00:00                                               0.0   \n",
       "2018-05-21 01:03:00                                               0.0   \n",
       "2018-05-21 01:06:00                                               0.0   \n",
       "2018-05-21 01:09:00                                               0.0   \n",
       "2018-05-21 01:12:00                                               0.0   \n",
       "\n",
       "2                    11PAR.DRI: Drivning valspar 1,  akt specifikt drag  \\\n",
       "Datetime                                                                  \n",
       "2018-05-21 01:00:00                                           0.600559    \n",
       "2018-05-21 01:03:00                                           0.635196    \n",
       "2018-05-21 01:06:00                                           0.650556    \n",
       "2018-05-21 01:09:00                                           0.658989    \n",
       "2018-05-21 01:12:00                                           0.648045    \n",
       "\n",
       "2                    11PAR.DRI: Drivning valspar 1, akt bandhastighet  \\\n",
       "Datetime                                                                \n",
       "2018-05-21 01:00:00                                               0.0   \n",
       "2018-05-21 01:03:00                                               0.0   \n",
       "2018-05-21 01:06:00                                               0.0   \n",
       "2018-05-21 01:09:00                                               0.0   \n",
       "2018-05-21 01:12:00                                               0.0   \n",
       "\n",
       "2                    12PAR.DRI: Drivning valspar 2,  akt specifikt drag  \\\n",
       "Datetime                                                                  \n",
       "2018-05-21 01:00:00                                           0.926163    \n",
       "2018-05-21 01:03:00                                           1.065363    \n",
       "2018-05-21 01:06:00                                           1.102222    \n",
       "2018-05-21 01:09:00                                           1.145506    \n",
       "2018-05-21 01:12:00                                           1.070391    \n",
       "\n",
       "2                    13PAR.DRI: Drivning valspar 3,  akt specifikt drag  \\\n",
       "Datetime                                                                  \n",
       "2018-05-21 01:00:00                                                0.0    \n",
       "2018-05-21 01:03:00                                                0.0    \n",
       "2018-05-21 01:06:00                                                0.0    \n",
       "2018-05-21 01:09:00                                                0.0    \n",
       "2018-05-21 01:12:00                                                0.0    \n",
       "\n",
       "2                    14PH.DRI: Drivning påhaspel,  akt specifikt drag  \\\n",
       "Datetime                                                                \n",
       "2018-05-21 01:00:00                                          0.878771   \n",
       "2018-05-21 01:03:00                                          0.929609   \n",
       "2018-05-21 01:06:00                                          0.970556   \n",
       "2018-05-21 01:09:00                                          0.990449   \n",
       "2018-05-21 01:12:00                                          0.967039   \n",
       "\n",
       "2                    GIvare: Valsoljeflöde, skalat värde  \\\n",
       "Datetime                                                   \n",
       "2018-05-21 01:00:00                           283.634545   \n",
       "2018-05-21 01:03:00                           283.468142   \n",
       "2018-05-21 01:06:00                           283.455263   \n",
       "2018-05-21 01:09:00                           283.434951   \n",
       "2018-05-21 01:12:00                           283.511864   \n",
       "\n",
       "2                    Givare: Diametermätare avhaspel, skalat värde  \\\n",
       "Datetime                                                             \n",
       "2018-05-21 01:00:00                                     185.455085   \n",
       "2018-05-21 01:03:00                                     185.251471   \n",
       "2018-05-21 01:06:00                                     185.323932   \n",
       "2018-05-21 01:09:00                                     185.386260   \n",
       "2018-05-21 01:12:00                                     185.664815   \n",
       "\n",
       "2                    Givare: Flöde från filter 1 till rentank, skalat värde  \\\n",
       "Datetime                                                                      \n",
       "2018-05-21 01:00:00                                         324.419512        \n",
       "2018-05-21 01:03:00                                         324.319178        \n",
       "2018-05-21 01:06:00                                         324.227027        \n",
       "2018-05-21 01:09:00                                         324.168919        \n",
       "2018-05-21 01:12:00                                         324.360294        \n",
       "\n",
       "2                    Givare: Flöde från filter 2 till rentank, skalat värde  \\\n",
       "Datetime                                                                      \n",
       "2018-05-21 01:00:00                                         327.753659        \n",
       "2018-05-21 01:03:00                                         327.750617        \n",
       "2018-05-21 01:06:00                                         327.780303        \n",
       "2018-05-21 01:09:00                                         327.752542        \n",
       "2018-05-21 01:12:00                                         327.891304        \n",
       "\n",
       "2                    ...  Givare:Temp valsolja, skalat värde  Hastighet par 3  \\\n",
       "Datetime             ...                                                        \n",
       "2018-05-21 01:00:00  ...                           30.231818              0.0   \n",
       "2018-05-21 01:03:00  ...                           30.223404              0.0   \n",
       "2018-05-21 01:06:00  ...                           30.217647              0.0   \n",
       "2018-05-21 01:09:00  ...                           30.209677              0.0   \n",
       "2018-05-21 01:12:00  ...                           30.160000              0.0   \n",
       "\n",
       "2                    Par 1: Diffvalskraft  Par 1: valskraft  \\\n",
       "Datetime                                                      \n",
       "2018-05-21 01:00:00                   0.0               0.0   \n",
       "2018-05-21 01:03:00                   0.0               0.0   \n",
       "2018-05-21 01:06:00                   0.0               0.0   \n",
       "2018-05-21 01:09:00                   0.0               0.0   \n",
       "2018-05-21 01:12:00                   0.0               0.0   \n",
       "\n",
       "2                    Par 3: Diffvalskraft  Par 3: valskraft  \\\n",
       "Datetime                                                      \n",
       "2018-05-21 01:00:00                  -4.9               4.9   \n",
       "2018-05-21 01:03:00                  -4.9               4.9   \n",
       "2018-05-21 01:06:00                  -4.9               4.9   \n",
       "2018-05-21 01:09:00                  -4.9               4.9   \n",
       "2018-05-21 01:12:00                  -4.9               4.9   \n",
       "\n",
       "2                    Posregulator valsspalt, ärvärde  \\\n",
       "Datetime                                               \n",
       "2018-05-21 01:00:00                              0.0   \n",
       "2018-05-21 01:03:00                              0.0   \n",
       "2018-05-21 01:06:00                              0.0   \n",
       "2018-05-21 01:09:00                              0.0   \n",
       "2018-05-21 01:12:00                              0.0   \n",
       "\n",
       "2                    Tjockleksmätare 1 , avvikelse  \\\n",
       "Datetime                                             \n",
       "2018-05-21 01:00:00                         -186.4   \n",
       "2018-05-21 01:03:00                         -186.4   \n",
       "2018-05-21 01:06:00                         -186.4   \n",
       "2018-05-21 01:09:00                         -186.4   \n",
       "2018-05-21 01:12:00                         -186.4   \n",
       "\n",
       "2                    Tjockleksmätare 2 , avvikelse  \\\n",
       "Datetime                                             \n",
       "2018-05-21 01:00:00                    -143.633333   \n",
       "2018-05-21 01:03:00                    -143.650000   \n",
       "2018-05-21 01:06:00                    -143.633333   \n",
       "2018-05-21 01:09:00                    -143.700000   \n",
       "2018-05-21 01:12:00                    -143.700000   \n",
       "\n",
       "2                    Tjockleksmätare 3 , avvikelse  \n",
       "Datetime                                            \n",
       "2018-05-21 01:00:00                         -144.7  \n",
       "2018-05-21 01:03:00                         -144.7  \n",
       "2018-05-21 01:06:00                         -144.7  \n",
       "2018-05-21 01:09:00                         -144.7  \n",
       "2018-05-21 01:12:00                         -144.7  \n",
       "\n",
       "[5 rows x 30 columns]"
      ]
     },
     "execution_count": 28,
     "metadata": {},
     "output_type": "execute_result"
    }
   ],
   "source": [
    "df = imputed_df\n",
    "df.head()"
   ]
  },
  {
   "cell_type": "markdown",
   "metadata": {},
   "source": [
    "## Visualization"
   ]
  },
  {
   "cell_type": "code",
   "execution_count": 29,
   "metadata": {},
   "outputs": [
    {
     "data": {
      "text/plain": [
       "<matplotlib.axes._subplots.AxesSubplot at 0x1a3030f610>"
      ]
     },
     "execution_count": 29,
     "metadata": {},
     "output_type": "execute_result"
    },
    {
     "data": {
      "image/png": "[encoded data removed]",
      "text/plain": [
       "<Figure size 1008x432 with 1 Axes>"
      ]
     },
     "metadata": {
      "needs_background": "light"
     },
     "output_type": "display_data"
    }
   ],
   "source": [
    "plt.figure(figsize=(14,6))\n",
    "sns.lineplot(data = df['Par 1: valskraft'])"
   ]
  },
  {
   "cell_type": "markdown",
   "metadata": {},
   "source": [
    "## Model"
   ]
  },
  {
   "cell_type": "code",
   "execution_count": 31,
   "metadata": {},
   "outputs": [
    {
     "name": "stderr",
     "output_type": "stream",
     "text": [
      "/Users/Emil/anaconda3/envs/py37/lib/python3.7/site-packages/sklearn/ensemble/iforest.py:237: FutureWarning: default contamination parameter 0.1 will change in version 0.22 to \"auto\". This will change the predict method behavior.\n",
      "  FutureWarning)\n",
      "/Users/Emil/anaconda3/envs/py37/lib/python3.7/site-packages/sklearn/ensemble/iforest.py:247: FutureWarning: behaviour=\"old\" is deprecated and will be removed in version 0.22. Please use behaviour=\"new\", which makes the decision_function change to match other anomaly detection algorithm API.\n",
      "  FutureWarning)\n",
      "/Users/Emil/anaconda3/envs/py37/lib/python3.7/site-packages/sklearn/ensemble/iforest.py:415: DeprecationWarning: threshold_ attribute is deprecated in 0.20 and will be removed in 0.22.\n",
      "  \" be removed in 0.22.\", DeprecationWarning)\n"
     ]
    },
    {
     "name": "stdout",
     "output_type": "stream",
     "text": [
      "3353.287698811414\n"
     ]
    }
   ],
   "source": [
    "# Choose target and features\n",
    "features = ['Tjockleksmätare 1 , avvikelse', 'Tjockleksmätare 2 , avvikelse', 'Tjockleksmätare 3 , avvikelse']\n",
    "X = df[features]\n",
    "y = # insert annotated data \n",
    "\n",
    "train_X, val_X, train_y, val_y = train_test_split(X, y,random_state = 0)\n",
    "if_model = IsolationForest()\n",
    "if_model.fit(train_X, train_y)\n",
    "preds = if_model.predict(val_X)\n",
    "print(mean_absolute_error(val_y, preds))\n"
   ]
  },
  {
   "cell_type": "code",
   "execution_count": null,
   "metadata": {},
   "outputs": [],
   "source": []
  }
 ],
 "metadata": {
  "kernelspec": {
   "display_name": "Python 3",
   "language": "python",
   "name": "python3"
  },
  "language_info": {
   "codemirror_mode": {
    "name": "ipython",
    "version": 3
   },
   "file_extension": ".py",
   "mimetype": "text/x-python",
   "name": "python",
   "nbconvert_exporter": "python",
   "pygments_lexer": "ipython3",
   "version": "3.7.4"
  }
 },
 "nbformat": 4,
 "nbformat_minor": 2
}
