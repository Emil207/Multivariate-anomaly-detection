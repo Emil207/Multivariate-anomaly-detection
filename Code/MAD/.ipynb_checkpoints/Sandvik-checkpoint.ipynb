{
 "cells": [
  {
   "cell_type": "markdown",
   "metadata": {},
   "source": [
    "# Sandvik"
   ]
  },
  {
   "cell_type": "markdown",
   "metadata": {},
   "source": [
    "## Import packages and load files"
   ]
  },
  {
   "cell_type": "markdown",
   "metadata": {
    "heading_collapsed": true
   },
   "source": [
    "### Import packages"
   ]
  },
  {
   "cell_type": "code",
   "execution_count": 2,
   "metadata": {
    "code_folding": [],
    "hidden": true
   },
   "outputs": [],
   "source": [
    "# Data manipulation\n",
    "import numpy as np\n",
    "import pandas as pd\n",
    "import glob, os\n",
    "import time\n",
    "\n",
    "# Data visualization\n",
    "import matplotlib.pyplot as plt\n",
    "import seaborn as sns\n",
    "\n",
    "# Modelling\n",
    "from sklearn.ensemble import IsolationForest \n",
    "from sklearn.model_selection import train_test_split\n",
    "from sklearn.metrics import mean_absolute_error"
   ]
  },
  {
   "cell_type": "markdown",
   "metadata": {},
   "source": [
    "### Load files"
   ]
  },
  {
   "cell_type": "code",
   "execution_count": null,
   "metadata": {},
   "outputs": [],
   "source": [
    "# arkiv_B\n",
    "path_arkivb = '/Users/Emil/Data/Exjobbsdata/Sandvik/Data/CSV_2018_B_Arkiv_Sekund'\n",
    "all_arkivb = glob.glob(os.path.join(path_arkivb, \"B1_2018_V2*.TXT\")) \n",
    "df_each_arkivb = (pd.read_csv(f, sep=';', header = None, encoding = 'unicode_escape') for f in all_arkivb)\n",
    "arkivb_df = pd.concat(df_each_arkivb, ignore_index = True)\n",
    "\n",
    "arkivb_df['Datetime'] = pd.to_datetime(arkivb_df[3] + ' ' + arkivb_df[4])\n",
    "arkivb_df = arkivb_df.drop([3, 4], axis = 1)"
   ]
  },
  {
   "cell_type": "code",
   "execution_count": null,
   "metadata": {},
   "outputs": [],
   "source": [
    "# handelser (sep 17- jun 18)\n",
    "path_handelser = '/Users/Emil/Data/Exjobbsdata/Sandvik/Data/Handelser'\n",
    "all_handelser = glob.glob(os.path.join(path_handelser, \"*.TXT\"))\n",
    "\n",
    "df_each_handelser = (pd.read_csv(f, sep=';', header = None, encoding = 'unicode_escape', parse_dates = [1]) for f in all_handelser)\n",
    "handelser_df1 = pd.concat(df_each_handelser, ignore_index = True)\n",
    "handelser_df = handelser_df1.drop([3, 4], axis=1)"
   ]
  },
  {
   "cell_type": "code",
   "execution_count": null,
   "metadata": {},
   "outputs": [],
   "source": [
    "# larm\n",
    "#path_larm = '/Users/Emil/Data/Exjobbsdata/Sandvik/Data/Larm'\n",
    "#all_larm = glob.glob(os.path.join(path_larm, \"*.TXT\"))\n",
    "\n",
    "#df_each_larm = (pd.read_csv(f, sep=';', header = None, encoding = 'unicode_escape') for f in all_larm)\n",
    "#larm_df = pd.concat(df_each_larm, ignore_index = True)"
   ]
  },
  {
   "cell_type": "markdown",
   "metadata": {},
   "source": [
    "## Preprocessing"
   ]
  },
  {
   "cell_type": "code",
   "execution_count": null,
   "metadata": {},
   "outputs": [],
   "source": [
    "# Pivot data\n",
    "arkivb_pivot_df = pd.pivot_table(arkivb_df, values=0, index='Datetime', columns=2)"
   ]
  },
  {
   "cell_type": "code",
   "execution_count": null,
   "metadata": {},
   "outputs": [],
   "source": [
    "# Group by time\n",
    "arkivb_grouped_df = arkivb_pivot_df.resample(\"3T\").mean()\n",
    "arkivb_grouped_df.shape"
   ]
  },
  {
   "cell_type": "markdown",
   "metadata": {},
   "source": [
    "### Erasing if variance is zero"
   ]
  },
  {
   "cell_type": "code",
   "execution_count": null,
   "metadata": {},
   "outputs": [],
   "source": [
    "# Drop columns with zero variance (constant)\n",
    "cols_without_variance = [col for col in arkivb_grouped_df.columns if (arkivb_grouped_df[col].var() == 0)]\n",
    "arkivb_variance_df = arkivb_grouped_df.drop(cols_without_variance, axis=1)\n",
    "\n",
    "# Resulting shape\n",
    "arkivb_variance_df.shape"
   ]
  },
  {
   "cell_type": "markdown",
   "metadata": {},
   "source": [
    "### Handling missing values and imputing"
   ]
  },
  {
   "cell_type": "code",
   "execution_count": null,
   "metadata": {
    "scrolled": true
   },
   "outputs": [],
   "source": [
    "# Specify acceptance percent of missing data\n",
    "cut_off = 0.75\n",
    "\n",
    "# Drop columns with missing data\n",
    "arkivb_missing_df = arkivb_variance_df.dropna(thresh = cut_off*len(arkivb_variance_df.index), axis = 1)\n",
    "\n",
    "# Impute missing values with linear function\n",
    "arkivb_imputed_df = arkivb_missing_df.interpolate(axis=0)\n",
    "\n",
    "# Resulting shape\n",
    "arkivb_missing_df.shape"
   ]
  },
  {
   "cell_type": "markdown",
   "metadata": {},
   "source": [
    "### Resulting dataframe"
   ]
  },
  {
   "cell_type": "code",
   "execution_count": null,
   "metadata": {},
   "outputs": [],
   "source": [
    "arkivb_df = arkivb_imputed_df\n",
    "arkivb_df.head()"
   ]
  },
  {
   "cell_type": "markdown",
   "metadata": {},
   "source": [
    "## Visualization"
   ]
  },
  {
   "cell_type": "code",
   "execution_count": null,
   "metadata": {},
   "outputs": [],
   "source": [
    "plt.figure(figsize=(14,6))\n",
    "sns.lineplot(data = arkivb_df['GIvare: Valsoljeflöde, skalat värde'])"
   ]
  },
  {
   "cell_type": "markdown",
   "metadata": {},
   "source": [
    "## Model"
   ]
  },
  {
   "cell_type": "code",
   "execution_count": null,
   "metadata": {},
   "outputs": [],
   "source": [
    "X = arkivb_df\n",
    "if_model = IsolationForest(contamination = 'auto', behaviour=\"new\")\n",
    "if_model.fit(X)\n",
    "if_score = if_model.decision_function(X)\n",
    "plt.figure(figsize=(14,6))\n",
    "sns.lineplot(x = X.index, y = if_score * 1000)\n",
    "#sns.lineplot(data = X['GIvare: Valsoljeflöde, skalat värde'])"
   ]
  }
 ],
 "metadata": {
  "kernelspec": {
   "display_name": "Python 3",
   "language": "python",
   "name": "python3"
  },
  "language_info": {
   "codemirror_mode": {
    "name": "ipython",
    "version": 3
   },
   "file_extension": ".py",
   "mimetype": "text/x-python",
   "name": "python",
   "nbconvert_exporter": "python",
   "pygments_lexer": "ipython3",
   "version": "3.7.4"
  },
  "toc": {
   "base_numbering": 1,
   "nav_menu": {},
   "number_sections": true,
   "sideBar": true,
   "skip_h1_title": true,
   "title_cell": "Table of Contents",
   "title_sidebar": "Contents",
   "toc_cell": true,
   "toc_position": {},
   "toc_section_display": true,
   "toc_window_display": true
  },
  "varInspector": {
   "cols": {
    "lenName": 16,
    "lenType": 16,
    "lenVar": 40
   },
   "kernels_config": {
    "python": {
     "delete_cmd_postfix": "",
     "delete_cmd_prefix": "del ",
     "library": "var_list.py",
     "varRefreshCmd": "print(var_dic_list())"
    },
    "r": {
     "delete_cmd_postfix": ") ",
     "delete_cmd_prefix": "rm(",
     "library": "var_list.r",
     "varRefreshCmd": "cat(var_dic_list()) "
    }
   },
   "types_to_exclude": [
    "module",
    "function",
    "builtin_function_or_method",
    "instance",
    "_Feature"
   ],
   "window_display": false
  }
 },
 "nbformat": 4,
 "nbformat_minor": 2
}
