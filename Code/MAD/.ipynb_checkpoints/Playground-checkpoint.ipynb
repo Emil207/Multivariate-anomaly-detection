{
 "cells": [
  {
   "cell_type": "markdown",
   "metadata": {},
   "source": [
    "# Playground"
   ]
  },
  {
   "cell_type": "markdown",
   "metadata": {
    "heading_collapsed": true
   },
   "source": [
    "## Import packages"
   ]
  },
  {
   "cell_type": "code",
   "execution_count": 40,
   "metadata": {
    "hidden": true
   },
   "outputs": [],
   "source": [
    "%reload_ext autoreload\n",
    "%reload_ext tensorboard\n",
    "\n",
    "# simulation \n",
    "import simulator as sim\n",
    "\n",
    "# data manipulation\n",
    "import numpy as np\n",
    "import pandas as pd\n",
    "\n",
    "# data visualization\n",
    "%matplotlib inline\n",
    "import matplotlib.pyplot as plt\n",
    "\n",
    "# isolation forest\n",
    "from sklearn.ensemble import IsolationForest\n",
    "\n",
    "# gan\n",
    "import gan as g\n",
    "import tensorflow as tf\n",
    "from tensorflow import keras\n",
    "from tensorflow.keras import Sequential\n",
    "from tensorflow.keras import Model\n",
    "from tensorflow.keras.callbacks import TensorBoard\n",
    "from tensorflow.keras.layers import Dense, TimeDistributed, LSTM, Input\n",
    "from tensorflow.keras.optimizers import Adam\n",
    "from scipy.optimize import least_squares\n",
    "\n",
    "\n",
    "\n",
    "from datetime import datetime\n",
    "\n",
    "# evaluation \n",
    "from sklearn.metrics import confusion_matrix, precision_score, recall_score"
   ]
  },
  {
   "cell_type": "markdown",
   "metadata": {},
   "source": [
    "## Sensor and anomaly simulation"
   ]
  },
  {
   "cell_type": "markdown",
   "metadata": {},
   "source": [
    "### Define values"
   ]
  },
  {
   "cell_type": "code",
   "execution_count": 158,
   "metadata": {},
   "outputs": [],
   "source": [
    "features = 1  # nbr of time series\n",
    "series_length = 200  # nbr of simulations\n",
    "lag = 3  # lag for the ar-series\n",
    "anomaly_amp = 5\n",
    "anomaly_freq = 0.01\n",
    "season_amp = 0  # amplitude of seasonal component\n",
    "season_period = 50  # season period\n",
    "e = 0.1"
   ]
  },
  {
   "cell_type": "markdown",
   "metadata": {
    "heading_collapsed": true
   },
   "source": [
    "### Set AR-matrices"
   ]
  },
  {
   "cell_type": "code",
   "execution_count": 160,
   "metadata": {
    "hidden": true
   },
   "outputs": [],
   "source": [
    "ar = np.zeros((features, features))\n",
    "constant = np.zeros(features)\n",
    "trend = np.zeros(features)"
   ]
  },
  {
   "cell_type": "code",
   "execution_count": 161,
   "metadata": {
    "code_folding": [],
    "hidden": true
   },
   "outputs": [],
   "source": [
    "# first time series\n",
    "ar[0, 0] = 0\n",
    "\n",
    "constant[0] = 0\n",
    "trend[0] = 0"
   ]
  },
  {
   "cell_type": "code",
   "execution_count": 162,
   "metadata": {
    "code_folding": [
     0
    ],
    "hidden": true
   },
   "outputs": [
    {
     "ename": "IndexError",
     "evalue": "index 1 is out of bounds for axis 1 with size 1",
     "output_type": "error",
     "traceback": [
      "\u001b[0;31m---------------------------------------------------------------------------\u001b[0m",
      "\u001b[0;31mIndexError\u001b[0m                                Traceback (most recent call last)",
      "\u001b[0;32m<ipython-input-162-6954019c1c01>\u001b[0m in \u001b[0;36m<module>\u001b[0;34m\u001b[0m\n\u001b[1;32m      1\u001b[0m \u001b[0;31m# second time series\u001b[0m\u001b[0;34m\u001b[0m\u001b[0;34m\u001b[0m\u001b[0;34m\u001b[0m\u001b[0m\n\u001b[0;32m----> 2\u001b[0;31m \u001b[0mar\u001b[0m\u001b[0;34m[\u001b[0m\u001b[0;36m0\u001b[0m\u001b[0;34m,\u001b[0m \u001b[0;36m1\u001b[0m\u001b[0;34m]\u001b[0m \u001b[0;34m=\u001b[0m \u001b[0;36m0\u001b[0m\u001b[0;34m\u001b[0m\u001b[0;34m\u001b[0m\u001b[0m\n\u001b[0m\u001b[1;32m      3\u001b[0m \u001b[0mar\u001b[0m\u001b[0;34m[\u001b[0m\u001b[0;36m1\u001b[0m\u001b[0;34m,\u001b[0m \u001b[0;36m0\u001b[0m\u001b[0;34m]\u001b[0m \u001b[0;34m=\u001b[0m \u001b[0;36m0.5\u001b[0m\u001b[0;34m\u001b[0m\u001b[0;34m\u001b[0m\u001b[0m\n\u001b[1;32m      4\u001b[0m \u001b[0mar\u001b[0m\u001b[0;34m[\u001b[0m\u001b[0;36m1\u001b[0m\u001b[0;34m,\u001b[0m \u001b[0;36m1\u001b[0m\u001b[0;34m]\u001b[0m \u001b[0;34m=\u001b[0m \u001b[0;36m0\u001b[0m\u001b[0;34m\u001b[0m\u001b[0;34m\u001b[0m\u001b[0m\n\u001b[1;32m      5\u001b[0m \u001b[0;34m\u001b[0m\u001b[0m\n",
      "\u001b[0;31mIndexError\u001b[0m: index 1 is out of bounds for axis 1 with size 1"
     ]
    }
   ],
   "source": [
    "# second time series\n",
    "ar[0, 1] = 0\n",
    "ar[1, 0] = 0.5\n",
    "ar[1, 1] = 0\n",
    "\n",
    "constant[1] = 2\n",
    "trend[1] = 0"
   ]
  },
  {
   "cell_type": "code",
   "execution_count": null,
   "metadata": {
    "code_folding": [
     0
    ],
    "hidden": true
   },
   "outputs": [],
   "source": [
    "# third time series\n",
    "ar[1, 2] = 0\n",
    "ar[2, 0] = 0\n",
    "ar[2, 1] = 0.3\n",
    "ar[2, 2] = 0\n",
    "\n",
    "constant[2] = 10\n",
    "trend[2] = 0"
   ]
  },
  {
   "cell_type": "markdown",
   "metadata": {
    "heading_collapsed": true
   },
   "source": [
    "### Simulate sensor data"
   ]
  },
  {
   "cell_type": "code",
   "execution_count": null,
   "metadata": {
    "code_folding": [
     0
    ],
    "hidden": true
   },
   "outputs": [],
   "source": [
    "#sensor_df = pd.DataFrame(sensor, index=time)\n",
    "#anomaly_df = pd.DataFrame(index=time)\n",
    "#anomaly_df['Point anomaly'] = pd.Series(\n",
    "#    sim.point_anomaly(anomaly_freq, features, anomaly_amp))\n",
    "#anomaly_df['Trend anomaly'] = pd.Series(trend_anomaly(0.01, n_sim, 20, 3))\n",
    "\n",
    "#sensor_df[0] = sensor_df[0] + anomaly_df[\n",
    "#    'Point anomaly']  # add point anomalies to first time series\n",
    "#sensor_df.fillna('0')"
   ]
  },
  {
   "cell_type": "code",
   "execution_count": 163,
   "metadata": {
    "code_folding": [
     0
    ],
    "hidden": true,
    "scrolled": true
   },
   "outputs": [
    {
     "data": {
      "image/png": "[encoded data removed]",
      "text/plain": [
       "<Figure size 432x288 with 1 Axes>"
      ]
     },
     "metadata": {
      "needs_background": "light"
     },
     "output_type": "display_data"
    }
   ],
   "source": [
    "sensor = sim.sensor_simulation(series_length, features, ar, lag, constant, trend, e,\n",
    "                               season_amp, season_period)\n",
    "sensor[175:180] = 10\n",
    "time = np.linspace(0, series_length - 1, series_length)\n",
    "plt.plot(sensor);"
   ]
  },
  {
   "cell_type": "markdown",
   "metadata": {
    "heading_collapsed": true,
    "hidden": true
   },
   "source": [
    "#### Alternative simulation"
   ]
  },
  {
   "cell_type": "code",
   "execution_count": null,
   "metadata": {
    "hidden": true
   },
   "outputs": [],
   "source": [
    "#empty = np.zeros((150,2))\n",
    "#model = VARMAX(empty, order=(1, 0), trend='c')\n",
    "\n",
    "# [trend, trend, ar11, ar12, ar22, ar21, sigma]\n",
    "#simulations = model.simulate([1, A[0,0], 0, 0, 0.5, 0, 0.1], 150)\n",
    "\n",
    "#empty = np.zeros(150)\n",
    "#model = SARIMAX(empty, order=(1, 0, 0), trend='c')\n",
    "#simulations = model.simulate([1, 0.9, 0.1], 150)\n",
    "#plt.plot(simulations)"
   ]
  },
  {
   "cell_type": "markdown",
   "metadata": {},
   "source": [
    "## Models"
   ]
  },
  {
   "cell_type": "markdown",
   "metadata": {
    "heading_collapsed": true
   },
   "source": [
    "### Isolation Forest"
   ]
  },
  {
   "cell_type": "code",
   "execution_count": null,
   "metadata": {
    "hidden": true,
    "scrolled": false
   },
   "outputs": [],
   "source": [
    "model = IsolationForest(n_estimators=100,\n",
    "                        contamination=0.01,\n",
    "                        max_samples='auto',\n",
    "                        behaviour='new')\n",
    "model.fit(sensor_df)\n",
    "anomaly_df['Predicted anomaly'] = pd.Series(model.predict(sensor_df))\n",
    "fig, ax = plt.subplots(figsize=(16, 5))\n",
    "ax.plot(sensor_df[0], color='red')\n",
    "\n",
    "a = anomaly_df.loc[anomaly_df['Predicted anomaly'] == -1,\n",
    "                   ['Point anomaly']]  #anomaly\n",
    "ax.scatter(a.index, a['Point anomaly'], color='blue');"
   ]
  },
  {
   "cell_type": "markdown",
   "metadata": {},
   "source": [
    "### GAN"
   ]
  },
  {
   "cell_type": "markdown",
   "metadata": {},
   "source": [
    "#### Definitions"
   ]
  },
  {
   "cell_type": "code",
   "execution_count": 164,
   "metadata": {
    "code_folding": []
   },
   "outputs": [],
   "source": [
    "def split_sequences(sequences, n_steps):\n",
    "    X, y = list(), list()\n",
    "    for i in range(len(sequences)):\n",
    "        # find the end of this pattern\n",
    "        end_ix = i + n_steps\n",
    "        out_end_ix = end_ix + 1\n",
    "        # check if we are beyond the dataset\n",
    "        if out_end_ix > len(sequences):\n",
    "            break\n",
    "        # gather input and output parts of the pattern\n",
    "        seq_x, seq_y = sequences[i:end_ix, :], sequences[end_ix:out_end_ix, :]\n",
    "        X.append(seq_x)\n",
    "        y.append(seq_y)\n",
    "    return np.array(X), np.array(y)\n",
    " "
   ]
  },
  {
   "cell_type": "markdown",
   "metadata": {},
   "source": [
    "#### Generate series and split into sequences"
   ]
  },
  {
   "cell_type": "code",
   "execution_count": 165,
   "metadata": {},
   "outputs": [],
   "source": [
    "timesteps = 30\n",
    "cut = 120\n",
    "train = sensor[:cut]\n",
    "test = sensor [cut:]\n",
    "train_length = len(train)\n",
    "test_length = len(test)\n",
    "train_samples = train_length - timesteps\n",
    "test_samples = test_length - timesteps"
   ]
  },
  {
   "cell_type": "code",
   "execution_count": 166,
   "metadata": {},
   "outputs": [],
   "source": [
    "X_tr, y_tr = split_sequences(train, timesteps)\n",
    "X_te, y_te = split_sequences(test, timesteps)"
   ]
  },
  {
   "cell_type": "markdown",
   "metadata": {},
   "source": [
    "#### Create GAN"
   ]
  },
  {
   "cell_type": "code",
   "execution_count": 167,
   "metadata": {},
   "outputs": [],
   "source": [
    "# Creating GAN\n",
    "units = 50\n",
    "gen = g.create_generator(timesteps, features, units)\n",
    "disc = g.create_discriminator(timesteps, features, units)\n",
    "gan = g.create_gan(disc, gen, timesteps, features)"
   ]
  },
  {
   "cell_type": "markdown",
   "metadata": {},
   "source": [
    "#### Train GAN"
   ]
  },
  {
   "cell_type": "code",
   "execution_count": 168,
   "metadata": {},
   "outputs": [],
   "source": [
    "current_time = datetime.now().strftime(\"%Y%m%d-%H%M%S\")\n",
    "train_log_dir = 'logs/train_on_batch/' + current_time + 'train'\n",
    "train_writer = tf.summary.create_file_writer(train_log_dir)\n",
    "epochs = 10"
   ]
  },
  {
   "cell_type": "code",
   "execution_count": 169,
   "metadata": {
    "scrolled": true
   },
   "outputs": [],
   "source": [
    "g.training(X_tr, gen, disc, gan, train_samples, timesteps, features, train_writer, epochs)"
   ]
  },
  {
   "cell_type": "code",
   "execution_count": 36,
   "metadata": {
    "scrolled": true
   },
   "outputs": [],
   "source": [
    "#%tensorboard --logdir logs/train_on_batch --port=6009"
   ]
  },
  {
   "cell_type": "markdown",
   "metadata": {
    "heading_collapsed": true
   },
   "source": [
    "##### Clear logs"
   ]
  },
  {
   "cell_type": "code",
   "execution_count": 29,
   "metadata": {
    "hidden": true
   },
   "outputs": [],
   "source": [
    "!rm -rf ./logs"
   ]
  },
  {
   "cell_type": "markdown",
   "metadata": {},
   "source": [
    "#### Test GAN"
   ]
  },
  {
   "cell_type": "markdown",
   "metadata": {},
   "source": [
    "##### Mapping test data back to latent space"
   ]
  },
  {
   "cell_type": "code",
   "execution_count": 170,
   "metadata": {},
   "outputs": [],
   "source": [
    "# Generate random samples\n",
    "Z = np.random.normal(loc=0, scale=1, size=[test_samples, timesteps, features])"
   ]
  },
  {
   "cell_type": "code",
   "execution_count": 171,
   "metadata": {},
   "outputs": [],
   "source": [
    "def reconstruction_error_sample(Z, *args):\n",
    "    Z_reshape = np.reshape(Z,(1, timesteps, features))\n",
    "    G = gen.predict(Z_reshape) \n",
    "    correlation = np.corrcoef(X_sample, G[0], rowvar=False)\n",
    "    similarity_sample = np.diag(correlation[features:]) # crosscorrelation\n",
    "    error_sample = 1 - similarity_sample\n",
    "    return error_sample"
   ]
  },
  {
   "cell_type": "code",
   "execution_count": null,
   "metadata": {},
   "outputs": [
    {
     "name": "stdout",
     "output_type": "stream",
     "text": [
      "[1.30127053]\n",
      "[1.4404452]\n",
      "[1.36611778]\n",
      "[1.40563094]\n",
      "[1.27699246]\n",
      "[1.30654363]\n"
     ]
    }
   ],
   "source": [
    "pre_error = []\n",
    "past_error = []\n",
    "Z_new = []\n",
    "for s in range(test_samples):\n",
    "    X_sample = X_te[s]\n",
    "    Z_sample = Z[s]\n",
    "    print(reconstruction_error_sample(Z_sample, X_sample))\n",
    "    # pre-error\n",
    "    pre_error.append(reconstruction_error_sample(Z_sample, X_sample))\n",
    "    Z_sample_new = least_squares(reconstruction_error_sample, Z_sample[:,0], args=(X_sample)).x\n",
    "    Z_new.append(Z_sample_new)\n",
    "    past_error.append(reconstruction_error_sample(Z_sample, X_sample))"
   ]
  },
  {
   "cell_type": "code",
   "execution_count": null,
   "metadata": {},
   "outputs": [],
   "source": [
    "plt.plot(pre_error)\n",
    "plt.plot(past_error)"
   ]
  },
  {
   "cell_type": "code",
   "execution_count": null,
   "metadata": {
    "scrolled": true
   },
   "outputs": [],
   "source": [
    "latent_Z = Z_new[0]\n",
    "for i in range(1, test_samples):\n",
    "    latent_Z = np.vstack((latent_Z,Z_new[i]))\n",
    "latent_Z = latent_Z.reshape(30,30,1)"
   ]
  },
  {
   "cell_type": "code",
   "execution_count": null,
   "metadata": {},
   "outputs": [],
   "source": [
    "# Generate random samples\n",
    "Z = np.random.normal(loc=0, scale=1, size=[test_samples, timesteps, features])"
   ]
  },
  {
   "cell_type": "markdown",
   "metadata": {
    "heading_collapsed": true
   },
   "source": [
    "##### Mapping test data back to latent space (LAB)"
   ]
  },
  {
   "cell_type": "code",
   "execution_count": 117,
   "metadata": {
    "hidden": true
   },
   "outputs": [],
   "source": [
    "# set sample\n",
    "s = 2"
   ]
  },
  {
   "cell_type": "code",
   "execution_count": 118,
   "metadata": {
    "hidden": true
   },
   "outputs": [],
   "source": [
    "def reconstruction_error_sample(Z, *args):\n",
    "    Z_reshape = np.reshape(Z,(1, timesteps, features))\n",
    "    G = gen.predict(Z_reshape)\n",
    "    correlation = np.corrcoef(X_te[s], G[0], rowvar=False)\n",
    "    similarity_sample = np.diag(correlation[features:]) # crosscorrelation\n",
    "    error_sample = 1 - similarity_sample\n",
    "    return error_sample"
   ]
  },
  {
   "cell_type": "code",
   "execution_count": 119,
   "metadata": {
    "hidden": true
   },
   "outputs": [],
   "source": [
    "def reconstruction_error_sample_2(Z, *args):\n",
    "    Z_reshape = np.reshape(Z,(1, timesteps, features))\n",
    "    G = gen.predict(Z_reshape)\n",
    "    error_sample = np.mean(G - X_te[s])\n",
    "    return error_sample"
   ]
  },
  {
   "cell_type": "code",
   "execution_count": 120,
   "metadata": {
    "hidden": true
   },
   "outputs": [
    {
     "data": {
      "text/plain": [
       "array([[ 1.45276163],\n",
       "       [-0.03823972],\n",
       "       [-0.63261617],\n",
       "       [-1.85748504],\n",
       "       [ 0.79237693],\n",
       "       [-0.27174539],\n",
       "       [-0.63750517],\n",
       "       [-0.1899426 ],\n",
       "       [ 0.72921116],\n",
       "       [-0.99105994],\n",
       "       [ 0.32814313],\n",
       "       [ 0.90987998],\n",
       "       [ 0.6190701 ],\n",
       "       [ 1.126425  ],\n",
       "       [ 0.17357617],\n",
       "       [ 0.80604166],\n",
       "       [ 4.257085  ],\n",
       "       [ 4.72692763],\n",
       "       [ 1.75809248],\n",
       "       [ 0.71049351],\n",
       "       [-0.37858686],\n",
       "       [-1.29420501],\n",
       "       [ 1.32602389],\n",
       "       [-0.06756519],\n",
       "       [-0.64443231],\n",
       "       [ 1.32566115],\n",
       "       [-0.09603442],\n",
       "       [ 0.56566921],\n",
       "       [ 0.55495892],\n",
       "       [-0.74636601]])"
      ]
     },
     "execution_count": 120,
     "metadata": {},
     "output_type": "execute_result"
    }
   ],
   "source": [
    "Z[s]"
   ]
  },
  {
   "cell_type": "code",
   "execution_count": 121,
   "metadata": {
    "hidden": true
   },
   "outputs": [
    {
     "data": {
      "text/plain": [
       "(30, 1)"
      ]
     },
     "execution_count": 121,
     "metadata": {},
     "output_type": "execute_result"
    }
   ],
   "source": [
    "X_te[s].shape"
   ]
  },
  {
   "cell_type": "code",
   "execution_count": 132,
   "metadata": {
    "hidden": true
   },
   "outputs": [],
   "source": [
    "from scipy.optimize import least_squares\n",
    "Z_k = least_squares(reconstruction_error_sample_2, Z[s,:,0], args=(X_te[s]))"
   ]
  },
  {
   "cell_type": "code",
   "execution_count": 123,
   "metadata": {
    "hidden": true,
    "scrolled": true
   },
   "outputs": [
    {
     "data": {
      "text/plain": [
       "array([ 0.        ,  0.        ,  0.        ,  0.        ,  0.        ,\n",
       "        0.        ,  0.        ,  0.        ,  0.        ,  0.        ,\n",
       "        1.30382354,  0.        ,  0.        ,  0.        ,  0.        ,\n",
       "        0.        ,  0.        ,  0.        ,  0.        ,  0.        ,\n",
       "        1.97058527,  0.        ,  0.        , -7.82294822,  0.        ,\n",
       "        0.        , -0.21895412,  0.        ,  0.        ,  0.        ])"
      ]
     },
     "execution_count": 123,
     "metadata": {},
     "output_type": "execute_result"
    }
   ],
   "source": [
    "Z_k.x - Z[s,:,0]"
   ]
  },
  {
   "cell_type": "code",
   "execution_count": 124,
   "metadata": {
    "hidden": true
   },
   "outputs": [],
   "source": [
    "G = gen.predict(Z)"
   ]
  },
  {
   "cell_type": "code",
   "execution_count": 125,
   "metadata": {
    "hidden": true
   },
   "outputs": [
    {
     "data": {
      "text/plain": [
       "[<matplotlib.lines.Line2D at 0x1a6d203c50>]"
      ]
     },
     "execution_count": 125,
     "metadata": {},
     "output_type": "execute_result"
    },
    {
     "data": {
      "image/png": "[encoded data removed]",
      "text/plain": [
       "<Figure size 432x288 with 1 Axes>"
      ]
     },
     "metadata": {
      "needs_background": "light"
     },
     "output_type": "display_data"
    }
   ],
   "source": [
    "plt.plot(G[s])\n",
    "plt.plot(X_te[s])"
   ]
  },
  {
   "cell_type": "code",
   "execution_count": 126,
   "metadata": {
    "hidden": true
   },
   "outputs": [
    {
     "data": {
      "text/plain": [
       "-0.9607835596427321"
      ]
     },
     "execution_count": 126,
     "metadata": {},
     "output_type": "execute_result"
    }
   ],
   "source": [
    "reconstruction_error_sample_2(Z[s])"
   ]
  },
  {
   "cell_type": "code",
   "execution_count": 127,
   "metadata": {
    "hidden": true
   },
   "outputs": [],
   "source": [
    "Z[s] = Z_k.x.reshape(timesteps,1)"
   ]
  },
  {
   "cell_type": "code",
   "execution_count": 128,
   "metadata": {
    "hidden": true
   },
   "outputs": [],
   "source": [
    "G = gen.predict(Z)"
   ]
  },
  {
   "cell_type": "code",
   "execution_count": 129,
   "metadata": {
    "hidden": true
   },
   "outputs": [
    {
     "data": {
      "text/plain": [
       "[<matplotlib.lines.Line2D at 0x1a6d3a5c10>]"
      ]
     },
     "execution_count": 129,
     "metadata": {},
     "output_type": "execute_result"
    },
    {
     "data": {
      "image/png": "[encoded data removed]",
      "text/plain": [
       "<Figure size 432x288 with 1 Axes>"
      ]
     },
     "metadata": {
      "needs_background": "light"
     },
     "output_type": "display_data"
    }
   ],
   "source": [
    "plt.plot(G[s])\n",
    "plt.plot(X_te[s])"
   ]
  },
  {
   "cell_type": "code",
   "execution_count": 130,
   "metadata": {
    "hidden": true
   },
   "outputs": [
    {
     "data": {
      "text/plain": [
       "-0.9419419440751274"
      ]
     },
     "execution_count": 130,
     "metadata": {},
     "output_type": "execute_result"
    }
   ],
   "source": [
    "reconstruction_error_sample_2(Z[s])"
   ]
  },
  {
   "cell_type": "markdown",
   "metadata": {},
   "source": [
    "##### Calculate scores"
   ]
  },
  {
   "cell_type": "code",
   "execution_count": null,
   "metadata": {},
   "outputs": [],
   "source": [
    "# Calculate reconstruction residuals\n",
    "generated_X = gen.predict(latent_Z)\n",
    "reconstruct_res = abs(X_te - generated_X)"
   ]
  },
  {
   "cell_type": "code",
   "execution_count": null,
   "metadata": {},
   "outputs": [],
   "source": [
    "# Calculate discrimination residuals\n",
    "disc_res = abs(0.9 - disc(X_te))"
   ]
  },
  {
   "cell_type": "code",
   "execution_count": null,
   "metadata": {
    "code_folding": [
     0
    ],
    "scrolled": false
   },
   "outputs": [],
   "source": [
    "#discrimination = []\n",
    "#for i in period:\n",
    "#    temp = np.sin(2 * np.pi * x / i)\n",
    "#    X_te[0] = temp.reshape(timesteps,1)\n",
    "#    discrimination.append(np.abs(0.9 - disc(X_te)[0]))\n",
    "#plt.plot(period, discrimination)"
   ]
  },
  {
   "cell_type": "code",
   "execution_count": null,
   "metadata": {},
   "outputs": [],
   "source": [
    "# Calculate combined\n",
    "L = reconstruct_res + disc_res"
   ]
  },
  {
   "cell_type": "code",
   "execution_count": null,
   "metadata": {},
   "outputs": [],
   "source": [
    "# Calculate DR-score\n",
    "score_all = np.zeros(test_length)\n",
    "count = np.zeros(test_length)\n",
    "for j in range(test_samples):\n",
    "    for s in range(timesteps):\n",
    "        score_all[j+s] += L[j, s]\n",
    "        count[j+s] += 1\n",
    "dr_score = np.divide(score_all, count)"
   ]
  },
  {
   "cell_type": "code",
   "execution_count": null,
   "metadata": {
    "scrolled": false
   },
   "outputs": [],
   "source": [
    "plt.plot(dr_score);"
   ]
  },
  {
   "cell_type": "markdown",
   "metadata": {
    "heading_collapsed": true
   },
   "source": [
    "## Evaluation"
   ]
  },
  {
   "cell_type": "code",
   "execution_count": null,
   "metadata": {
    "hidden": true
   },
   "outputs": [],
   "source": [
    "def eval(pred_anomaly_bool, anomaly_bool):\n",
    "    confusion = confusion_matrix(pred_anomaly_bool, anomaly_bool)\n",
    "    precision = precision_score(pred_anomaly_bool, anomaly_bool)        \n",
    "    recall = recall_score(pred_anomaly_bool, anomaly_bool)\n",
    "    return confusion, precision, recall"
   ]
  },
  {
   "cell_type": "markdown",
   "metadata": {
    "hidden": true
   },
   "source": [
    "### Isolation Forest"
   ]
  },
  {
   "cell_type": "code",
   "execution_count": null,
   "metadata": {
    "hidden": true
   },
   "outputs": [],
   "source": [
    "if_pred_anomaly_bool = anomaly_df['Predicted anomaly'] == -1\n",
    "if_anomaly_bool = (anomaly_df['Point anomaly'] != 0)\n",
    "\n",
    "[c, p, e] = eval(if_pred_anomaly_bool, if_anomaly_bool)"
   ]
  }
 ],
 "metadata": {
  "kernelspec": {
   "display_name": "Python 3",
   "language": "python",
   "name": "python3"
  },
  "language_info": {
   "codemirror_mode": {
    "name": "ipython",
    "version": 3
   },
   "file_extension": ".py",
   "mimetype": "text/x-python",
   "name": "python",
   "nbconvert_exporter": "python",
   "pygments_lexer": "ipython3",
   "version": "3.7.4"
  },
  "toc": {
   "base_numbering": 1,
   "nav_menu": {},
   "number_sections": true,
   "sideBar": true,
   "skip_h1_title": true,
   "title_cell": "Table of Contents",
   "title_sidebar": "Contents",
   "toc_cell": false,
   "toc_position": {},
   "toc_section_display": true,
   "toc_window_display": false
  },
  "varInspector": {
   "cols": {
    "lenName": 16,
    "lenType": 16,
    "lenVar": 40
   },
   "kernels_config": {
    "python": {
     "delete_cmd_postfix": "",
     "delete_cmd_prefix": "del ",
     "library": "var_list.py",
     "varRefreshCmd": "print(var_dic_list())"
    },
    "r": {
     "delete_cmd_postfix": ") ",
     "delete_cmd_prefix": "rm(",
     "library": "var_list.r",
     "varRefreshCmd": "cat(var_dic_list()) "
    }
   },
   "position": {
    "height": "380px",
    "left": "888px",
    "right": "20px",
    "top": "121px",
    "width": "265px"
   },
   "types_to_exclude": [
    "module",
    "function",
    "builtin_function_or_method",
    "instance",
    "_Feature"
   ],
   "window_display": false
  }
 },
 "nbformat": 4,
 "nbformat_minor": 2
}
