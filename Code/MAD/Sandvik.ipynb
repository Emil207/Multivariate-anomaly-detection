{
 "cells": [
  {
   "cell_type": "markdown",
   "metadata": {},
   "source": [
    "# Sandvik"
   ]
  },
  {
   "cell_type": "markdown",
   "metadata": {
    "heading_collapsed": true
   },
   "source": [
    "## Import packages and load files"
   ]
  },
  {
   "cell_type": "markdown",
   "metadata": {
    "heading_collapsed": true,
    "hidden": true
   },
   "source": [
    "### Import packages"
   ]
  },
  {
   "cell_type": "code",
   "execution_count": 2,
   "metadata": {
    "code_folding": [],
    "hidden": true
   },
   "outputs": [],
   "source": [
    "# Data manipulation\n",
    "import numpy as np\n",
    "import pandas as pd\n",
    "import glob, os\n",
    "import time\n",
    "\n",
    "# Data visualization\n",
    "import matplotlib.pyplot as plt\n",
    "import seaborn as sns\n",
    "\n",
    "# Modelling\n",
    "from sklearn.ensemble import IsolationForest \n",
    "from sklearn.model_selection import train_test_split\n",
    "from sklearn.metrics import mean_absolute_error"
   ]
  },
  {
   "cell_type": "markdown",
   "metadata": {
    "heading_collapsed": true,
    "hidden": true
   },
   "source": [
    "### Load files"
   ]
  },
  {
   "cell_type": "code",
   "execution_count": 3,
   "metadata": {
    "hidden": true
   },
   "outputs": [],
   "source": [
    "# arkiv_B\n",
    "path_arkivb = '/Users/Emil/Data/Exjobbsdata/Sandvik/Data/CSV_2018_B_Arkiv_Sekund'\n",
    "all_arkivb = glob.glob(os.path.join(path_arkivb, \"B1_2018_V2*.TXT\")) \n",
    "df_each_arkivb = (pd.read_csv(f, sep=';', header = None, encoding = 'unicode_escape') for f in all_arkivb)\n",
    "arkivb_df = pd.concat(df_each_arkivb, ignore_index = True)\n",
    "\n",
    "arkivb_df['Datetime'] = pd.to_datetime(arkivb_df[3] + ' ' + arkivb_df[4])\n",
    "arkivb_df = arkivb_df.drop([3, 4], axis = 1)"
   ]
  },
  {
   "cell_type": "code",
   "execution_count": 4,
   "metadata": {
    "hidden": true
   },
   "outputs": [],
   "source": [
    "# handelser (sep 17- jun 18)\n",
    "path_handelser = '/Users/Emil/Data/Exjobbsdata/Sandvik/Data/Handelser'\n",
    "all_handelser = glob.glob(os.path.join(path_handelser, \"*.TXT\"))\n",
    "\n",
    "df_each_handelser = (pd.read_csv(f, sep=';', header = None, encoding = 'unicode_escape', parse_dates = [1]) for f in all_handelser)\n",
    "handelser_df1 = pd.concat(df_each_handelser, ignore_index = True)\n",
    "handelser_df = handelser_df1.drop([3, 4], axis=1)"
   ]
  },
  {
   "cell_type": "code",
   "execution_count": 5,
   "metadata": {
    "hidden": true
   },
   "outputs": [],
   "source": [
    "# larm\n",
    "#path_larm = '/Users/Emil/Data/Exjobbsdata/Sandvik/Data/Larm'\n",
    "#all_larm = glob.glob(os.path.join(path_larm, \"*.TXT\"))\n",
    "\n",
    "#df_each_larm = (pd.read_csv(f, sep=';', header = None, encoding = 'unicode_escape') for f in all_larm)\n",
    "#larm_df = pd.concat(df_each_larm, ignore_index = True)"
   ]
  },
  {
   "cell_type": "markdown",
   "metadata": {
    "heading_collapsed": true
   },
   "source": [
    "## Preprocessing"
   ]
  },
  {
   "cell_type": "code",
   "execution_count": 6,
   "metadata": {
    "hidden": true
   },
   "outputs": [],
   "source": [
    "# Pivot data\n",
    "arkivb_pivot_df = pd.pivot_table(arkivb_df, values=0, index='Datetime', columns=2)"
   ]
  },
  {
   "cell_type": "code",
   "execution_count": 7,
   "metadata": {
    "hidden": true
   },
   "outputs": [
    {
     "data": {
      "text/plain": [
       "(23521, 84)"
      ]
     },
     "execution_count": 7,
     "metadata": {},
     "output_type": "execute_result"
    }
   ],
   "source": [
    "# Group by time\n",
    "arkivb_grouped_df = arkivb_pivot_df.resample(\"3T\").mean()\n",
    "arkivb_grouped_df.shape"
   ]
  },
  {
   "cell_type": "markdown",
   "metadata": {
    "heading_collapsed": true,
    "hidden": true
   },
   "source": [
    "### Erasing if variance is zero"
   ]
  },
  {
   "cell_type": "code",
   "execution_count": 8,
   "metadata": {
    "hidden": true
   },
   "outputs": [
    {
     "data": {
      "text/plain": [
       "(23521, 75)"
      ]
     },
     "execution_count": 8,
     "metadata": {},
     "output_type": "execute_result"
    }
   ],
   "source": [
    "# Drop columns with zero variance (constant)\n",
    "cols_without_variance = [col for col in arkivb_grouped_df.columns if (arkivb_grouped_df[col].var() == 0)]\n",
    "arkivb_variance_df = arkivb_grouped_df.drop(cols_without_variance, axis=1)\n",
    "\n",
    "# Resulting shape\n",
    "arkivb_variance_df.shape"
   ]
  },
  {
   "cell_type": "markdown",
   "metadata": {
    "heading_collapsed": true,
    "hidden": true
   },
   "source": [
    "### Handling missing values and imputing"
   ]
  },
  {
   "cell_type": "code",
   "execution_count": 9,
   "metadata": {
    "hidden": true,
    "scrolled": true
   },
   "outputs": [
    {
     "data": {
      "text/plain": [
       "(23521, 26)"
      ]
     },
     "execution_count": 9,
     "metadata": {},
     "output_type": "execute_result"
    }
   ],
   "source": [
    "# Specify acceptance percent of missing data\n",
    "cut_off = 0.75\n",
    "\n",
    "# Drop columns with missing data\n",
    "arkivb_missing_df = arkivb_variance_df.dropna(thresh = cut_off*len(arkivb_variance_df.index), axis = 1)\n",
    "\n",
    "# Impute missing values with linear function\n",
    "arkivb_imputed_df = arkivb_missing_df.interpolate(axis=0)\n",
    "\n",
    "# Resulting shape\n",
    "arkivb_missing_df.shape"
   ]
  },
  {
   "cell_type": "markdown",
   "metadata": {
    "heading_collapsed": true,
    "hidden": true
   },
   "source": [
    "### Resulting dataframe"
   ]
  },
  {
   "cell_type": "code",
   "execution_count": 10,
   "metadata": {
    "hidden": true
   },
   "outputs": [
    {
     "data": {
      "text/html": [
       "<div>\n",
       "<style scoped>\n",
       "    .dataframe tbody tr th:only-of-type {\n",
       "        vertical-align: middle;\n",
       "    }\n",
       "\n",
       "    .dataframe tbody tr th {\n",
       "        vertical-align: top;\n",
       "    }\n",
       "\n",
       "    .dataframe thead th {\n",
       "        text-align: right;\n",
       "    }\n",
       "</style>\n",
       "<table border=\"1\" class=\"dataframe\">\n",
       "  <thead>\n",
       "    <tr style=\"text-align: right;\">\n",
       "      <th>2</th>\n",
       "      <th>10AH.DRI: Drivning avhaspel,  akt specifikt drag</th>\n",
       "      <th>11PAR.DRI: Drivning valspar 1,  akt specifikt drag</th>\n",
       "      <th>12PAR.DRI: Drivning valspar 2,  akt specifikt drag</th>\n",
       "      <th>14PH.DRI: Drivning påhaspel,  akt specifikt drag</th>\n",
       "      <th>GIvare: Valsoljeflöde, skalat värde</th>\n",
       "      <th>Givare: Diametermätare avhaspel, skalat värde</th>\n",
       "      <th>Givare: Flöde från filter 1 till rentank, skalat värde</th>\n",
       "      <th>Givare: Flöde från filter 2 till rentank, skalat värde</th>\n",
       "      <th>Givare: Nivå i rentank, skalat värde</th>\n",
       "      <th>Givare: Nivå i smutstank, skalat värde</th>\n",
       "      <th>...</th>\n",
       "      <th>Givare: Valskraft skevning par 2, skalat värde</th>\n",
       "      <th>Givare: Valsoljetryck, skalat värde</th>\n",
       "      <th>Givare:Temp valsolja, skalat värde</th>\n",
       "      <th>Par 1: Diffvalskraft</th>\n",
       "      <th>Par 1: valskraft</th>\n",
       "      <th>Par 3: Diffvalskraft</th>\n",
       "      <th>Par 3: valskraft</th>\n",
       "      <th>Posregulator valsspalt, ärvärde</th>\n",
       "      <th>Tjockleksmätare 2 , avvikelse</th>\n",
       "      <th>Tjockleksmätare 3 , avvikelse</th>\n",
       "    </tr>\n",
       "    <tr>\n",
       "      <th>Datetime</th>\n",
       "      <th></th>\n",
       "      <th></th>\n",
       "      <th></th>\n",
       "      <th></th>\n",
       "      <th></th>\n",
       "      <th></th>\n",
       "      <th></th>\n",
       "      <th></th>\n",
       "      <th></th>\n",
       "      <th></th>\n",
       "      <th></th>\n",
       "      <th></th>\n",
       "      <th></th>\n",
       "      <th></th>\n",
       "      <th></th>\n",
       "      <th></th>\n",
       "      <th></th>\n",
       "      <th></th>\n",
       "      <th></th>\n",
       "      <th></th>\n",
       "      <th></th>\n",
       "    </tr>\n",
       "  </thead>\n",
       "  <tbody>\n",
       "    <tr>\n",
       "      <td>2018-05-21 01:00:00</td>\n",
       "      <td>0.0</td>\n",
       "      <td>0.600559</td>\n",
       "      <td>0.926163</td>\n",
       "      <td>0.878771</td>\n",
       "      <td>283.634545</td>\n",
       "      <td>185.455085</td>\n",
       "      <td>324.419512</td>\n",
       "      <td>327.753659</td>\n",
       "      <td>1.6</td>\n",
       "      <td>1.500000</td>\n",
       "      <td>...</td>\n",
       "      <td>1.982192</td>\n",
       "      <td>1.850838</td>\n",
       "      <td>30.231818</td>\n",
       "      <td>0.0</td>\n",
       "      <td>0.0</td>\n",
       "      <td>-4.9</td>\n",
       "      <td>4.9</td>\n",
       "      <td>0.0</td>\n",
       "      <td>-143.633333</td>\n",
       "      <td>-144.7</td>\n",
       "    </tr>\n",
       "    <tr>\n",
       "      <td>2018-05-21 01:03:00</td>\n",
       "      <td>0.0</td>\n",
       "      <td>0.635196</td>\n",
       "      <td>1.065363</td>\n",
       "      <td>0.929609</td>\n",
       "      <td>283.468142</td>\n",
       "      <td>185.251471</td>\n",
       "      <td>324.319178</td>\n",
       "      <td>327.750617</td>\n",
       "      <td>1.6</td>\n",
       "      <td>1.500000</td>\n",
       "      <td>...</td>\n",
       "      <td>1.926126</td>\n",
       "      <td>1.842697</td>\n",
       "      <td>30.223404</td>\n",
       "      <td>0.0</td>\n",
       "      <td>0.0</td>\n",
       "      <td>-4.9</td>\n",
       "      <td>4.9</td>\n",
       "      <td>0.0</td>\n",
       "      <td>-143.650000</td>\n",
       "      <td>-144.7</td>\n",
       "    </tr>\n",
       "    <tr>\n",
       "      <td>2018-05-21 01:06:00</td>\n",
       "      <td>0.0</td>\n",
       "      <td>0.650556</td>\n",
       "      <td>1.102222</td>\n",
       "      <td>0.970556</td>\n",
       "      <td>283.455263</td>\n",
       "      <td>185.323932</td>\n",
       "      <td>324.227027</td>\n",
       "      <td>327.780303</td>\n",
       "      <td>1.6</td>\n",
       "      <td>1.500000</td>\n",
       "      <td>...</td>\n",
       "      <td>1.895000</td>\n",
       "      <td>1.847458</td>\n",
       "      <td>30.217647</td>\n",
       "      <td>0.0</td>\n",
       "      <td>0.0</td>\n",
       "      <td>-4.9</td>\n",
       "      <td>4.9</td>\n",
       "      <td>0.0</td>\n",
       "      <td>-143.633333</td>\n",
       "      <td>-144.7</td>\n",
       "    </tr>\n",
       "    <tr>\n",
       "      <td>2018-05-21 01:09:00</td>\n",
       "      <td>0.0</td>\n",
       "      <td>0.658989</td>\n",
       "      <td>1.145506</td>\n",
       "      <td>0.990449</td>\n",
       "      <td>283.434951</td>\n",
       "      <td>185.386260</td>\n",
       "      <td>324.168919</td>\n",
       "      <td>327.752542</td>\n",
       "      <td>1.6</td>\n",
       "      <td>1.500000</td>\n",
       "      <td>...</td>\n",
       "      <td>1.900000</td>\n",
       "      <td>1.843182</td>\n",
       "      <td>30.209677</td>\n",
       "      <td>0.0</td>\n",
       "      <td>0.0</td>\n",
       "      <td>-4.9</td>\n",
       "      <td>4.9</td>\n",
       "      <td>0.0</td>\n",
       "      <td>-143.700000</td>\n",
       "      <td>-144.7</td>\n",
       "    </tr>\n",
       "    <tr>\n",
       "      <td>2018-05-21 01:12:00</td>\n",
       "      <td>0.0</td>\n",
       "      <td>0.648045</td>\n",
       "      <td>1.070391</td>\n",
       "      <td>0.967039</td>\n",
       "      <td>283.511864</td>\n",
       "      <td>185.664815</td>\n",
       "      <td>324.360294</td>\n",
       "      <td>327.891304</td>\n",
       "      <td>1.6</td>\n",
       "      <td>1.501333</td>\n",
       "      <td>...</td>\n",
       "      <td>1.681250</td>\n",
       "      <td>1.853933</td>\n",
       "      <td>30.160000</td>\n",
       "      <td>0.0</td>\n",
       "      <td>0.0</td>\n",
       "      <td>-4.9</td>\n",
       "      <td>4.9</td>\n",
       "      <td>0.0</td>\n",
       "      <td>-143.700000</td>\n",
       "      <td>-144.7</td>\n",
       "    </tr>\n",
       "  </tbody>\n",
       "</table>\n",
       "<p>5 rows × 26 columns</p>\n",
       "</div>"
      ],
      "text/plain": [
       "2                    10AH.DRI: Drivning avhaspel,  akt specifikt drag  \\\n",
       "Datetime                                                                \n",
       "2018-05-21 01:00:00                                               0.0   \n",
       "2018-05-21 01:03:00                                               0.0   \n",
       "2018-05-21 01:06:00                                               0.0   \n",
       "2018-05-21 01:09:00                                               0.0   \n",
       "2018-05-21 01:12:00                                               0.0   \n",
       "\n",
       "2                    11PAR.DRI: Drivning valspar 1,  akt specifikt drag  \\\n",
       "Datetime                                                                  \n",
       "2018-05-21 01:00:00                                           0.600559    \n",
       "2018-05-21 01:03:00                                           0.635196    \n",
       "2018-05-21 01:06:00                                           0.650556    \n",
       "2018-05-21 01:09:00                                           0.658989    \n",
       "2018-05-21 01:12:00                                           0.648045    \n",
       "\n",
       "2                    12PAR.DRI: Drivning valspar 2,  akt specifikt drag  \\\n",
       "Datetime                                                                  \n",
       "2018-05-21 01:00:00                                           0.926163    \n",
       "2018-05-21 01:03:00                                           1.065363    \n",
       "2018-05-21 01:06:00                                           1.102222    \n",
       "2018-05-21 01:09:00                                           1.145506    \n",
       "2018-05-21 01:12:00                                           1.070391    \n",
       "\n",
       "2                    14PH.DRI: Drivning påhaspel,  akt specifikt drag  \\\n",
       "Datetime                                                                \n",
       "2018-05-21 01:00:00                                          0.878771   \n",
       "2018-05-21 01:03:00                                          0.929609   \n",
       "2018-05-21 01:06:00                                          0.970556   \n",
       "2018-05-21 01:09:00                                          0.990449   \n",
       "2018-05-21 01:12:00                                          0.967039   \n",
       "\n",
       "2                    GIvare: Valsoljeflöde, skalat värde  \\\n",
       "Datetime                                                   \n",
       "2018-05-21 01:00:00                           283.634545   \n",
       "2018-05-21 01:03:00                           283.468142   \n",
       "2018-05-21 01:06:00                           283.455263   \n",
       "2018-05-21 01:09:00                           283.434951   \n",
       "2018-05-21 01:12:00                           283.511864   \n",
       "\n",
       "2                    Givare: Diametermätare avhaspel, skalat värde  \\\n",
       "Datetime                                                             \n",
       "2018-05-21 01:00:00                                     185.455085   \n",
       "2018-05-21 01:03:00                                     185.251471   \n",
       "2018-05-21 01:06:00                                     185.323932   \n",
       "2018-05-21 01:09:00                                     185.386260   \n",
       "2018-05-21 01:12:00                                     185.664815   \n",
       "\n",
       "2                    Givare: Flöde från filter 1 till rentank, skalat värde  \\\n",
       "Datetime                                                                      \n",
       "2018-05-21 01:00:00                                         324.419512        \n",
       "2018-05-21 01:03:00                                         324.319178        \n",
       "2018-05-21 01:06:00                                         324.227027        \n",
       "2018-05-21 01:09:00                                         324.168919        \n",
       "2018-05-21 01:12:00                                         324.360294        \n",
       "\n",
       "2                    Givare: Flöde från filter 2 till rentank, skalat värde  \\\n",
       "Datetime                                                                      \n",
       "2018-05-21 01:00:00                                         327.753659        \n",
       "2018-05-21 01:03:00                                         327.750617        \n",
       "2018-05-21 01:06:00                                         327.780303        \n",
       "2018-05-21 01:09:00                                         327.752542        \n",
       "2018-05-21 01:12:00                                         327.891304        \n",
       "\n",
       "2                    Givare: Nivå i rentank, skalat värde  \\\n",
       "Datetime                                                    \n",
       "2018-05-21 01:00:00                                   1.6   \n",
       "2018-05-21 01:03:00                                   1.6   \n",
       "2018-05-21 01:06:00                                   1.6   \n",
       "2018-05-21 01:09:00                                   1.6   \n",
       "2018-05-21 01:12:00                                   1.6   \n",
       "\n",
       "2                    Givare: Nivå i smutstank, skalat värde  ...  \\\n",
       "Datetime                                                     ...   \n",
       "2018-05-21 01:00:00                                1.500000  ...   \n",
       "2018-05-21 01:03:00                                1.500000  ...   \n",
       "2018-05-21 01:06:00                                1.500000  ...   \n",
       "2018-05-21 01:09:00                                1.500000  ...   \n",
       "2018-05-21 01:12:00                                1.501333  ...   \n",
       "\n",
       "2                    Givare: Valskraft skevning par 2, skalat värde  \\\n",
       "Datetime                                                              \n",
       "2018-05-21 01:00:00                                        1.982192   \n",
       "2018-05-21 01:03:00                                        1.926126   \n",
       "2018-05-21 01:06:00                                        1.895000   \n",
       "2018-05-21 01:09:00                                        1.900000   \n",
       "2018-05-21 01:12:00                                        1.681250   \n",
       "\n",
       "2                    Givare: Valsoljetryck, skalat värde  \\\n",
       "Datetime                                                   \n",
       "2018-05-21 01:00:00                             1.850838   \n",
       "2018-05-21 01:03:00                             1.842697   \n",
       "2018-05-21 01:06:00                             1.847458   \n",
       "2018-05-21 01:09:00                             1.843182   \n",
       "2018-05-21 01:12:00                             1.853933   \n",
       "\n",
       "2                    Givare:Temp valsolja, skalat värde  Par 1: Diffvalskraft  \\\n",
       "Datetime                                                                        \n",
       "2018-05-21 01:00:00                           30.231818                   0.0   \n",
       "2018-05-21 01:03:00                           30.223404                   0.0   \n",
       "2018-05-21 01:06:00                           30.217647                   0.0   \n",
       "2018-05-21 01:09:00                           30.209677                   0.0   \n",
       "2018-05-21 01:12:00                           30.160000                   0.0   \n",
       "\n",
       "2                    Par 1: valskraft  Par 3: Diffvalskraft  Par 3: valskraft  \\\n",
       "Datetime                                                                        \n",
       "2018-05-21 01:00:00               0.0                  -4.9               4.9   \n",
       "2018-05-21 01:03:00               0.0                  -4.9               4.9   \n",
       "2018-05-21 01:06:00               0.0                  -4.9               4.9   \n",
       "2018-05-21 01:09:00               0.0                  -4.9               4.9   \n",
       "2018-05-21 01:12:00               0.0                  -4.9               4.9   \n",
       "\n",
       "2                    Posregulator valsspalt, ärvärde  \\\n",
       "Datetime                                               \n",
       "2018-05-21 01:00:00                              0.0   \n",
       "2018-05-21 01:03:00                              0.0   \n",
       "2018-05-21 01:06:00                              0.0   \n",
       "2018-05-21 01:09:00                              0.0   \n",
       "2018-05-21 01:12:00                              0.0   \n",
       "\n",
       "2                    Tjockleksmätare 2 , avvikelse  \\\n",
       "Datetime                                             \n",
       "2018-05-21 01:00:00                    -143.633333   \n",
       "2018-05-21 01:03:00                    -143.650000   \n",
       "2018-05-21 01:06:00                    -143.633333   \n",
       "2018-05-21 01:09:00                    -143.700000   \n",
       "2018-05-21 01:12:00                    -143.700000   \n",
       "\n",
       "2                    Tjockleksmätare 3 , avvikelse  \n",
       "Datetime                                            \n",
       "2018-05-21 01:00:00                         -144.7  \n",
       "2018-05-21 01:03:00                         -144.7  \n",
       "2018-05-21 01:06:00                         -144.7  \n",
       "2018-05-21 01:09:00                         -144.7  \n",
       "2018-05-21 01:12:00                         -144.7  \n",
       "\n",
       "[5 rows x 26 columns]"
      ]
     },
     "execution_count": 10,
     "metadata": {},
     "output_type": "execute_result"
    }
   ],
   "source": [
    "arkivb_df = arkivb_imputed_df\n",
    "arkivb_df.head()"
   ]
  },
  {
   "cell_type": "markdown",
   "metadata": {},
   "source": [
    "## Visualization"
   ]
  },
  {
   "cell_type": "code",
   "execution_count": 14,
   "metadata": {},
   "outputs": [
    {
     "data": {
      "image/png": "[encoded data removed]",
      "text/plain": [
       "<Figure size 1008x432 with 1 Axes>"
      ]
     },
     "metadata": {
      "needs_background": "light"
     },
     "output_type": "display_data"
    }
   ],
   "source": [
    "plt.figure(figsize=(14,6))\n",
    "sns.lineplot(data = arkivb_df['GIvare: Valsoljeflöde, skalat värde']);"
   ]
  },
  {
   "cell_type": "markdown",
   "metadata": {},
   "source": [
    "## Model"
   ]
  },
  {
   "cell_type": "code",
   "execution_count": 13,
   "metadata": {},
   "outputs": [
    {
     "data": {
      "image/png": "[encoded data removed]",
      "text/plain": [
       "<Figure size 1008x432 with 1 Axes>"
      ]
     },
     "metadata": {
      "needs_background": "light"
     },
     "output_type": "display_data"
    }
   ],
   "source": [
    "X = arkivb_df\n",
    "if_model = IsolationForest(contamination = 'auto', behaviour=\"new\")\n",
    "if_model.fit(X)\n",
    "if_score = if_model.decision_function(X)\n",
    "plt.figure(figsize=(14,6))\n",
    "sns.lineplot(x = X.index, y = if_score * 1000);\n",
    "#sns.lineplot(data = X['GIvare: Valsoljeflöde, skalat värde'])"
   ]
  }
 ],
 "metadata": {
  "kernelspec": {
   "display_name": "Python 3",
   "language": "python",
   "name": "python3"
  },
  "language_info": {
   "codemirror_mode": {
    "name": "ipython",
    "version": 3
   },
   "file_extension": ".py",
   "mimetype": "text/x-python",
   "name": "python",
   "nbconvert_exporter": "python",
   "pygments_lexer": "ipython3",
   "version": "3.7.4"
  },
  "toc": {
   "base_numbering": 1,
   "nav_menu": {},
   "number_sections": true,
   "sideBar": true,
   "skip_h1_title": true,
   "title_cell": "Table of Contents",
   "title_sidebar": "Contents",
   "toc_cell": true,
   "toc_position": {},
   "toc_section_display": true,
   "toc_window_display": true
  },
  "varInspector": {
   "cols": {
    "lenName": 16,
    "lenType": 16,
    "lenVar": 40
   },
   "kernels_config": {
    "python": {
     "delete_cmd_postfix": "",
     "delete_cmd_prefix": "del ",
     "library": "var_list.py",
     "varRefreshCmd": "print(var_dic_list())"
    },
    "r": {
     "delete_cmd_postfix": ") ",
     "delete_cmd_prefix": "rm(",
     "library": "var_list.r",
     "varRefreshCmd": "cat(var_dic_list()) "
    }
   },
   "types_to_exclude": [
    "module",
    "function",
    "builtin_function_or_method",
    "instance",
    "_Feature"
   ],
   "window_display": false
  }
 },
 "nbformat": 4,
 "nbformat_minor": 2
}
