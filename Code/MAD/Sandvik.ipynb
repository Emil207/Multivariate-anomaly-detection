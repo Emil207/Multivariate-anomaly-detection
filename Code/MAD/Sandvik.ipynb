{
 "cells": [
  {
   "cell_type": "markdown",
   "metadata": {},
   "source": [
    "## Import packages"
   ]
  },
  {
   "cell_type": "code",
   "execution_count": 141,
   "metadata": {},
   "outputs": [],
   "source": [
    "# Data manipulation\n",
    "import numpy as np\n",
    "import pandas as pd\n",
    "import glob, os\n",
    "import time\n",
    "\n",
    "# Data visualization\n",
    "import matplotlib.pyplot as plt\n",
    "import seaborn as sns\n",
    "\n",
    "# Modelling\n",
    "from sklearn.ensemble import IsolationForest \n",
    "from sklearn.model_selection import train_test_split\n",
    "from sklearn.metrics import mean_absolute_error"
   ]
  },
  {
   "cell_type": "markdown",
   "metadata": {},
   "source": [
    "## Preprocessing"
   ]
  },
  {
   "cell_type": "markdown",
   "metadata": {},
   "source": [
    "#### Load files"
   ]
  },
  {
   "cell_type": "code",
   "execution_count": 143,
   "metadata": {},
   "outputs": [
    {
     "ename": "KeyError",
     "evalue": "'[3 4] not found in axis'",
     "output_type": "error",
     "traceback": [
      "\u001b[0;31m---------------------------------------------------------------------------\u001b[0m",
      "\u001b[0;31mKeyError\u001b[0m                                  Traceback (most recent call last)",
      "\u001b[0;32m<ipython-input-143-c7a6f0af32a5>\u001b[0m in \u001b[0;36m<module>\u001b[0;34m\u001b[0m\n\u001b[1;32m     16\u001b[0m \u001b[0mdf_each_handelser\u001b[0m \u001b[0;34m=\u001b[0m \u001b[0;34m(\u001b[0m\u001b[0mpd\u001b[0m\u001b[0;34m.\u001b[0m\u001b[0mread_csv\u001b[0m\u001b[0;34m(\u001b[0m\u001b[0mf\u001b[0m\u001b[0;34m,\u001b[0m \u001b[0msep\u001b[0m\u001b[0;34m=\u001b[0m\u001b[0;34m';'\u001b[0m\u001b[0;34m,\u001b[0m \u001b[0mheader\u001b[0m \u001b[0;34m=\u001b[0m \u001b[0;32mNone\u001b[0m\u001b[0;34m,\u001b[0m \u001b[0mencoding\u001b[0m \u001b[0;34m=\u001b[0m \u001b[0;34m'unicode_escape'\u001b[0m\u001b[0;34m,\u001b[0m \u001b[0mparse_dates\u001b[0m \u001b[0;34m=\u001b[0m \u001b[0;34m[\u001b[0m\u001b[0;36m1\u001b[0m\u001b[0;34m]\u001b[0m\u001b[0;34m)\u001b[0m \u001b[0;32mfor\u001b[0m \u001b[0mf\u001b[0m \u001b[0;32min\u001b[0m \u001b[0mall_handelser\u001b[0m\u001b[0;34m)\u001b[0m\u001b[0;34m\u001b[0m\u001b[0;34m\u001b[0m\u001b[0m\n\u001b[1;32m     17\u001b[0m \u001b[0mhandelser_df1\u001b[0m \u001b[0;34m=\u001b[0m \u001b[0mpd\u001b[0m\u001b[0;34m.\u001b[0m\u001b[0mconcat\u001b[0m\u001b[0;34m(\u001b[0m\u001b[0mdf_each_handelser\u001b[0m\u001b[0;34m,\u001b[0m \u001b[0mignore_index\u001b[0m \u001b[0;34m=\u001b[0m \u001b[0;32mTrue\u001b[0m\u001b[0;34m)\u001b[0m\u001b[0;34m\u001b[0m\u001b[0;34m\u001b[0m\u001b[0m\n\u001b[0;32m---> 18\u001b[0;31m \u001b[0mhandelser_df\u001b[0m \u001b[0;34m=\u001b[0m \u001b[0mhandelser_df\u001b[0m\u001b[0;34m.\u001b[0m\u001b[0mdrop\u001b[0m\u001b[0;34m(\u001b[0m\u001b[0;34m[\u001b[0m\u001b[0;36m3\u001b[0m\u001b[0;34m,\u001b[0m \u001b[0;36m4\u001b[0m\u001b[0;34m]\u001b[0m\u001b[0;34m,\u001b[0m \u001b[0maxis\u001b[0m\u001b[0;34m=\u001b[0m\u001b[0;36m1\u001b[0m\u001b[0;34m)\u001b[0m\u001b[0;34m\u001b[0m\u001b[0;34m\u001b[0m\u001b[0m\n\u001b[0m\u001b[1;32m     19\u001b[0m \u001b[0;34m\u001b[0m\u001b[0m\n\u001b[1;32m     20\u001b[0m \u001b[0;31m# larm\u001b[0m\u001b[0;34m\u001b[0m\u001b[0;34m\u001b[0m\u001b[0;34m\u001b[0m\u001b[0m\n",
      "\u001b[0;32m~/anaconda3/envs/py37/lib/python3.7/site-packages/pandas/core/frame.py\u001b[0m in \u001b[0;36mdrop\u001b[0;34m(self, labels, axis, index, columns, level, inplace, errors)\u001b[0m\n\u001b[1;32m   4095\u001b[0m             \u001b[0mlevel\u001b[0m\u001b[0;34m=\u001b[0m\u001b[0mlevel\u001b[0m\u001b[0;34m,\u001b[0m\u001b[0;34m\u001b[0m\u001b[0;34m\u001b[0m\u001b[0m\n\u001b[1;32m   4096\u001b[0m             \u001b[0minplace\u001b[0m\u001b[0;34m=\u001b[0m\u001b[0minplace\u001b[0m\u001b[0;34m,\u001b[0m\u001b[0;34m\u001b[0m\u001b[0;34m\u001b[0m\u001b[0m\n\u001b[0;32m-> 4097\u001b[0;31m             \u001b[0merrors\u001b[0m\u001b[0;34m=\u001b[0m\u001b[0merrors\u001b[0m\u001b[0;34m,\u001b[0m\u001b[0;34m\u001b[0m\u001b[0;34m\u001b[0m\u001b[0m\n\u001b[0m\u001b[1;32m   4098\u001b[0m         )\n\u001b[1;32m   4099\u001b[0m \u001b[0;34m\u001b[0m\u001b[0m\n",
      "\u001b[0;32m~/anaconda3/envs/py37/lib/python3.7/site-packages/pandas/core/generic.py\u001b[0m in \u001b[0;36mdrop\u001b[0;34m(self, labels, axis, index, columns, level, inplace, errors)\u001b[0m\n\u001b[1;32m   3913\u001b[0m         \u001b[0;32mfor\u001b[0m \u001b[0maxis\u001b[0m\u001b[0;34m,\u001b[0m \u001b[0mlabels\u001b[0m \u001b[0;32min\u001b[0m \u001b[0maxes\u001b[0m\u001b[0;34m.\u001b[0m\u001b[0mitems\u001b[0m\u001b[0;34m(\u001b[0m\u001b[0;34m)\u001b[0m\u001b[0;34m:\u001b[0m\u001b[0;34m\u001b[0m\u001b[0;34m\u001b[0m\u001b[0m\n\u001b[1;32m   3914\u001b[0m             \u001b[0;32mif\u001b[0m \u001b[0mlabels\u001b[0m \u001b[0;32mis\u001b[0m \u001b[0;32mnot\u001b[0m \u001b[0;32mNone\u001b[0m\u001b[0;34m:\u001b[0m\u001b[0;34m\u001b[0m\u001b[0;34m\u001b[0m\u001b[0m\n\u001b[0;32m-> 3915\u001b[0;31m                 \u001b[0mobj\u001b[0m \u001b[0;34m=\u001b[0m \u001b[0mobj\u001b[0m\u001b[0;34m.\u001b[0m\u001b[0m_drop_axis\u001b[0m\u001b[0;34m(\u001b[0m\u001b[0mlabels\u001b[0m\u001b[0;34m,\u001b[0m \u001b[0maxis\u001b[0m\u001b[0;34m,\u001b[0m \u001b[0mlevel\u001b[0m\u001b[0;34m=\u001b[0m\u001b[0mlevel\u001b[0m\u001b[0;34m,\u001b[0m \u001b[0merrors\u001b[0m\u001b[0;34m=\u001b[0m\u001b[0merrors\u001b[0m\u001b[0;34m)\u001b[0m\u001b[0;34m\u001b[0m\u001b[0;34m\u001b[0m\u001b[0m\n\u001b[0m\u001b[1;32m   3916\u001b[0m \u001b[0;34m\u001b[0m\u001b[0m\n\u001b[1;32m   3917\u001b[0m         \u001b[0;32mif\u001b[0m \u001b[0minplace\u001b[0m\u001b[0;34m:\u001b[0m\u001b[0;34m\u001b[0m\u001b[0;34m\u001b[0m\u001b[0m\n",
      "\u001b[0;32m~/anaconda3/envs/py37/lib/python3.7/site-packages/pandas/core/generic.py\u001b[0m in \u001b[0;36m_drop_axis\u001b[0;34m(self, labels, axis, level, errors)\u001b[0m\n\u001b[1;32m   3945\u001b[0m                 \u001b[0mnew_axis\u001b[0m \u001b[0;34m=\u001b[0m \u001b[0maxis\u001b[0m\u001b[0;34m.\u001b[0m\u001b[0mdrop\u001b[0m\u001b[0;34m(\u001b[0m\u001b[0mlabels\u001b[0m\u001b[0;34m,\u001b[0m \u001b[0mlevel\u001b[0m\u001b[0;34m=\u001b[0m\u001b[0mlevel\u001b[0m\u001b[0;34m,\u001b[0m \u001b[0merrors\u001b[0m\u001b[0;34m=\u001b[0m\u001b[0merrors\u001b[0m\u001b[0;34m)\u001b[0m\u001b[0;34m\u001b[0m\u001b[0;34m\u001b[0m\u001b[0m\n\u001b[1;32m   3946\u001b[0m             \u001b[0;32melse\u001b[0m\u001b[0;34m:\u001b[0m\u001b[0;34m\u001b[0m\u001b[0;34m\u001b[0m\u001b[0m\n\u001b[0;32m-> 3947\u001b[0;31m                 \u001b[0mnew_axis\u001b[0m \u001b[0;34m=\u001b[0m \u001b[0maxis\u001b[0m\u001b[0;34m.\u001b[0m\u001b[0mdrop\u001b[0m\u001b[0;34m(\u001b[0m\u001b[0mlabels\u001b[0m\u001b[0;34m,\u001b[0m \u001b[0merrors\u001b[0m\u001b[0;34m=\u001b[0m\u001b[0merrors\u001b[0m\u001b[0;34m)\u001b[0m\u001b[0;34m\u001b[0m\u001b[0;34m\u001b[0m\u001b[0m\n\u001b[0m\u001b[1;32m   3948\u001b[0m             \u001b[0mresult\u001b[0m \u001b[0;34m=\u001b[0m \u001b[0mself\u001b[0m\u001b[0;34m.\u001b[0m\u001b[0mreindex\u001b[0m\u001b[0;34m(\u001b[0m\u001b[0;34m**\u001b[0m\u001b[0;34m{\u001b[0m\u001b[0maxis_name\u001b[0m\u001b[0;34m:\u001b[0m \u001b[0mnew_axis\u001b[0m\u001b[0;34m}\u001b[0m\u001b[0;34m)\u001b[0m\u001b[0;34m\u001b[0m\u001b[0;34m\u001b[0m\u001b[0m\n\u001b[1;32m   3949\u001b[0m \u001b[0;34m\u001b[0m\u001b[0m\n",
      "\u001b[0;32m~/anaconda3/envs/py37/lib/python3.7/site-packages/pandas/core/indexes/base.py\u001b[0m in \u001b[0;36mdrop\u001b[0;34m(self, labels, errors)\u001b[0m\n\u001b[1;32m   5331\u001b[0m         \u001b[0;32mif\u001b[0m \u001b[0mmask\u001b[0m\u001b[0;34m.\u001b[0m\u001b[0many\u001b[0m\u001b[0;34m(\u001b[0m\u001b[0;34m)\u001b[0m\u001b[0;34m:\u001b[0m\u001b[0;34m\u001b[0m\u001b[0;34m\u001b[0m\u001b[0m\n\u001b[1;32m   5332\u001b[0m             \u001b[0;32mif\u001b[0m \u001b[0merrors\u001b[0m \u001b[0;34m!=\u001b[0m \u001b[0;34m\"ignore\"\u001b[0m\u001b[0;34m:\u001b[0m\u001b[0;34m\u001b[0m\u001b[0;34m\u001b[0m\u001b[0m\n\u001b[0;32m-> 5333\u001b[0;31m                 \u001b[0;32mraise\u001b[0m \u001b[0mKeyError\u001b[0m\u001b[0;34m(\u001b[0m\u001b[0;34m\"{} not found in axis\"\u001b[0m\u001b[0;34m.\u001b[0m\u001b[0mformat\u001b[0m\u001b[0;34m(\u001b[0m\u001b[0mlabels\u001b[0m\u001b[0;34m[\u001b[0m\u001b[0mmask\u001b[0m\u001b[0;34m]\u001b[0m\u001b[0;34m)\u001b[0m\u001b[0;34m)\u001b[0m\u001b[0;34m\u001b[0m\u001b[0;34m\u001b[0m\u001b[0m\n\u001b[0m\u001b[1;32m   5334\u001b[0m             \u001b[0mindexer\u001b[0m \u001b[0;34m=\u001b[0m \u001b[0mindexer\u001b[0m\u001b[0;34m[\u001b[0m\u001b[0;34m~\u001b[0m\u001b[0mmask\u001b[0m\u001b[0;34m]\u001b[0m\u001b[0;34m\u001b[0m\u001b[0;34m\u001b[0m\u001b[0m\n\u001b[1;32m   5335\u001b[0m         \u001b[0;32mreturn\u001b[0m \u001b[0mself\u001b[0m\u001b[0;34m.\u001b[0m\u001b[0mdelete\u001b[0m\u001b[0;34m(\u001b[0m\u001b[0mindexer\u001b[0m\u001b[0;34m)\u001b[0m\u001b[0;34m\u001b[0m\u001b[0;34m\u001b[0m\u001b[0m\n",
      "\u001b[0;31mKeyError\u001b[0m: '[3 4] not found in axis'"
     ]
    }
   ],
   "source": [
    "# arkiv_B\n",
    "path_arkivb = '/Users/Emil/Data/Exjobbsdata/Sandvik/Data/CSV_2018_B_Arkiv_Sekund'\n",
    "all_arkivb = glob.glob(os.path.join(path_arkivb, \"*.TXT\")) #B1_2018_V21\n",
    "\n",
    "df_each_arkivb = (pd.read_csv(f, sep=';', header = None, encoding = 'unicode_escape') for f in all_arkivb)\n",
    "arkivb_df = pd.concat(df_each_arkivb, ignore_index = True)\n",
    "\n",
    "arkivb_df['Datetime'] = pd.to_datetime(arkivb_df[3] + ' ' + arkivb_df[4])\n",
    "arkivb_df = arkivb_df.drop([3, 4], axis = 1)"
   ]
  },
  {
   "cell_type": "code",
   "execution_count": null,
   "metadata": {},
   "outputs": [],
   "source": [
    "# handelser (sep 17- jun 18)\n",
    "path_handelser = '/Users/Emil/Data/Exjobbsdata/Sandvik/Data/Handelser'\n",
    "all_handelser = glob.glob(os.path.join(path_handelser, \"*.TXT\"))\n",
    "\n",
    "df_each_handelser = (pd.read_csv(f, sep=';', header = None, encoding = 'unicode_escape', parse_dates = [1]) for f in all_handelser)\n",
    "handelser_df1 = pd.concat(df_each_handelser, ignore_index = True)\n",
    "handelser_df = handelser_df.drop([3, 4], axis=1)"
   ]
  },
  {
   "cell_type": "code",
   "execution_count": null,
   "metadata": {},
   "outputs": [],
   "source": [
    "# larm\n",
    "#path_larm = '/Users/Emil/Data/Exjobbsdata/Sandvik/Data/Larm'\n",
    "#all_larm = glob.glob(os.path.join(path_larm, \"*.TXT\"))\n",
    "\n",
    "#df_each_larm = (pd.read_csv(f, sep=';', header = None, encoding = 'unicode_escape') for f in all_larm)\n",
    "#larm_df = pd.concat(df_each_larm, ignore_index = True)"
   ]
  },
  {
   "cell_type": "code",
   "execution_count": 144,
   "metadata": {},
   "outputs": [
    {
     "data": {
      "text/plain": [
       "(197875932, 5)"
      ]
     },
     "execution_count": 144,
     "metadata": {},
     "output_type": "execute_result"
    }
   ],
   "source": [
    "arkivb_df.shape"
   ]
  },
  {
   "cell_type": "markdown",
   "metadata": {},
   "source": [
    "#### Pivot data"
   ]
  },
  {
   "cell_type": "code",
   "execution_count": null,
   "metadata": {},
   "outputs": [],
   "source": [
    "arkivb_pivot_df = pd.pivot_table(arkivb_df, values=0, index='Datetime', columns=2)"
   ]
  },
  {
   "cell_type": "code",
   "execution_count": 134,
   "metadata": {},
   "outputs": [
    {
     "data": {
      "text/plain": [
       "(562364, 84)"
      ]
     },
     "execution_count": 134,
     "metadata": {},
     "output_type": "execute_result"
    }
   ],
   "source": [
    "arkivb_pibvot_df.shape"
   ]
  },
  {
   "cell_type": "markdown",
   "metadata": {},
   "source": [
    "#### Group by time"
   ]
  },
  {
   "cell_type": "code",
   "execution_count": 25,
   "metadata": {},
   "outputs": [
    {
     "data": {
      "text/plain": [
       "(3361, 84)"
      ]
     },
     "execution_count": 25,
     "metadata": {},
     "output_type": "execute_result"
    }
   ],
   "source": [
    "arkivb_grouped_df = arkivb_pivot_df.resample(\"3T\").mean()\n",
    "arkivb_grouped_df.shape"
   ]
  },
  {
   "cell_type": "markdown",
   "metadata": {},
   "source": [
    "#### Erasing if variance is zero"
   ]
  },
  {
   "cell_type": "code",
   "execution_count": 26,
   "metadata": {},
   "outputs": [
    {
     "data": {
      "text/plain": [
       "(3361, 73)"
      ]
     },
     "execution_count": 26,
     "metadata": {},
     "output_type": "execute_result"
    }
   ],
   "source": [
    "# Drop columns with zero variance (constant)\n",
    "cols_without_variance = [col for col in grouped_df.columns if (grouped_df[col].var() == 0)]\n",
    "variance_df = grouped_df.drop(cols_without_variance, axis=1)\n",
    "\n",
    "# Resulting shape\n",
    "variance_df.shape"
   ]
  },
  {
   "cell_type": "markdown",
   "metadata": {},
   "source": [
    "#### Handling missing values and imputing"
   ]
  },
  {
   "cell_type": "code",
   "execution_count": 27,
   "metadata": {
    "scrolled": true
   },
   "outputs": [
    {
     "data": {
      "text/plain": [
       "(3361, 30)"
      ]
     },
     "execution_count": 27,
     "metadata": {},
     "output_type": "execute_result"
    }
   ],
   "source": [
    "# Specify acceptence percent of missing data\n",
    "cut_off = 0.8 \n",
    "\n",
    "# Drop columns with missing data\n",
    "missing_df = variance_df.dropna(thresh = cut_off*len(variance_df.index), axis = 1)\n",
    "\n",
    "# Impute missing values with linear function\n",
    "imputed_df = missing_df.interpolate(axis=0)\n",
    "\n",
    "# Resulting shape\n",
    "missing_df.shape"
   ]
  },
  {
   "cell_type": "markdown",
   "metadata": {},
   "source": [
    "#### Resulting dataframe"
   ]
  },
  {
   "cell_type": "code",
   "execution_count": 28,
   "metadata": {},
   "outputs": [
    {
     "data": {
      "text/html": [
       "<div>\n",
       "<style scoped>\n",
       "    .dataframe tbody tr th:only-of-type {\n",
       "        vertical-align: middle;\n",
       "    }\n",
       "\n",
       "    .dataframe tbody tr th {\n",
       "        vertical-align: top;\n",
       "    }\n",
       "\n",
       "    .dataframe thead th {\n",
       "        text-align: right;\n",
       "    }\n",
       "</style>\n",
       "<table border=\"1\" class=\"dataframe\">\n",
       "  <thead>\n",
       "    <tr style=\"text-align: right;\">\n",
       "      <th>2</th>\n",
       "      <th>10AH.DRI: Drivning avhaspel,  akt specifikt drag</th>\n",
       "      <th>11PAR.DRI: Drivning valspar 1,  akt specifikt drag</th>\n",
       "      <th>11PAR.DRI: Drivning valspar 1, akt bandhastighet</th>\n",
       "      <th>12PAR.DRI: Drivning valspar 2,  akt specifikt drag</th>\n",
       "      <th>13PAR.DRI: Drivning valspar 3,  akt specifikt drag</th>\n",
       "      <th>14PH.DRI: Drivning påhaspel,  akt specifikt drag</th>\n",
       "      <th>GIvare: Valsoljeflöde, skalat värde</th>\n",
       "      <th>Givare: Diametermätare avhaspel, skalat värde</th>\n",
       "      <th>Givare: Flöde från filter 1 till rentank, skalat värde</th>\n",
       "      <th>Givare: Flöde från filter 2 till rentank, skalat värde</th>\n",
       "      <th>...</th>\n",
       "      <th>Givare:Temp valsolja, skalat värde</th>\n",
       "      <th>Hastighet par 3</th>\n",
       "      <th>Par 1: Diffvalskraft</th>\n",
       "      <th>Par 1: valskraft</th>\n",
       "      <th>Par 3: Diffvalskraft</th>\n",
       "      <th>Par 3: valskraft</th>\n",
       "      <th>Posregulator valsspalt, ärvärde</th>\n",
       "      <th>Tjockleksmätare 1 , avvikelse</th>\n",
       "      <th>Tjockleksmätare 2 , avvikelse</th>\n",
       "      <th>Tjockleksmätare 3 , avvikelse</th>\n",
       "    </tr>\n",
       "    <tr>\n",
       "      <th>Datetime</th>\n",
       "      <th></th>\n",
       "      <th></th>\n",
       "      <th></th>\n",
       "      <th></th>\n",
       "      <th></th>\n",
       "      <th></th>\n",
       "      <th></th>\n",
       "      <th></th>\n",
       "      <th></th>\n",
       "      <th></th>\n",
       "      <th></th>\n",
       "      <th></th>\n",
       "      <th></th>\n",
       "      <th></th>\n",
       "      <th></th>\n",
       "      <th></th>\n",
       "      <th></th>\n",
       "      <th></th>\n",
       "      <th></th>\n",
       "      <th></th>\n",
       "      <th></th>\n",
       "    </tr>\n",
       "  </thead>\n",
       "  <tbody>\n",
       "    <tr>\n",
       "      <th>2018-05-21 01:00:00</th>\n",
       "      <td>0.0</td>\n",
       "      <td>0.600559</td>\n",
       "      <td>0.0</td>\n",
       "      <td>0.926163</td>\n",
       "      <td>0.0</td>\n",
       "      <td>0.878771</td>\n",
       "      <td>283.634545</td>\n",
       "      <td>185.455085</td>\n",
       "      <td>324.419512</td>\n",
       "      <td>327.753659</td>\n",
       "      <td>...</td>\n",
       "      <td>30.231818</td>\n",
       "      <td>0.0</td>\n",
       "      <td>0.0</td>\n",
       "      <td>0.0</td>\n",
       "      <td>-4.9</td>\n",
       "      <td>4.9</td>\n",
       "      <td>0.0</td>\n",
       "      <td>-186.4</td>\n",
       "      <td>-143.633333</td>\n",
       "      <td>-144.7</td>\n",
       "    </tr>\n",
       "    <tr>\n",
       "      <th>2018-05-21 01:03:00</th>\n",
       "      <td>0.0</td>\n",
       "      <td>0.635196</td>\n",
       "      <td>0.0</td>\n",
       "      <td>1.065363</td>\n",
       "      <td>0.0</td>\n",
       "      <td>0.929609</td>\n",
       "      <td>283.468142</td>\n",
       "      <td>185.251471</td>\n",
       "      <td>324.319178</td>\n",
       "      <td>327.750617</td>\n",
       "      <td>...</td>\n",
       "      <td>30.223404</td>\n",
       "      <td>0.0</td>\n",
       "      <td>0.0</td>\n",
       "      <td>0.0</td>\n",
       "      <td>-4.9</td>\n",
       "      <td>4.9</td>\n",
       "      <td>0.0</td>\n",
       "      <td>-186.4</td>\n",
       "      <td>-143.650000</td>\n",
       "      <td>-144.7</td>\n",
       "    </tr>\n",
       "    <tr>\n",
       "      <th>2018-05-21 01:06:00</th>\n",
       "      <td>0.0</td>\n",
       "      <td>0.650556</td>\n",
       "      <td>0.0</td>\n",
       "      <td>1.102222</td>\n",
       "      <td>0.0</td>\n",
       "      <td>0.970556</td>\n",
       "      <td>283.455263</td>\n",
       "      <td>185.323932</td>\n",
       "      <td>324.227027</td>\n",
       "      <td>327.780303</td>\n",
       "      <td>...</td>\n",
       "      <td>30.217647</td>\n",
       "      <td>0.0</td>\n",
       "      <td>0.0</td>\n",
       "      <td>0.0</td>\n",
       "      <td>-4.9</td>\n",
       "      <td>4.9</td>\n",
       "      <td>0.0</td>\n",
       "      <td>-186.4</td>\n",
       "      <td>-143.633333</td>\n",
       "      <td>-144.7</td>\n",
       "    </tr>\n",
       "    <tr>\n",
       "      <th>2018-05-21 01:09:00</th>\n",
       "      <td>0.0</td>\n",
       "      <td>0.658989</td>\n",
       "      <td>0.0</td>\n",
       "      <td>1.145506</td>\n",
       "      <td>0.0</td>\n",
       "      <td>0.990449</td>\n",
       "      <td>283.434951</td>\n",
       "      <td>185.386260</td>\n",
       "      <td>324.168919</td>\n",
       "      <td>327.752542</td>\n",
       "      <td>...</td>\n",
       "      <td>30.209677</td>\n",
       "      <td>0.0</td>\n",
       "      <td>0.0</td>\n",
       "      <td>0.0</td>\n",
       "      <td>-4.9</td>\n",
       "      <td>4.9</td>\n",
       "      <td>0.0</td>\n",
       "      <td>-186.4</td>\n",
       "      <td>-143.700000</td>\n",
       "      <td>-144.7</td>\n",
       "    </tr>\n",
       "    <tr>\n",
       "      <th>2018-05-21 01:12:00</th>\n",
       "      <td>0.0</td>\n",
       "      <td>0.648045</td>\n",
       "      <td>0.0</td>\n",
       "      <td>1.070391</td>\n",
       "      <td>0.0</td>\n",
       "      <td>0.967039</td>\n",
       "      <td>283.511864</td>\n",
       "      <td>185.664815</td>\n",
       "      <td>324.360294</td>\n",
       "      <td>327.891304</td>\n",
       "      <td>...</td>\n",
       "      <td>30.160000</td>\n",
       "      <td>0.0</td>\n",
       "      <td>0.0</td>\n",
       "      <td>0.0</td>\n",
       "      <td>-4.9</td>\n",
       "      <td>4.9</td>\n",
       "      <td>0.0</td>\n",
       "      <td>-186.4</td>\n",
       "      <td>-143.700000</td>\n",
       "      <td>-144.7</td>\n",
       "    </tr>\n",
       "  </tbody>\n",
       "</table>\n",
       "<p>5 rows × 30 columns</p>\n",
       "</div>"
      ],
      "text/plain": [
       "2                    10AH.DRI: Drivning avhaspel,  akt specifikt drag  \\\n",
       "Datetime                                                                \n",
       "2018-05-21 01:00:00                                               0.0   \n",
       "2018-05-21 01:03:00                                               0.0   \n",
       "2018-05-21 01:06:00                                               0.0   \n",
       "2018-05-21 01:09:00                                               0.0   \n",
       "2018-05-21 01:12:00                                               0.0   \n",
       "\n",
       "2                    11PAR.DRI: Drivning valspar 1,  akt specifikt drag  \\\n",
       "Datetime                                                                  \n",
       "2018-05-21 01:00:00                                           0.600559    \n",
       "2018-05-21 01:03:00                                           0.635196    \n",
       "2018-05-21 01:06:00                                           0.650556    \n",
       "2018-05-21 01:09:00                                           0.658989    \n",
       "2018-05-21 01:12:00                                           0.648045    \n",
       "\n",
       "2                    11PAR.DRI: Drivning valspar 1, akt bandhastighet  \\\n",
       "Datetime                                                                \n",
       "2018-05-21 01:00:00                                               0.0   \n",
       "2018-05-21 01:03:00                                               0.0   \n",
       "2018-05-21 01:06:00                                               0.0   \n",
       "2018-05-21 01:09:00                                               0.0   \n",
       "2018-05-21 01:12:00                                               0.0   \n",
       "\n",
       "2                    12PAR.DRI: Drivning valspar 2,  akt specifikt drag  \\\n",
       "Datetime                                                                  \n",
       "2018-05-21 01:00:00                                           0.926163    \n",
       "2018-05-21 01:03:00                                           1.065363    \n",
       "2018-05-21 01:06:00                                           1.102222    \n",
       "2018-05-21 01:09:00                                           1.145506    \n",
       "2018-05-21 01:12:00                                           1.070391    \n",
       "\n",
       "2                    13PAR.DRI: Drivning valspar 3,  akt specifikt drag  \\\n",
       "Datetime                                                                  \n",
       "2018-05-21 01:00:00                                                0.0    \n",
       "2018-05-21 01:03:00                                                0.0    \n",
       "2018-05-21 01:06:00                                                0.0    \n",
       "2018-05-21 01:09:00                                                0.0    \n",
       "2018-05-21 01:12:00                                                0.0    \n",
       "\n",
       "2                    14PH.DRI: Drivning påhaspel,  akt specifikt drag  \\\n",
       "Datetime                                                                \n",
       "2018-05-21 01:00:00                                          0.878771   \n",
       "2018-05-21 01:03:00                                          0.929609   \n",
       "2018-05-21 01:06:00                                          0.970556   \n",
       "2018-05-21 01:09:00                                          0.990449   \n",
       "2018-05-21 01:12:00                                          0.967039   \n",
       "\n",
       "2                    GIvare: Valsoljeflöde, skalat värde  \\\n",
       "Datetime                                                   \n",
       "2018-05-21 01:00:00                           283.634545   \n",
       "2018-05-21 01:03:00                           283.468142   \n",
       "2018-05-21 01:06:00                           283.455263   \n",
       "2018-05-21 01:09:00                           283.434951   \n",
       "2018-05-21 01:12:00                           283.511864   \n",
       "\n",
       "2                    Givare: Diametermätare avhaspel, skalat värde  \\\n",
       "Datetime                                                             \n",
       "2018-05-21 01:00:00                                     185.455085   \n",
       "2018-05-21 01:03:00                                     185.251471   \n",
       "2018-05-21 01:06:00                                     185.323932   \n",
       "2018-05-21 01:09:00                                     185.386260   \n",
       "2018-05-21 01:12:00                                     185.664815   \n",
       "\n",
       "2                    Givare: Flöde från filter 1 till rentank, skalat värde  \\\n",
       "Datetime                                                                      \n",
       "2018-05-21 01:00:00                                         324.419512        \n",
       "2018-05-21 01:03:00                                         324.319178        \n",
       "2018-05-21 01:06:00                                         324.227027        \n",
       "2018-05-21 01:09:00                                         324.168919        \n",
       "2018-05-21 01:12:00                                         324.360294        \n",
       "\n",
       "2                    Givare: Flöde från filter 2 till rentank, skalat värde  \\\n",
       "Datetime                                                                      \n",
       "2018-05-21 01:00:00                                         327.753659        \n",
       "2018-05-21 01:03:00                                         327.750617        \n",
       "2018-05-21 01:06:00                                         327.780303        \n",
       "2018-05-21 01:09:00                                         327.752542        \n",
       "2018-05-21 01:12:00                                         327.891304        \n",
       "\n",
       "2                    ...  Givare:Temp valsolja, skalat värde  Hastighet par 3  \\\n",
       "Datetime             ...                                                        \n",
       "2018-05-21 01:00:00  ...                           30.231818              0.0   \n",
       "2018-05-21 01:03:00  ...                           30.223404              0.0   \n",
       "2018-05-21 01:06:00  ...                           30.217647              0.0   \n",
       "2018-05-21 01:09:00  ...                           30.209677              0.0   \n",
       "2018-05-21 01:12:00  ...                           30.160000              0.0   \n",
       "\n",
       "2                    Par 1: Diffvalskraft  Par 1: valskraft  \\\n",
       "Datetime                                                      \n",
       "2018-05-21 01:00:00                   0.0               0.0   \n",
       "2018-05-21 01:03:00                   0.0               0.0   \n",
       "2018-05-21 01:06:00                   0.0               0.0   \n",
       "2018-05-21 01:09:00                   0.0               0.0   \n",
       "2018-05-21 01:12:00                   0.0               0.0   \n",
       "\n",
       "2                    Par 3: Diffvalskraft  Par 3: valskraft  \\\n",
       "Datetime                                                      \n",
       "2018-05-21 01:00:00                  -4.9               4.9   \n",
       "2018-05-21 01:03:00                  -4.9               4.9   \n",
       "2018-05-21 01:06:00                  -4.9               4.9   \n",
       "2018-05-21 01:09:00                  -4.9               4.9   \n",
       "2018-05-21 01:12:00                  -4.9               4.9   \n",
       "\n",
       "2                    Posregulator valsspalt, ärvärde  \\\n",
       "Datetime                                               \n",
       "2018-05-21 01:00:00                              0.0   \n",
       "2018-05-21 01:03:00                              0.0   \n",
       "2018-05-21 01:06:00                              0.0   \n",
       "2018-05-21 01:09:00                              0.0   \n",
       "2018-05-21 01:12:00                              0.0   \n",
       "\n",
       "2                    Tjockleksmätare 1 , avvikelse  \\\n",
       "Datetime                                             \n",
       "2018-05-21 01:00:00                         -186.4   \n",
       "2018-05-21 01:03:00                         -186.4   \n",
       "2018-05-21 01:06:00                         -186.4   \n",
       "2018-05-21 01:09:00                         -186.4   \n",
       "2018-05-21 01:12:00                         -186.4   \n",
       "\n",
       "2                    Tjockleksmätare 2 , avvikelse  \\\n",
       "Datetime                                             \n",
       "2018-05-21 01:00:00                    -143.633333   \n",
       "2018-05-21 01:03:00                    -143.650000   \n",
       "2018-05-21 01:06:00                    -143.633333   \n",
       "2018-05-21 01:09:00                    -143.700000   \n",
       "2018-05-21 01:12:00                    -143.700000   \n",
       "\n",
       "2                    Tjockleksmätare 3 , avvikelse  \n",
       "Datetime                                            \n",
       "2018-05-21 01:00:00                         -144.7  \n",
       "2018-05-21 01:03:00                         -144.7  \n",
       "2018-05-21 01:06:00                         -144.7  \n",
       "2018-05-21 01:09:00                         -144.7  \n",
       "2018-05-21 01:12:00                         -144.7  \n",
       "\n",
       "[5 rows x 30 columns]"
      ]
     },
     "execution_count": 28,
     "metadata": {},
     "output_type": "execute_result"
    }
   ],
   "source": [
    "df = imputed_df\n",
    "df.head()"
   ]
  },
  {
   "cell_type": "markdown",
   "metadata": {},
   "source": [
    "## Visualization"
   ]
  },
  {
   "cell_type": "code",
   "execution_count": 94,
   "metadata": {},
   "outputs": [
    {
     "data": {
      "text/plain": [
       "<matplotlib.axes._subplots.AxesSubplot at 0x1ad3c88410>"
      ]
     },
     "execution_count": 94,
     "metadata": {},
     "output_type": "execute_result"
    },
    {
     "data": {
      "image/png": "[encoded data removed]",
      "text/plain": [
       "<Figure size 1008x432 with 1 Axes>"
      ]
     },
     "metadata": {
      "needs_background": "light"
     },
     "output_type": "display_data"
    }
   ],
   "source": [
    "plt.figure(figsize=(14,6))\n",
    "sns.lineplot(data = df['Tjockleksmätare 3 , avvikelse'])"
   ]
  },
  {
   "cell_type": "markdown",
   "metadata": {},
   "source": [
    "## Model"
   ]
  },
  {
   "cell_type": "code",
   "execution_count": 139,
   "metadata": {},
   "outputs": [
    {
     "data": {
      "text/plain": [
       "<matplotlib.axes._subplots.AxesSubplot at 0x1a97b38e50>"
      ]
     },
     "execution_count": 139,
     "metadata": {},
     "output_type": "execute_result"
    },
    {
     "data": {
      "image/png": "[encoded data removed]",
      "text/plain": [
       "<Figure size 1008x432 with 1 Axes>"
      ]
     },
     "metadata": {
      "needs_background": "light"
     },
     "output_type": "display_data"
    }
   ],
   "source": [
    "# Choose target and features\n",
    "X = df\n",
    "#y = # insert annotated data \n",
    "#train_X, val_X, train_y, val_y = train_test_split(X, y,random_state = 0)\n",
    "\n",
    "if_model = IsolationForest(contamination = 'auto', behaviour=\"new\")\n",
    "if_model.fit(X)\n",
    "if_score = if_model.decision_function(X)\n",
    "\n",
    "plt.figure(figsize=(14,6))\n",
    "sns.lineplot(data = if_score)"
   ]
  },
  {
   "cell_type": "code",
   "execution_count": 140,
   "metadata": {},
   "outputs": [
    {
     "data": {
      "text/html": [
       "<div>\n",
       "<style scoped>\n",
       "    .dataframe tbody tr th:only-of-type {\n",
       "        vertical-align: middle;\n",
       "    }\n",
       "\n",
       "    .dataframe tbody tr th {\n",
       "        vertical-align: top;\n",
       "    }\n",
       "\n",
       "    .dataframe thead th {\n",
       "        text-align: right;\n",
       "    }\n",
       "</style>\n",
       "<table border=\"1\" class=\"dataframe\">\n",
       "  <thead>\n",
       "    <tr style=\"text-align: right;\">\n",
       "      <th></th>\n",
       "      <th>0</th>\n",
       "      <th>1</th>\n",
       "      <th>2</th>\n",
       "    </tr>\n",
       "  </thead>\n",
       "  <tbody>\n",
       "    <tr>\n",
       "      <th>0</th>\n",
       "      <td>HMI_AI._10AH_BG1041.STATUS</td>\n",
       "      <td>2017-09-01 01:48:36</td>\n",
       "      <td>Låg</td>\n",
       "    </tr>\n",
       "    <tr>\n",
       "      <th>1</th>\n",
       "      <td>HMI_AI._12TJM_BT1284_1.STATUS</td>\n",
       "      <td>2017-09-01 06:08:21</td>\n",
       "      <td>Låg</td>\n",
       "    </tr>\n",
       "    <tr>\n",
       "      <th>2</th>\n",
       "      <td>HMI_AI._12TJM_BT1284_1.STATUS</td>\n",
       "      <td>2017-09-01 07:51:42</td>\n",
       "      <td>Låg</td>\n",
       "    </tr>\n",
       "    <tr>\n",
       "      <th>3</th>\n",
       "      <td>HMI_AI._12TJM_BT1284_1.STATUS</td>\n",
       "      <td>2017-09-01 09:06:17</td>\n",
       "      <td>Låg</td>\n",
       "    </tr>\n",
       "    <tr>\n",
       "      <th>4</th>\n",
       "      <td>HMI_AI._12TJM_BT1284_1.STATUS</td>\n",
       "      <td>2017-09-01 10:21:16</td>\n",
       "      <td>Låg</td>\n",
       "    </tr>\n",
       "  </tbody>\n",
       "</table>\n",
       "</div>"
      ],
      "text/plain": [
       "                               0                   1    2\n",
       "0     HMI_AI._10AH_BG1041.STATUS 2017-09-01 01:48:36  Låg\n",
       "1  HMI_AI._12TJM_BT1284_1.STATUS 2017-09-01 06:08:21  Låg\n",
       "2  HMI_AI._12TJM_BT1284_1.STATUS 2017-09-01 07:51:42  Låg\n",
       "3  HMI_AI._12TJM_BT1284_1.STATUS 2017-09-01 09:06:17  Låg\n",
       "4  HMI_AI._12TJM_BT1284_1.STATUS 2017-09-01 10:21:16  Låg"
      ]
     },
     "execution_count": 140,
     "metadata": {},
     "output_type": "execute_result"
    }
   ],
   "source": [
    "handelser_df.head()"
   ]
  },
  {
   "cell_type": "code",
   "execution_count": null,
   "metadata": {},
   "outputs": [],
   "source": []
  }
 ],
 "metadata": {
  "kernelspec": {
   "display_name": "Python 3",
   "language": "python",
   "name": "python3"
  },
  "language_info": {
   "codemirror_mode": {
    "name": "ipython",
    "version": 3
   },
   "file_extension": ".py",
   "mimetype": "text/x-python",
   "name": "python",
   "nbconvert_exporter": "python",
   "pygments_lexer": "ipython3",
   "version": "3.7.4"
  }
 },
 "nbformat": 4,
 "nbformat_minor": 2
}
