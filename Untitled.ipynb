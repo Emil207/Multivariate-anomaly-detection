{
 "cells": [
  {
   "cell_type": "code",
   "execution_count": 2,
   "metadata": {},
   "outputs": [],
   "source": [
    "import tensorflow as tf"
   ]
  },
  {
   "cell_type": "code",
   "execution_count": 4,
   "metadata": {},
   "outputs": [],
   "source": [
    "# time series\n",
    "samples = 1\n",
    "timesteps = 4\n",
    "features = 1\n",
    "\n",
    "# generator\n",
    "Z = np.random.normal(size=[samples, timesteps, features])\n",
    "hidden_units = 5\n"
   ]
  },
  {
   "cell_type": "code",
   "execution_count": 1,
   "metadata": {},
   "outputs": [],
   "source": [
    "def generator(z, hidden_units_g, seq_length, batch_size, num_signals, reuse=False, parameters=None, learn_scale=True):\n",
    "\n",
    "    \"\"\"\n",
    "    If parameters are supplied, initialise as such\n",
    "    \"\"\"\n",
    "    with tf.variable_scope(\"generator\") as scope:\n",
    "        if reuse:\n",
    "            scope.reuse_variables()\n",
    "        if parameters is None:\n",
    "            W_out_G_initializer = tf.truncated_normal_initializer()\n",
    "            b_out_G_initializer = tf.truncated_normal_initializer()\n",
    "            scale_out_G_initializer = tf.constant_initializer(value=1.0)\n",
    "            lstm_initializer = None\n",
    "            bias_start = 1.0\n",
    "        else:\n",
    "            W_out_G_initializer = tf.constant_initializer(value=parameters['generator/W_out_G:0'])\n",
    "            b_out_G_initializer = tf.constant_initializer(value=parameters['generator/b_out_G:0'])\n",
    "            try:\n",
    "                scale_out_G_initializer = tf.constant_initializer(value=parameters['generator/scale_out_G:0'])\n",
    "            except KeyError:\n",
    "                scale_out_G_initializer = tf.constant_initializer(value=1)\n",
    "                assert learn_scale\n",
    "            lstm_initializer = tf.constant_initializer(value=parameters['generator/rnn/lstm_cell/weights:0'])\n",
    "            bias_start = parameters['generator/rnn/lstm_cell/biases:0']\n",
    "\n",
    "        W_out_G = tf.get_variable(name='W_out_G', shape=[hidden_units_g, num_signals],\n",
    "                                  initializer=W_out_G_initializer)\n",
    "        b_out_G = tf.get_variable(name='b_out_G', shape=num_signals, initializer=b_out_G_initializer)\n",
    "        scale_out_G = tf.get_variable(name='scale_out_G', shape=1, initializer=scale_out_G_initializer,\n",
    "                                      trainable=learn_scale)\n",
    "        # inputs\n",
    "        inputs = z\n",
    "\n",
    "        cell = LSTMCell(num_units=hidden_units_g,\n",
    "                        state_is_tuple=True,\n",
    "                        initializer=lstm_initializer,\n",
    "                        bias_start=bias_start,\n",
    "                        reuse=reuse)\n",
    "        rnn_outputs, rnn_states = tf.nn.dynamic_rnn(\n",
    "            cell=cell,\n",
    "            dtype=tf.float32,\n",
    "            sequence_length=[seq_length] * batch_size,\n",
    "            inputs=inputs)\n",
    "        rnn_outputs_2d = tf.reshape(rnn_outputs, [-1, hidden_units_g])\n",
    "        logits_2d = tf.matmul(rnn_outputs_2d, W_out_G) + b_out_G #out put weighted sum\n",
    "        #        output_2d = tf.multiply(tf.nn.tanh(logits_2d), scale_out_G)\n",
    "        output_2d = tf.nn.tanh(logits_2d) # logits operation [-1, 1]\n",
    "        output_3d = tf.reshape(output_2d, [-1, seq_length, num_signals])\n",
    "\n",
    "    return output_3d"
   ]
  },
  {
   "cell_type": "code",
   "execution_count": 5,
   "metadata": {},
   "outputs": [
    {
     "ename": "AttributeError",
     "evalue": "module 'tensorflow' has no attribute 'variable_scope'",
     "output_type": "error",
     "traceback": [
      "\u001b[0;31m---------------------------------------------------------------------------\u001b[0m",
      "\u001b[0;31mAttributeError\u001b[0m                            Traceback (most recent call last)",
      "\u001b[0;32m<ipython-input-5-a01e53cea39b>\u001b[0m in \u001b[0;36m<module>\u001b[0;34m\u001b[0m\n\u001b[0;32m----> 1\u001b[0;31m \u001b[0mgenerator\u001b[0m\u001b[0;34m(\u001b[0m\u001b[0mZ\u001b[0m\u001b[0;34m,\u001b[0m \u001b[0mhidden_units\u001b[0m\u001b[0;34m,\u001b[0m \u001b[0mtimesteps\u001b[0m\u001b[0;34m,\u001b[0m \u001b[0msamples\u001b[0m\u001b[0;34m,\u001b[0m \u001b[0mfeatures\u001b[0m\u001b[0;34m)\u001b[0m\u001b[0;34m\u001b[0m\u001b[0;34m\u001b[0m\u001b[0m\n\u001b[0m",
      "\u001b[0;32m<ipython-input-1-8e5e28b6bf1f>\u001b[0m in \u001b[0;36mgenerator\u001b[0;34m(z, hidden_units_g, seq_length, batch_size, num_signals, reuse, parameters, learn_scale)\u001b[0m\n\u001b[1;32m      4\u001b[0m     \u001b[0mIf\u001b[0m \u001b[0mparameters\u001b[0m \u001b[0mare\u001b[0m \u001b[0msupplied\u001b[0m\u001b[0;34m,\u001b[0m \u001b[0minitialise\u001b[0m \u001b[0;32mas\u001b[0m \u001b[0msuch\u001b[0m\u001b[0;34m\u001b[0m\u001b[0;34m\u001b[0m\u001b[0m\n\u001b[1;32m      5\u001b[0m     \"\"\"\n\u001b[0;32m----> 6\u001b[0;31m     \u001b[0;32mwith\u001b[0m \u001b[0mtf\u001b[0m\u001b[0;34m.\u001b[0m\u001b[0mvariable_scope\u001b[0m\u001b[0;34m(\u001b[0m\u001b[0;34m\"generator\"\u001b[0m\u001b[0;34m)\u001b[0m \u001b[0;32mas\u001b[0m \u001b[0mscope\u001b[0m\u001b[0;34m:\u001b[0m\u001b[0;34m\u001b[0m\u001b[0;34m\u001b[0m\u001b[0m\n\u001b[0m\u001b[1;32m      7\u001b[0m         \u001b[0;32mif\u001b[0m \u001b[0mreuse\u001b[0m\u001b[0;34m:\u001b[0m\u001b[0;34m\u001b[0m\u001b[0;34m\u001b[0m\u001b[0m\n\u001b[1;32m      8\u001b[0m             \u001b[0mscope\u001b[0m\u001b[0;34m.\u001b[0m\u001b[0mreuse_variables\u001b[0m\u001b[0;34m(\u001b[0m\u001b[0;34m)\u001b[0m\u001b[0;34m\u001b[0m\u001b[0;34m\u001b[0m\u001b[0m\n",
      "\u001b[0;31mAttributeError\u001b[0m: module 'tensorflow' has no attribute 'variable_scope'"
     ]
    }
   ],
   "source": [
    "generator(Z, hidden_units, timesteps, samples, features)"
   ]
  },
  {
   "cell_type": "code",
   "execution_count": null,
   "metadata": {},
   "outputs": [],
   "source": []
  }
 ],
 "metadata": {
  "kernelspec": {
   "display_name": "Python 3",
   "language": "python",
   "name": "python3"
  },
  "language_info": {
   "codemirror_mode": {
    "name": "ipython",
    "version": 3
   },
   "file_extension": ".py",
   "mimetype": "text/x-python",
   "name": "python",
   "nbconvert_exporter": "python",
   "pygments_lexer": "ipython3",
   "version": "3.7.4"
  },
  "toc": {
   "base_numbering": 1,
   "nav_menu": {},
   "number_sections": true,
   "sideBar": true,
   "skip_h1_title": true,
   "title_cell": "Table of Contents",
   "title_sidebar": "Contents",
   "toc_cell": false,
   "toc_position": {},
   "toc_section_display": true,
   "toc_window_display": false
  },
  "varInspector": {
   "cols": {
    "lenName": 16,
    "lenType": 16,
    "lenVar": 40
   },
   "kernels_config": {
    "python": {
     "delete_cmd_postfix": "",
     "delete_cmd_prefix": "del ",
     "library": "var_list.py",
     "varRefreshCmd": "print(var_dic_list())"
    },
    "r": {
     "delete_cmd_postfix": ") ",
     "delete_cmd_prefix": "rm(",
     "library": "var_list.r",
     "varRefreshCmd": "cat(var_dic_list()) "
    }
   },
   "types_to_exclude": [
    "module",
    "function",
    "builtin_function_or_method",
    "instance",
    "_Feature"
   ],
   "window_display": false
  }
 },
 "nbformat": 4,
 "nbformat_minor": 2
}
